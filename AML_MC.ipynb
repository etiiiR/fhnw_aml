{
 "cells": [
  {
   "cell_type": "raw",
   "id": "e674a206",
   "metadata": {},
   "source": [
    "title:  AML Challenge 2024\n",
    "date: \"Generated: {{ datetime.now().strftime('%Y-%m-%d') }}\"\n",
    "author: Etienne Roulet, Alexander Shanmugam\n",
    "output:\n",
    "    general:\n",
    "        input_jinja: true\n",
    "    html:\n",
    "        code_folding: hide\n",
    "        code_tools: true\n",
    "        theme: readable"
   ]
  },
  {
   "cell_type": "markdown",
   "id": "7c61a7a7",
   "metadata": {},
   "source": [
    "# Setup\n",
    "Die folgenden Code-Blöcke können genutzt werden, um die benötigten Abhängigkeiten zu installieren und zu importieren."
   ]
  },
  {
   "cell_type": "code",
   "execution_count": null,
   "id": "3494c3c0b186e29a",
   "metadata": {
    "collapsed": false
   },
   "outputs": [],
   "source": [
    "%%capture\n",
    "%pip install -r ../requirements.txt"
   ]
  },
  {
   "cell_type": "code",
   "execution_count": null,
   "id": "a541c95fad65ded5",
   "metadata": {
    "collapsed": false
   },
   "outputs": [],
   "source": [
    "%%capture\n",
    "%load_ext pretty_jupyter"
   ]
  },
  {
   "cell_type": "code",
   "execution_count": null,
   "id": "6ea03b7f554411a6",
   "metadata": {
    "collapsed": false
   },
   "outputs": [],
   "source": [
    "%%capture\n",
    "# Laden der eingesetzten Libraries\n",
    "import os\n",
    "from datetime import datetime\n",
    "\n",
    "import matplotlib.pyplot as plt\n",
    "import numpy as np\n",
    "import pandas as pd\n",
    "import sklearn.metrics as metrics\n",
    "import sweetviz as sv\n",
    "from IPython.display import display\n",
    "from itables import init_notebook_mode\n",
    "from sklearn.linear_model import LinearRegression\n",
    "\n",
    "init_notebook_mode()"
   ]
  },
  {
   "cell_type": "code",
   "execution_count": null,
   "id": "1d740966f1a77141",
   "metadata": {
    "collapsed": false
   },
   "outputs": [],
   "source": [
    "# Funktion zur Bestimmung des Geschlechts und Berechnung des Geburtstags\n",
    "def parse_details(birth_number):\n",
    "    birth_number_str = str(\n",
    "        birth_number\n",
    "    )  # Konvertiere birth_number zu einem String, falls notwendig\n",
    "    year_prefix = \"19\"\n",
    "    month = int(birth_number_str[2:4])\n",
    "    gender = \"female\" if month > 12 else \"male\"\n",
    "    if gender == \"female\":\n",
    "        month -= 50\n",
    "    year = int(year_prefix + birth_number_str[:2])\n",
    "    day = int(birth_number_str[4:6])\n",
    "    birth_day = datetime(year, month, day)\n",
    "    return gender, birth_day\n",
    "\n",
    "\n",
    "# Berechnung des Alters basierend auf einem Basisjahr\n",
    "def calculate_age(birth_date, base_date=datetime(1999, 12, 31)):\n",
    "    return (\n",
    "            base_date.year\n",
    "            - birth_date.year\n",
    "            - ((base_date.month, base_date.day) < (birth_date.month, birth_date.day))\n",
    "    )\n",
    "\n",
    "\n",
    "# Regression metrics\n",
    "def regression_results(y_true, y_pred):\n",
    "    print('explained_variance: ', round(metrics.explained_variance_score(y_true, y_pred), 4))\n",
    "    print('mean_squared_log_error: ', round(metrics.mean_squared_log_error(y_true, y_pred), 4))\n",
    "    print('r2: ', round(metrics.r2_score(y_true, y_pred), 4))\n",
    "    print('MAE: ', round(metrics.mean_absolute_error(y_true, y_pred), 4))\n",
    "    print('MSE: ', round(metrics.mean_squared_error(y_true, y_pred), 4))\n",
    "    print('RMSE: ', round(np.sqrt(metrics.mean_squared_error(y_true, y_pred)), 4))"
   ]
  },
  {
   "cell_type": "markdown",
   "id": "b6780e67c83a46dc",
   "metadata": {
    "collapsed": false
   },
   "source": [
    "# Aufgabenstellung\n",
    "Inhalt der hier bearbeiteten und dokumentierten Mini-Challenge für das Modul «aml - Angewandtes Machine Learning» der FHNW ist die Entwicklung und Evaluierung von Aﬀinitätsmodellen für personalisierte Kreditkarten-Werbekampagnen im Auftrag einer Bank. Das Ziel der Authoren ist es also, mithilfe von Kunden- und Transaktionsdaten präzise Modelle zu erstellen, die die Wahrscheinlichkeit des Kreditkartenkaufs einer bestimmten Person vorhersagen."
   ]
  },
  {
   "cell_type": "markdown",
   "id": "bb649a41eef2a349",
   "metadata": {
    "collapsed": false
   },
   "source": [
    "# Laden der zur Verfügung gestellten Daten\n",
    "[//]: # (-.- .tabset)\n",
    "\n",
    "Zur Verfügung gestellt wurden 8 csv-Dateien von welchen die Beschreibung der erfassten Variablen unter dem folgenden Link eingesehen werden können: [PKDD'99 Discovery Challenge - Guide to the Financial Data Set](https://sorry.vse.cz/~berka/challenge/PAST/index.html). Nachfolgend werden diese csv-Dateien eingelesen."
   ]
  },
  {
   "cell_type": "code",
   "execution_count": null,
   "id": "c6ab00787dc78783",
   "metadata": {
    "collapsed": false
   },
   "outputs": [],
   "source": [
    "account = pd.read_csv(\"./data/account.csv\", sep=\";\", dtype={\"date\": \"str\"})\n",
    "card = pd.read_csv(\"./data/card.csv\", sep=\";\", dtype={\"issued\": \"str\"})\n",
    "client = pd.read_csv(\"./data/client.csv\", sep=\";\")\n",
    "disp = pd.read_csv(\"./data/disp.csv\", sep=\";\")\n",
    "district = pd.read_csv(\"./data/district.csv\", sep=\";\")\n",
    "loan = pd.read_csv(\"./data/loan.csv\", sep=\";\", dtype={\"date\": \"str\"})\n",
    "order = pd.read_csv(\"./data/order.csv\", sep=\";\")\n",
    "trans = pd.read_csv(\"./data/trans.csv\", sep=\";\", dtype={\"date\": \"str\", \"bank\": \"str\"})"
   ]
  },
  {
   "cell_type": "markdown",
   "id": "692adb4421fbd887",
   "metadata": {
    "collapsed": false
   },
   "source": [
    "# Transformationen & Explorative Datenanalyse\n",
    "Im folgenden Abschnitt werden die geladenen Daten separat so transformiert, dass jede Zeile einer Observation und jede Spalte einer Variable im entsprechenden Datenformat entspricht, also ins Tidy-Format gebracht."
   ]
  },
  {
   "cell_type": "code",
   "execution_count": null,
   "id": "cb0d810f246f5013",
   "metadata": {
    "collapsed": false
   },
   "outputs": [],
   "source": [
    "data_frames = {}"
   ]
  },
  {
   "cell_type": "markdown",
   "id": "4c02c97d0860aba3",
   "metadata": {
    "collapsed": false
   },
   "source": [
    "## Account\n",
    "[//]: # (-.- .tabset)\n",
    "Der Datensatz `accounts.csv` beinhaltet 4500 Observationen mit den folgenden Informationen über die Kontos der Bank:  \n",
    "- `account_id`: die Kontonummer, \n",
    "- `district_id`: den Standort der entsprechenden Bankfiliale,\n",
    "- `frequency`: die Frequenz der Ausstellung von Kontoauszügen (monatlich, wöchentlich, pro Transaktion) und \n",
    "- `date`: das Erstellungsdatum"
   ]
  },
  {
   "cell_type": "code",
   "outputs": [],
   "source": [
    "account.info()"
   ],
   "metadata": {
    "collapsed": false
   },
   "id": "f04ecb5ae047629a",
   "execution_count": null
  },
  {
   "cell_type": "code",
   "outputs": [],
   "source": [
    "print(\"Anzahl fehlender Werte:\", sum(account.isnull().sum()))\n",
    "print(\"Anzahl duplizierter Einträge:\", account.duplicated().sum())"
   ],
   "metadata": {
    "collapsed": false
   },
   "id": "4bcc7d5008f8cd80",
   "execution_count": null
  },
  {
   "cell_type": "markdown",
   "source": [
    "### Transformation\n",
    "Nachfolgend wird die `date` Spalte des `account.csv`-Datensatzes in das entsprechende Datenformat geparsed und die Werte von `frequency` übersetzt und als Levels einer Kategorie definiert."
   ],
   "metadata": {
    "collapsed": false
   },
   "id": "6dd7eba30fc1eaa4"
  },
  {
   "cell_type": "code",
   "execution_count": null,
   "id": "53a28aded234e90b",
   "metadata": {
    "collapsed": false
   },
   "outputs": [],
   "source": [
    "# parse date\n",
    "account[\"date\"] = pd.to_datetime(account[\"date\"], format=\"%y%m%d\")\n",
    "# translate categories\n",
    "account[\"frequency\"] = account[\"frequency\"].replace(\n",
    "    {\n",
    "        \"POPLATEK MESICNE\": \"monthly\",\n",
    "        \"POPLATEK TYDNE\": \"weekly\",\n",
    "        \"POPLATEK PO OBRATU\": \"transactional\",\n",
    "    }\n",
    ")\n",
    "\n",
    "# convert column frequency to categorical\n",
    "account[\"frequency\"] = account[\"frequency\"].astype(\"category\")\n",
    "\n",
    "# append account data to dataframe collection\n",
    "data_frames[\"account.csv\"] = account\n",
    "\n",
    "# sample 5 random rows\n",
    "account.sample(n=5)"
   ]
  },
  {
   "cell_type": "code",
   "outputs": [],
   "source": [
    "%%capture\n",
    "# generate sweetviz report\n",
    "svReport_account = sv.analyze(account)\n",
    "svReport_account.show_html(filepath=\"./reports/accounts.html\", open_browser=False)"
   ],
   "metadata": {
    "collapsed": false
   },
   "id": "39ab72736dd51f8d",
   "execution_count": null
  },
  {
   "cell_type": "markdown",
   "source": [
    "### Distrikt\n",
    "Hier zu sehen ist die Verteilung der Distrikte pro Bankkonto. Ersichtlich ist, dass im Distrikt 1 mit Abstand am meisten Bankkontos geführt werden. Die darauf folgenden Distrikte bewegen sich alle im Bereich zwischen ~250 - 50 Bankkonten.  "
   ],
   "metadata": {
    "collapsed": false
   },
   "id": "49dd129962e2228"
  },
  {
   "cell_type": "code",
   "outputs": [],
   "source": [
    "# plot the distribution of the district_ids and replace the id with it's name\n",
    "plt.figure(figsize=(15, 6))\n",
    "account[\"district_id\"].value_counts().plot(kind=\"bar\")\n",
    "plt.title(\"Verteilung der Distrikte\")\n",
    "plt.xlabel(\"Distrikt\")\n",
    "plt.ylabel(\"Anzahl\")\n",
    "plt.show()"
   ],
   "metadata": {
    "collapsed": false
   },
   "id": "c0628552e3611cbd",
   "execution_count": null
  },
  {
   "cell_type": "markdown",
   "source": [
    "### Frequenz\n",
    "Auf dieser Visualisierung zu sehen ist die Klassenverteilung der Frequenz der Ausstellung der Kontoauszüge. Die allermeisten Bankkonten besitzen eine monatliche Ausstellung."
   ],
   "metadata": {
    "collapsed": false
   },
   "id": "ba2319b54eccfaa5"
  },
  {
   "cell_type": "code",
   "outputs": [],
   "source": [
    "# Verteilung der Frequenz visualisieren\n",
    "plt.figure(figsize=(10, 6))\n",
    "account[\"frequency\"].value_counts().plot(kind=\"bar\")\n",
    "plt.title(\"Frequenz der Kontoauszüge\")\n",
    "plt.xlabel(\"Frequenz\")\n",
    "plt.ylabel(\"Anzahl\")\n",
    "plt.show()"
   ],
   "metadata": {
    "collapsed": false
   },
   "id": "63214f30f1ef5c4c",
   "execution_count": null
  },
  {
   "cell_type": "markdown",
   "source": [
    "### Datum\n",
    "Der hier dargestellte Plot zeigt die Verteilung der Kontoerstellungsdaten. Das erste Konto wurde im Jahr 1993 und das neuste im 1998 erstellt.  "
   ],
   "metadata": {
    "collapsed": false
   },
   "id": "455f52514acac285"
  },
  {
   "cell_type": "code",
   "outputs": [],
   "source": [
    "# plot date distribution\n",
    "plt.figure(figsize=(10, 6))\n",
    "plt.hist(account[\"date\"], bins=20)\n",
    "plt.title(\"Verteilung der Kontoerstellungsdaten\")\n",
    "plt.xlabel(\"Datum\")\n",
    "plt.ylabel(\"Anzahl\")\n",
    "plt.show()"
   ],
   "metadata": {
    "collapsed": false
   },
   "id": "edd6b409352731a7",
   "execution_count": null
  },
  {
   "cell_type": "markdown",
   "source": [
    "### Korrelation & weitere Informationen\n",
    "Die Korrelation sowie weitere Informationen zu den vorhandenen Daten können aus dem [SweetViz Report](./reports/accounts.html) entnommen werden. "
   ],
   "metadata": {
    "collapsed": false
   },
   "id": "f178c3c54376bfc0"
  },
  {
   "cell_type": "markdown",
   "id": "2855e5f609207fe7",
   "metadata": {
    "collapsed": false
   },
   "source": [
    "## Card\n",
    "[//]: # (-.- .tabset)\n",
    "\n",
    "Der Datensatz `card.csv` beinhaltet 892 Observationen mit den folgenden Informationen über die von der Bank herausgegebenen Kreditkarten:  \n",
    "- `card_id`: die Kartennummer, \n",
    "- `disp_id`: die Zuordnung zum entsprechenden Bankkonto und -inhaber (Disposition),\n",
    "- `type`: die Art der Kreditkarte (junior, classic, gold) und \n",
    "- `issued`: das Ausstellungsdatum"
   ]
  },
  {
   "cell_type": "code",
   "outputs": [],
   "source": [
    "card.info()"
   ],
   "metadata": {
    "collapsed": false
   },
   "id": "ef85ea072c4d7e26",
   "execution_count": null
  },
  {
   "cell_type": "code",
   "outputs": [],
   "source": [
    "print(\"Anzahl fehlender Werte:\", sum(card.isnull().sum()))\n",
    "print(\"Anzahl duplizierter Einträge:\", card.duplicated().sum())"
   ],
   "metadata": {
    "collapsed": false
   },
   "id": "7b3c3728c852bd10",
   "execution_count": null
  },
  {
   "cell_type": "markdown",
   "source": [
    "### Transformation\n",
    "Auch bei diesem Datensatz (`card.csv`) werden zunächst die Datentypen korrigiert um anschliessend die Inhalte entsprechend beschreiben zu können"
   ],
   "metadata": {
    "collapsed": false
   },
   "id": "ce810b942520a201"
  },
  {
   "cell_type": "code",
   "execution_count": null,
   "id": "8bb1aeb129363e72",
   "metadata": {
    "collapsed": false
   },
   "outputs": [],
   "source": [
    "# parse date\n",
    "card[\"issued\"] = pd.to_datetime(card[\"issued\"].str[:6], format=\"%y%m%d\")\n",
    "# convert type to categorical\n",
    "card[\"type\"] = card[\"type\"].astype(\"category\")\n",
    "# append to dataframes collection\n",
    "data_frames[\"card.csv\"] = card\n",
    "\n",
    "card.sample(n=5)"
   ]
  },
  {
   "cell_type": "code",
   "outputs": [],
   "source": [
    "%%capture\n",
    "# generate sweetviz report\n",
    "svReport_card = sv.analyze(card)\n",
    "svReport_card.show_html(filepath=\"./reports/card.html\", open_browser=False)"
   ],
   "metadata": {
    "collapsed": false
   },
   "id": "e56b1eade06b0e6f",
   "execution_count": null
  },
  {
   "cell_type": "markdown",
   "source": [
    "### Kartentyp\n",
    "Hier dargestellt ist die Klassenverteilung der Kartentypen. Die meisten Karteninhaber besitzen eine klassische Kreditkarte, gefolgt von ~180 junior- und ~100 gold Karten.  "
   ],
   "metadata": {
    "collapsed": false
   },
   "id": "49223ba94dad711b"
  },
  {
   "cell_type": "code",
   "outputs": [],
   "source": [
    "# plot distribution of type\n",
    "plt.figure(figsize=(10, 6))\n",
    "card[\"type\"].value_counts().plot(kind=\"bar\")\n",
    "plt.title(\"Verteilung der Kartentypen\")\n",
    "plt.xlabel(\"Kartentyp\")\n",
    "plt.ylabel(\"Anzahl\")\n",
    "plt.show()"
   ],
   "metadata": {
    "collapsed": false
   },
   "id": "f7c0fec1b7866023",
   "execution_count": null
  },
  {
   "cell_type": "markdown",
   "source": [
    "### Ausstellungsdatum\n",
    "Hier dargestellt ist die Häufigkeit von Kreditkartenausstellungen pro Monat. Erkennbar ist eine steigende Tendenz mit einem Rückgang in den Monaten Februar - April 1997.  "
   ],
   "metadata": {
    "collapsed": false
   },
   "id": "7fe177e5f3e4cf09"
  },
  {
   "cell_type": "code",
   "outputs": [],
   "source": [
    "# plot issued date per month and year\n",
    "plt.figure(figsize=(15, 6))\n",
    "card[\"issued\"].dt.to_period(\"M\").value_counts().sort_index().plot(kind=\"bar\")\n",
    "plt.title(\"Verteilung der Ausstellungsdaten\")\n",
    "plt.xlabel(\"Datum\")\n",
    "plt.ylabel(\"Anzahl\")\n",
    "plt.show()"
   ],
   "metadata": {
    "collapsed": false
   },
   "id": "dd94744b7d2cf9c2",
   "execution_count": null
  },
  {
   "cell_type": "markdown",
   "source": [
    "### Korrelation & weitere Informationen\n",
    "Die Korrelation sowie weitere Informationen zu den vorhandenen Daten können aus dem [SweetViz Report](./reports/card.html) entnommen werden."
   ],
   "metadata": {
    "collapsed": false
   },
   "id": "c5024ed8735c39c2"
  },
  {
   "cell_type": "markdown",
   "id": "e3d5a16c1e40e35",
   "metadata": {
    "collapsed": false
   },
   "source": [
    "## Client\n",
    "[//]: # (-.- .tabset)\n",
    "\n",
    "Der Datensatz `client.csv` beinhaltet 5369 Observationen mit den folgenden Informationen über die Kunden der Bank:  \n",
    "- `client_id`: die Kundennummer, \n",
    "- `birth_number`: eine Kombination aus Geburtsdatum und Geschlecht sowie\n",
    "- `district_id`: die Adresse  "
   ]
  },
  {
   "cell_type": "code",
   "outputs": [],
   "source": [
    "client.info()"
   ],
   "metadata": {
    "collapsed": false
   },
   "id": "710ddd86a89d490b",
   "execution_count": null
  },
  {
   "cell_type": "code",
   "outputs": [],
   "source": [
    "print(\"Anzahl fehlender Werte:\", sum(client.isnull().sum()))\n",
    "print(\"Anzahl duplizierter Einträge:\", client.duplicated().sum())"
   ],
   "metadata": {
    "collapsed": false
   },
   "id": "7d4ebcb4852aac9a",
   "execution_count": null
  },
  {
   "cell_type": "markdown",
   "source": [
    "### Transformation\n",
    "Die Spalte `birth_number` des `client.csv`-Datensatzes codiert 3 Features der Bankkunden: Geschlecht, Geburtsdatum und damit auch das Alter. Diese Informationen werden mithilfe der zuvor definierten Funktionen `parse_details()` und `calculate_age` extrahiert."
   ],
   "metadata": {
    "collapsed": false
   },
   "id": "733f96188abfe731"
  },
  {
   "cell_type": "code",
   "execution_count": null,
   "id": "e7f06951bbf5539a",
   "metadata": {
    "collapsed": false
   },
   "outputs": [],
   "source": [
    "# Geburtstag & Geschlecht aus birth_number extrahieren\n",
    "client[\"gender\"], client[\"birth_day\"] = zip(\n",
    "    *client[\"birth_number\"].apply(parse_details)\n",
    ")\n",
    "client[\"gender\"] = client[\"gender\"].astype(\"category\")\n",
    "# Alter berechnen\n",
    "client[\"age\"] = client[\"birth_day\"].apply(calculate_age)\n",
    "\n",
    "# Spalte birth_number entfernen\n",
    "client = client.drop(columns=[\"birth_number\"])\n",
    "\n",
    "data_frames[\"client.csv\"] = client\n",
    "\n",
    "# Sample 5 random rows\n",
    "client.sample(n=5)"
   ]
  },
  {
   "cell_type": "code",
   "outputs": [],
   "source": [
    "%%capture\n",
    "svReport_client = sv.analyze(client)\n",
    "svReport_client.show_html(filepath=\"./reports/client.html\", open_browser=False)"
   ],
   "metadata": {
    "collapsed": false
   },
   "id": "7d245535ed20f977",
   "execution_count": null
  },
  {
   "cell_type": "markdown",
   "source": [
    "### Geschlecht\n",
    "Hier dargestellt ist die Verteilung des Geschlechts der Bankkunden. Das Geschlecht der erfassten Bankkunden ist fast gleichverteilt mit einem etwas kleineren Frauenanteil.  "
   ],
   "metadata": {
    "collapsed": false
   },
   "id": "41474c52455bdd5a"
  },
  {
   "cell_type": "code",
   "outputs": [],
   "source": [
    "# plot distribution of gender\n",
    "plt.figure(figsize=(10, 6))\n",
    "gender_distribution = client['gender'].value_counts().plot(kind='bar')\n",
    "plt.title('Verteilung des Geschlechts der Bankkunden')\n",
    "plt.xlabel('Geschlecht')\n",
    "plt.ylabel('Anzahl')\n",
    "plt.show()"
   ],
   "metadata": {
    "collapsed": false
   },
   "id": "e12fb3b50dd3bfe3",
   "execution_count": null
  },
  {
   "cell_type": "markdown",
   "source": [
    "### Alter\n",
    "Nachfolgend abgebildet ist die Verteilung des Alters der Bankkunden. Die jüngste erfasste Person ist 12 Jahre alt und die älteste 88. "
   ],
   "metadata": {
    "collapsed": false
   },
   "id": "fb4804e4303cc37"
  },
  {
   "cell_type": "code",
   "outputs": [],
   "source": [
    "# plot distribution of age\n",
    "plt.figure(figsize=(10, 6))\n",
    "client[\"age\"].plot(kind=\"hist\", bins=20)\n",
    "plt.title(\"Verteilung des Alters der Bankkunden\")\n",
    "plt.xlabel(\"Alter\")\n",
    "plt.ylabel(\"Anzahl\")\n",
    "plt.show()"
   ],
   "metadata": {
    "collapsed": false
   },
   "id": "ed813ac6e0786fc3",
   "execution_count": null
  },
  {
   "cell_type": "markdown",
   "source": [
    "### Korrelation & weitere Informationen\n",
    "Die Korrelation sowie weitere Informationen zu den vorhandenen Daten können aus dem [SweetViz Report](./reports/client.html) entnommen werden."
   ],
   "metadata": {
    "collapsed": false
   },
   "id": "b154e427acd4e848"
  },
  {
   "cell_type": "markdown",
   "id": "563c8d4252ebacc0",
   "metadata": {
    "collapsed": false
   },
   "source": [
    "## Disp\n",
    "[//]: # (-.- .tabset)\n",
    "\n",
    "Der Datensatz `disp.csv` beinhaltet 5369 Observationen mit den folgenden Informationen über die Dispositionen der Bank:  \n",
    "- `disp_id`: der Identifikationsschlüssel der Disposition,\n",
    "- `client_id`: die Kundennummer,\n",
    "- `account_id`: die Kontonummer,\n",
    "- `type`: die Art der Disposition (Inhaber, Benutzer)"
   ]
  },
  {
   "cell_type": "code",
   "outputs": [],
   "source": [
    "disp.info()"
   ],
   "metadata": {
    "collapsed": false
   },
   "id": "87a6b5a11e3ab5a9",
   "execution_count": null
  },
  {
   "cell_type": "code",
   "outputs": [],
   "source": [
    "print(\"Anzahl fehlender Werte:\", sum(disp.isnull().sum()))\n",
    "print(\"Anzahl duplizierter Einträge:\", disp.duplicated().sum())"
   ],
   "metadata": {
    "collapsed": false
   },
   "id": "53165cb08498081a",
   "execution_count": null
  },
  {
   "cell_type": "markdown",
   "source": [
    "### Transformation\n",
    "Auch die Variablen des Datensatzes `disp.csv` werden in die korrekten Datentypen übertragen. "
   ],
   "metadata": {
    "collapsed": false
   },
   "id": "1e9c45187a6cfc3d"
  },
  {
   "cell_type": "code",
   "execution_count": null,
   "id": "c52076e64e10911f",
   "metadata": {
    "collapsed": false
   },
   "outputs": [],
   "source": [
    "# Spalte type als Kategorie speichern \n",
    "disp[\"type\"] = disp[\"type\"].astype(\"category\")\n",
    "\n",
    "data_frames[\"disp.csv\"] = disp\n",
    "\n",
    "# random sample\n",
    "disp.sample(n=5)"
   ]
  },
  {
   "cell_type": "code",
   "outputs": [],
   "source": [
    "%%capture\n",
    "svReport_disp = sv.analyze(disp)\n",
    "svReport_disp.show_html(filepath=\"./reports/disp.html\", open_browser=False)"
   ],
   "metadata": {
    "collapsed": false
   },
   "id": "9d52a181af81e3cf",
   "execution_count": null
  },
  {
   "cell_type": "markdown",
   "source": [
    "### Typ der Disposition\n",
    "Hier dargestellt ist die Verteilung der Art der Dispositionen. 4500 Kunden sind Inhaber eines Kontos und 896 sind Disponenten. "
   ],
   "metadata": {
    "collapsed": false
   },
   "id": "5a999933f5553956"
  },
  {
   "cell_type": "code",
   "outputs": [],
   "source": [
    "# plot distribution of kind\n",
    "plt.figure(figsize=(10, 6))\n",
    "disp[\"type\"].value_counts().plot(kind=\"bar\")\n",
    "plt.title(\"Verteilung der Dispositionen\")\n",
    "plt.xlabel(\"Disposition\")\n",
    "plt.ylabel(\"Anzahl\")\n",
    "plt.show()"
   ],
   "metadata": {
    "collapsed": false
   },
   "id": "4d45e79a677c8321",
   "execution_count": null
  },
  {
   "cell_type": "code",
   "outputs": [],
   "source": [
    "# remove disponents\n",
    "disp = disp[disp[\"type\"] == \"OWNER\"]"
   ],
   "metadata": {
    "collapsed": false
   },
   "id": "b98f27bb4091c298",
   "execution_count": null
  },
  {
   "cell_type": "markdown",
   "source": [
    "### Korrelation & weitere Informationen\n",
    "Die Korrelation sowie weitere Informationen zu den vorhandenen Daten können aus dem [SweetViz Report](./reports/disp.html) entnommen werden."
   ],
   "metadata": {
    "collapsed": false
   },
   "id": "9f4c4a3c914adbe3"
  },
  {
   "cell_type": "markdown",
   "id": "163ce222013404c4",
   "metadata": {
    "collapsed": false
   },
   "source": [
    "## District\n",
    "[//]: # (-.- .tabset)\n",
    "\n",
    "Der Datensatz `district.csv` beinhaltet 77 Observationen mit den folgenden demografischen Informationen:  \n",
    "- `A1`: die ID des Distrikts, \n",
    "- `A2`: der Name des Distrikts,\n",
    "- `A3`: die Region,\n",
    "- `A4`: die Anzahl der Einwohner,\n",
    "- `A5`: die Anzahl der Gemeinden mit < 499 Einwohner,\n",
    "- `A6`: die Anzahl der Gemeinden mit 500 - 1999 Einwohner,\n",
    "- `A7`: die Anzahl der Gemeinden mit 2000 - 9999 Einwohner,\n",
    "- `A8`: die Anzahl der Gemeinden mit >10000 Einwohner,\n",
    "- `A9`: die Anzahl Städte,\n",
    "- `A10`: das Verhältnis von städtischen Einwohnern,\n",
    "- `A11`: das durchschnittliche Einkommen,\n",
    "- `A12`: die Arbeitslosenrate vom Jahr 95,\n",
    "- `A13`: die Arbeitslosenrate vom Jahr 96,\n",
    "- `A14`: die Anzahl von Unternehmer pro 1000 Einwohner,\n",
    "- `A15`: die Anzahl von begangenen Verbrechen im Jahr 95,\n",
    "- `A16`: die Anzahl von begangenen Verbrechen im Jahr 96, "
   ]
  },
  {
   "cell_type": "code",
   "outputs": [],
   "source": [
    "district.info()"
   ],
   "metadata": {
    "collapsed": false
   },
   "id": "9b3774250b36e0d1",
   "execution_count": null
  },
  {
   "cell_type": "code",
   "outputs": [],
   "source": [
    "print(\"Anzahl fehlender Werte:\", sum(district.isnull().sum()))\n",
    "print(\"Anzahl duplizierter Einträge:\", district.duplicated().sum())"
   ],
   "metadata": {
    "collapsed": false
   },
   "id": "d7853a97556f6182",
   "execution_count": null
  },
  {
   "cell_type": "markdown",
   "source": [
    "### Transformation\n",
    "Zunächst werden die Spaltennamen in sprechendere übersetzt."
   ],
   "metadata": {
    "collapsed": false
   },
   "id": "801b32fb223cf904"
  },
  {
   "cell_type": "code",
   "execution_count": null,
   "id": "1f9120dd7fdb6cef",
   "metadata": {
    "collapsed": false
   },
   "outputs": [],
   "source": [
    "# Spalten umbenennen\n",
    "district = district.rename(\n",
    "    columns={\n",
    "        \"A1\": \"district_id\",\n",
    "        \"A2\": \"district_name\",\n",
    "        \"A3\": \"region\",\n",
    "        \"A4\": \"num_of_habitat\",\n",
    "        \"A5\": \"num_of_small_town\",\n",
    "        \"A6\": \"num_of_medium_town\",\n",
    "        \"A7\": \"num_of_big_town\",\n",
    "        \"A8\": \"num_of_bigger_town\",\n",
    "        \"A9\": \"num_of_city\",\n",
    "        \"A10\": \"ratio_of_urban\",\n",
    "        \"A11\": \"average_salary\",\n",
    "        \"A12\": \"unemploy_rate95\",\n",
    "        \"A13\": \"unemploy_rate96\",\n",
    "        \"A14\": \"n_of_enterpren_per1000_inhabit\",\n",
    "        \"A15\": \"no_of_crimes95\",\n",
    "        \"A16\": \"no_of_crimes96\",\n",
    "    }\n",
    ")[\n",
    "    [\n",
    "        \"district_id\",\n",
    "        \"district_name\",\n",
    "        \"region\",\n",
    "        \"num_of_habitat\",\n",
    "        \"num_of_small_town\",\n",
    "        \"num_of_medium_town\",\n",
    "        \"num_of_big_town\",\n",
    "        \"num_of_bigger_town\",\n",
    "        \"num_of_city\",\n",
    "        \"ratio_of_urban\",\n",
    "        \"average_salary\",\n",
    "        \"unemploy_rate95\",\n",
    "        \"unemploy_rate96\",\n",
    "        \"n_of_enterpren_per1000_inhabit\",\n",
    "        \"no_of_crimes95\",\n",
    "        \"no_of_crimes96\",\n",
    "    ]\n",
    "]\n",
    "\n",
    "district[\"region\"] = district[\"region\"].astype(\"category\")\n",
    "district[\"district_name\"] = district[\"district_name\"].astype(\"category\")"
   ]
  },
  {
   "cell_type": "markdown",
   "source": [
    "Auffällig ist, dass nebst den Spalten `A2` (dem Namen) und `A3` (der Region) die Spalten `A12` und `A15` den Datentyp `object` erhalten. Das ist, weil jeweils ein fehlender Wert vorhanden ist, welcher mit einem `?` gekennzeichnet ist. "
   ],
   "metadata": {
    "collapsed": false
   },
   "id": "4da84d8d9d6f3dba"
  },
  {
   "cell_type": "code",
   "execution_count": null,
   "id": "976ef3efab9c5bdf",
   "metadata": {
    "collapsed": false
   },
   "outputs": [],
   "source": [
    "# die fehlenden Werte anzeigen\n",
    "district[district.isin([\"?\"]).any(axis=1)]"
   ]
  },
  {
   "cell_type": "markdown",
   "id": "29b40402ecf45bc",
   "metadata": {
    "collapsed": false
   },
   "source": [
    "Wir gehen davon aus, dass es sich hier um effektiv fehlende Werte handelt und nicht um zensierte Daten, also Werte, für welche der exakte Wert fehlt, aber trotzdem Informationen vorhanden sind. In diesem Fall, wenn die Variable mit den fehlenden Werten eine hohe Korrelation mit anderen Prediktoren aufweist, bietet es sich an, KNN oder eine einfache lineare Regression für die Imputation anzuwenden. [1] \n",
    "\n",
    "Die Korrelationsmatrix des [SweetViz Reports](./reports/district.html) zeigt, dass `unemploy_rate95` stark mit `unemploy_rate96` und `no_of_crimes95` mit `no_of_crimes96` korreliert. "
   ]
  },
  {
   "cell_type": "code",
   "outputs": [],
   "source": [
    "# die ? ersetzen mit NaN\n",
    "district = district.replace(\"?\", np.nan)\n",
    "\n",
    "# Datentyp korrigieren\n",
    "district[\"no_of_crimes95\"] = district[\"no_of_crimes95\"].astype(float)\n",
    "district[\"unemploy_rate95\"] = district[\"unemploy_rate95\"].astype(float)"
   ],
   "metadata": {
    "collapsed": false
   },
   "id": "1db8aac8b583147",
   "execution_count": null
  },
  {
   "cell_type": "code",
   "outputs": [],
   "source": [
    "# Korrelation zwischen Arbeitslosenquote 95 und 96\n",
    "district[[\"unemploy_rate95\", \"unemploy_rate96\"]].corr()"
   ],
   "metadata": {
    "collapsed": false
   },
   "id": "fa4597de38d3fbe6",
   "execution_count": null
  },
  {
   "cell_type": "code",
   "outputs": [],
   "source": [
    "# Korrelation zwischen Anzahl Verbrechen 95 und 96\n",
    "district[[\"no_of_crimes95\", \"no_of_crimes96\"]].corr()"
   ],
   "metadata": {
    "collapsed": false
   },
   "id": "f33ce1299beab9f9",
   "execution_count": null
  },
  {
   "cell_type": "markdown",
   "source": [
    "Demnach werden nachfolgend zwei lineare Regressions-Modelle trainiert, um die fehlenden Werte zu imputieren."
   ],
   "metadata": {
    "collapsed": false
   },
   "id": "77b517577f483bf2"
  },
  {
   "cell_type": "code",
   "outputs": [],
   "source": [
    "# Zeilen filtern, sodass keine fehlenden Werte vorhanden sind\n",
    "district_no_na = district[district[\"unemploy_rate95\"].notnull()]\n",
    "\n",
    "# Lineares regressions Modell erstellen \n",
    "lin_reg_unemploy = LinearRegression()\n",
    "\n",
    "# Modell fitten\n",
    "lin_reg_unemploy.fit(\n",
    "    district_no_na[\"unemploy_rate96\"].values.reshape(-1, 1),\n",
    "    district_no_na[\"unemploy_rate95\"].values,\n",
    ")\n",
    "\n",
    "# Modell evaluieren\n",
    "regression_results(district_no_na[\"unemploy_rate95\"],\n",
    "                   lin_reg_unemploy.predict(district_no_na[\"unemploy_rate96\"].values.reshape(-1, 1)))"
   ],
   "metadata": {
    "collapsed": false
   },
   "id": "7506817f16f7b469",
   "execution_count": null
  },
  {
   "cell_type": "markdown",
   "source": [
    "Der $R^2$ Wert von $0.9634$ versichert, damit ein stabiles Modell für die Imputation erreicht zu haben. "
   ],
   "metadata": {
    "collapsed": false
   },
   "id": "805bf4a05bb05c39"
  },
  {
   "cell_type": "code",
   "outputs": [],
   "source": [
    "# Lineares regressions Modell erstellen \n",
    "lin_reg_crime = LinearRegression()\n",
    "\n",
    "# Modell fitten\n",
    "lin_reg_crime.fit(\n",
    "    district_no_na[\"no_of_crimes96\"].values.reshape(-1, 1),\n",
    "    district_no_na[\"no_of_crimes95\"].values,\n",
    ")\n",
    "\n",
    "# Modell evaluieren\n",
    "regression_results(district_no_na[\"no_of_crimes95\"],\n",
    "                   lin_reg_crime.predict(district_no_na[\"no_of_crimes96\"].values.reshape(-1, 1)))"
   ],
   "metadata": {
    "collapsed": false
   },
   "id": "91d0656c50f7f056",
   "execution_count": null
  },
  {
   "cell_type": "markdown",
   "source": [
    "Auch hier mit einem $R^2$ Wert von $0.9969$ gehen wir davon aus, damit ein stabiles Modell für die Imputation erreicht zu haben. Somit werden nachfolgend die beiden Modelle genutzt, um die fehlenden Werte einzufüllen."
   ],
   "metadata": {
    "collapsed": false
   },
   "id": "40d317483471ba0"
  },
  {
   "cell_type": "code",
   "outputs": [],
   "source": [
    "# Vorhersage der fehlenden Werte\n",
    "district.loc[district[\"no_of_crimes95\"].isnull(), \"no_of_crimes95\"] = lin_reg_crime.predict(\n",
    "    district[district[\"no_of_crimes95\"].isnull()][\"no_of_crimes96\"].values.reshape(-1, 1)\n",
    ")\n",
    "\n",
    "district.loc[district[\"unemploy_rate95\"].isnull(), \"unemploy_rate95\"] = lin_reg_unemploy.predict(\n",
    "    district[district[\"unemploy_rate95\"].isnull()][\"unemploy_rate96\"].values.reshape(-1, 1)\n",
    ")"
   ],
   "metadata": {
    "collapsed": false
   },
   "id": "5eebb2601671baa3",
   "execution_count": null
  },
  {
   "cell_type": "code",
   "outputs": [],
   "source": [
    "data_frames[\"district.csv\"] = district\n",
    "\n",
    "district.sample(n=5)"
   ],
   "metadata": {
    "collapsed": false
   },
   "id": "e1cb35e705824fa0",
   "execution_count": null
  },
  {
   "cell_type": "code",
   "outputs": [],
   "source": [
    "district.isnull().sum()"
   ],
   "metadata": {
    "collapsed": false
   },
   "id": "8258257154610fda",
   "execution_count": null
  },
  {
   "cell_type": "markdown",
   "source": [
    "### EDA\n",
    "Es gibt keine Duplikate und somit 77 unterschiedliche Namen der Distrikte. Diese sind auf 8 Regionen verteilt, wobei die meisten in south Moravia und die wenigsten in Prague liegen. Der Distrikt mit den wenigsten Einwohnern zählt 42821, im Vergleich zu demjenigen mit den meisten: 1204953, wobei die nächst kleinere Ortschaft 102609 Einwohner zählt. Weitere Informationen zu den vorhandenen Daten können aus dem [SweetViz Report](./reports/district.html) entnommen werden. "
   ],
   "metadata": {
    "collapsed": false
   },
   "id": "f7ce79d49dead509"
  },
  {
   "cell_type": "code",
   "outputs": [],
   "source": [
    "%%capture\n",
    "svReport_district = sv.analyze(district)\n",
    "svReport_district.show_html(filepath=\"./reports/district.html\", open_browser=False)"
   ],
   "metadata": {
    "collapsed": false
   },
   "id": "58d442299747ee4d",
   "execution_count": null
  },
  {
   "cell_type": "markdown",
   "id": "ab49b40828498513",
   "metadata": {
    "collapsed": false
   },
   "source": [
    "## Loan\n",
    "[//]: # (-.- .tabset)\n",
    "\n",
    "Der Datensatz `loan.csv` beinhaltet 682 Observationen mit den folgenden Informationen über die vergebenen Darlehen der Bank:  \n",
    "- `loan_id`: ID des Darlehens,\n",
    "- `account_id`: die Kontonummer,\n",
    "- `date`: das Datum, wann das Darlehen gewährt wurde,\n",
    "- `amount`: der Betrag,\n",
    "- `duration`: die Dauer des Darlehens,\n",
    "- `payments`: die höhe der monatlichen Zahlungen und\n",
    "- `status`: der Rückzahlungsstatus (A: ausgeglichen, B: Vertrag abgelaufen aber nicht fertig bezahlt, C: laufender Vertrag und alles in Ordnung, D: laufender Vertrag und Kunde verschuldet)\n"
   ]
  },
  {
   "cell_type": "code",
   "outputs": [],
   "source": [
    "loan.info()"
   ],
   "metadata": {
    "collapsed": false
   },
   "id": "88332197cb3457cf",
   "execution_count": null
  },
  {
   "cell_type": "code",
   "outputs": [],
   "source": [
    "print(\"Anzahl fehlender Werte:\", sum(loan.isnull().sum()))\n",
    "print(\"Anzahl duplizierter Einträge:\", loan.duplicated().sum())"
   ],
   "metadata": {
    "collapsed": false
   },
   "id": "6cd384ed4934f762",
   "execution_count": null
  },
  {
   "cell_type": "markdown",
   "source": [
    "### Transformation\n",
    "Auch für den `loan.csv` Datensatz werden zunächst Datenformate korrigiert und Kategorien übersetzt. Anschliessend wird überprüft, ob ein Bankkonto mehrere Darlehen besitzt.  "
   ],
   "metadata": {
    "collapsed": false
   },
   "id": "25b39f74c151d170"
  },
  {
   "cell_type": "code",
   "execution_count": null,
   "id": "f14128bbeb96ba97",
   "metadata": {
    "collapsed": false
   },
   "outputs": [],
   "source": [
    "# Datum parsen\n",
    "loan[\"date\"] = pd.to_datetime(loan[\"date\"], format=\"%y%m%d\")\n",
    "\n",
    "# Kategorien übersetzen\n",
    "loan[\"status\"] = loan[\"status\"].map(\n",
    "    {\n",
    "        \"A\": \"contract finished\",\n",
    "        \"B\": \"finished contract, loan not paid\",\n",
    "        \"C\": \"running contract\",\n",
    "        \"D\": \"client in debt\",\n",
    "    }\n",
    ")\n",
    "\n",
    "loan[\"status\"] = loan[\"status\"].astype(\"category\")"
   ]
  },
  {
   "cell_type": "code",
   "outputs": [],
   "source": [
    "# Anzahl der Darlehen pro Kontonummer berechnen\n",
    "num_of_loan_df = (\n",
    "    loan.groupby(\"account_id\")\n",
    "    .size()\n",
    "    .reset_index(name=\"num_of_loan\")\n",
    "    .sort_values(by=\"num_of_loan\", ascending=False)\n",
    ")"
   ],
   "metadata": {
    "collapsed": false
   },
   "id": "dd522b7ab3590f35",
   "execution_count": null
  },
  {
   "cell_type": "code",
   "outputs": [],
   "source": [
    "# Überprüfen, ob jedes Konto nur ein Darlehen hat\n",
    "num_of_loan_df[\"num_of_loan\"].value_counts()"
   ],
   "metadata": {
    "collapsed": false
   },
   "id": "699b4c5a1879bd88",
   "execution_count": null
  },
  {
   "cell_type": "markdown",
   "source": [
    "Von allen Bankkontos, die ein Darlehen aufgenommen haben, hat jedes Konto genau ein Darlehen zugewiesen."
   ],
   "metadata": {
    "collapsed": false
   },
   "id": "c72756f0b20ae233"
  },
  {
   "cell_type": "code",
   "execution_count": null,
   "id": "443d8fe7886ac784",
   "metadata": {
    "collapsed": false
   },
   "outputs": [],
   "source": [
    "# Assign the resulting DataFrame to a dictionary for storage\n",
    "data_frames[\"loan.csv\"] = loan\n",
    "\n",
    "# Sample 5 random rows from the joined DataFrame\n",
    "display(loan.sample(n=5))"
   ]
  },
  {
   "cell_type": "code",
   "outputs": [],
   "source": [
    "%%capture\n",
    "svReport_loan = sv.analyze(loan)\n",
    "svReport_loan.show_html(filepath=\"./reports/loan.html\", open_browser=False)"
   ],
   "metadata": {
    "collapsed": false
   },
   "id": "a7d99167163c6abe",
   "execution_count": null
  },
  {
   "cell_type": "markdown",
   "source": [
    "### Ausstellungsdatum\n",
    "Nachfolgend dargestellt ist die Verteilung der Darlehensausstellungsdaten. das erste Darlehen wurde im Juli 1993 ausgestellt und das neuste im Dezember 1998. "
   ],
   "metadata": {
    "collapsed": false
   },
   "id": "f2cbc56f0e34e17b"
  },
  {
   "cell_type": "code",
   "outputs": [],
   "source": [
    "# plot distribution of date\n",
    "plt.figure(figsize=(15, 6))\n",
    "loan[\"date\"].dt.to_period(\"M\").value_counts().sort_index().plot(kind=\"bar\")\n",
    "plt.title(\"Verteilung der Darlehensausstellungsdaten\")\n",
    "plt.xlabel(\"Datum\")\n",
    "plt.ylabel(\"Anzahl\")\n",
    "plt.show()"
   ],
   "metadata": {
    "collapsed": false
   },
   "id": "a4ac1d1bbdbc232c",
   "execution_count": null
  },
  {
   "cell_type": "markdown",
   "source": [
    "### Dauer\n",
    "Hier ersichtlich ist die Verteilung der Dauer der Darlehen. Sie ist fast gleichverteilt über die 5 möglichen Optionen. "
   ],
   "metadata": {
    "collapsed": false
   },
   "id": "4c984ac5bb69c8f"
  },
  {
   "cell_type": "code",
   "outputs": [],
   "source": [
    "# plot duration distribution\n",
    "plt.figure(figsize=(10, 6))\n",
    "loan[\"duration\"].value_counts().plot(kind=\"bar\")\n",
    "plt.title(\"Verteilung der Darlehensdauer\")\n",
    "plt.xlabel(\"Dauer\")\n",
    "plt.ylabel(\"Anzahl\")\n",
    "plt.show()"
   ],
   "metadata": {
    "collapsed": false
   },
   "id": "5f73eeb57a8bb45a",
   "execution_count": null
  },
  {
   "cell_type": "markdown",
   "source": [
    "### Betrag\n",
    "Hier dargestellt ist die Verteilung der Darlehensbeträge. Nur wenige Darlehensbeträge sind höher als 400000 wobei die meisten um die 100000 betragen. "
   ],
   "metadata": {
    "collapsed": false
   },
   "id": "2bcc81fc7c7b99ee"
  },
  {
   "cell_type": "code",
   "outputs": [],
   "source": [
    "# plot amount\n",
    "plt.figure(figsize=(10, 6))\n",
    "loan[\"amount\"].plot(kind=\"hist\", bins=20)\n",
    "plt.title(\"Verteilung der Darlehensbeträge\")\n",
    "plt.xlabel(\"Betrag\")\n",
    "plt.ylabel(\"Anzahl\")\n",
    "plt.show()"
   ],
   "metadata": {
    "collapsed": false
   },
   "id": "7301f6608dc1d0c1",
   "execution_count": null
  },
  {
   "cell_type": "markdown",
   "source": [
    "### Status\n",
    "Der nachfolgende Plot zeigt die Klassenverteilung vom Darlehensstatus. Die meisten (~400) sind laufend und ok, rund 200 sind abgeschlossen, die Kunden von ~50 Darlehen sind verschuldet und etwas weniger wurden abgeschlossen, ohne fertig abbezahlt worden zu sein.  "
   ],
   "metadata": {
    "collapsed": false
   },
   "id": "e9e020b72a50c630"
  },
  {
   "cell_type": "code",
   "outputs": [],
   "source": [
    "# plot status distribution\n",
    "plt.figure(figsize=(10, 6))\n",
    "loan[\"status\"].value_counts().plot(kind=\"bar\")\n",
    "plt.title(\"Verteilung der Darlehensstatus\")\n",
    "plt.xlabel(\"Status\")\n",
    "plt.ylabel(\"Anzahl\")\n",
    "plt.show()"
   ],
   "metadata": {
    "collapsed": false
   },
   "id": "4dd4a2834f10e395",
   "execution_count": null
  },
  {
   "cell_type": "markdown",
   "source": [
    "### Zahlungen\n",
    "Hier ersichtlich ist die Verteilung der monatlichen Zahlungen der Darlehen. Die kleinste monatliche Zahlung beträgt 304 und die höchste 9910."
   ],
   "metadata": {
    "collapsed": false
   },
   "id": "10556327f4061b21"
  },
  {
   "cell_type": "code",
   "outputs": [],
   "source": [
    "# plot payments\n",
    "plt.figure(figsize=(10, 6))\n",
    "loan[\"payments\"].plot(kind=\"hist\", bins=20)\n",
    "plt.title(\"Verteilung der monatlichen Zahlungen\")\n",
    "plt.xlabel(\"Zahlungen\")\n",
    "plt.ylabel(\"Anzahl\")\n",
    "plt.show()"
   ],
   "metadata": {
    "collapsed": false
   },
   "id": "99315f11c8260978",
   "execution_count": null
  },
  {
   "cell_type": "markdown",
   "source": [
    "### Korrelation & weitere Informationen\n",
    "Die Korrelation sowie weitere Informationen zu den vorhandenen Daten können aus dem [SweetViz Report](./reports/loan.html) entnommen werden."
   ],
   "metadata": {
    "collapsed": false
   },
   "id": "4e7f3c62b1c152e9"
  },
  {
   "cell_type": "markdown",
   "id": "5cd0d8d68ee78832",
   "metadata": {
    "collapsed": false
   },
   "source": [
    "## Order\n",
    "[//]: # (-.- .tabset)\n",
    "\n",
    "Der Datensatz `order.csv` beinhaltet 6471 Observationen mit den folgenden Informationen über die Daueraufträge eines Kontos:  \n",
    "- `order_id`: die Nummer des Dauerauftrags,\n",
    "- `account_id`: die Kontonummer von welchem der Auftrag stammt,\n",
    "- `bank_to`: die empfangende Bank,\n",
    "- `account_to`: das empfangende Konto, \n",
    "- `amount`: der Betrag,\n",
    "- `k_symbol`: die Art des Auftrags (Versicherungszahlung, Haushalt, Leasing, Darlehen)\n"
   ]
  },
  {
   "cell_type": "code",
   "outputs": [],
   "source": [
    "order.info()"
   ],
   "metadata": {
    "collapsed": false
   },
   "id": "aa76ce744da46a3a",
   "execution_count": null
  },
  {
   "cell_type": "code",
   "outputs": [],
   "source": [
    "print(\"Anzahl fehlender Werte:\", sum(order.isnull().sum()))\n",
    "print(\"Anzahl duplizierter Einträge:\", order.duplicated().sum())"
   ],
   "metadata": {
    "collapsed": false
   },
   "id": "4c1a208e0774001b",
   "execution_count": null
  },
  {
   "cell_type": "markdown",
   "source": [
    "### Transformation\n",
    "Auch für `order.csv` werden die Kategorien zunächst übersetzt und fehlende Werte mit der Kategorie `unknown` ersetzt. Es bestehen deutlich mehr Daueraufträge als Bankkontos, was darauf hindeutet, dass ein Bankkonto mehrere Daueraufträge eingerichtet haben kann. Zur weiteren Verarbeitung der Daten wird das Format so geändert, dass pro Konto ein `order`-Eintrag existiert.  "
   ],
   "metadata": {
    "collapsed": false
   },
   "id": "a1eb8285bdfd6fdb"
  },
  {
   "cell_type": "code",
   "execution_count": null,
   "id": "dd4df6712d6a316c",
   "metadata": {
    "collapsed": false
   },
   "outputs": [],
   "source": [
    "# Kategorien übersetzen und fehlende Werte mit \"unknown\" füllen\n",
    "order[\"k_symbol\"] = (\n",
    "    order[\"k_symbol\"]\n",
    "    .map(\n",
    "        {\n",
    "            \"POJISTNE\": \"insurance_payment\",\n",
    "            \"SIPO\": \"household\",\n",
    "            \"UVER\": \"loan_payment\",\n",
    "            \"LEASING\": \"leasing\",\n",
    "        }\n",
    "    )\n",
    "    .fillna(\"unknown\")\n",
    ")\n",
    "\n",
    "order[\"k_symbol\"] = order[\"k_symbol\"].astype(\"category\")"
   ]
  },
  {
   "cell_type": "code",
   "outputs": [],
   "source": [
    "# Merge with 'account_id_df' to ensure all accounts are represented\n",
    "order = pd.merge(account[[\"account_id\"]], order, on=\"account_id\", how=\"left\")\n",
    "\n",
    "# After merging, fill missing values that may have been introduced\n",
    "order[\"k_symbol\"] = order[\"k_symbol\"].fillna(\"unknown\")\n",
    "order[\"amount\"] = order[\"amount\"].fillna(0)\n",
    "order[\"has_order\"] = ~order.isna().any(axis=1)\n",
    "\n",
    "orders_pivot = order.pivot_table(\n",
    "    index=\"account_id\", columns=\"k_symbol\", values=\"amount\", aggfunc=\"sum\", observed=False\n",
    ")\n",
    "\n",
    "# Add prefix to column names\n",
    "orders_pivot.columns = orders_pivot.columns\n",
    "\n",
    "orders_pivot = orders_pivot.reset_index()\n",
    "# Assuming data_frames is a dictionary for storing DataFrames\n",
    "data_frames[\"order.csv\"] = orders_pivot\n",
    "\n",
    "# NaN to 0\n",
    "data_frames[\"order.csv\"] = data_frames[\"order.csv\"].fillna(0)\n",
    "# Sample 5 random rows from the merged DataFrame\n",
    "data_frames[\"order.csv\"].sample(n=5)"
   ],
   "metadata": {
    "collapsed": false
   },
   "id": "44f27b3daebdf8cf",
   "execution_count": null
  },
  {
   "cell_type": "code",
   "outputs": [],
   "source": [
    "%%capture\n",
    "svReport_order = sv.analyze(order)\n",
    "svReport_order.show_html(filepath=\"./reports/order.html\", open_browser=False)"
   ],
   "metadata": {
    "collapsed": false
   },
   "id": "16ba56a67f48e4f9",
   "execution_count": null
  },
  {
   "cell_type": "markdown",
   "source": [
    "### Empfangende Bank\n",
    "Die Verteilung der empfangenden Banken ist ziemlich ausgeglichen, wobei in 742 Observationen diese Angabe fehlt.  "
   ],
   "metadata": {
    "collapsed": false
   },
   "id": "6f333df4b3bea32c"
  },
  {
   "cell_type": "markdown",
   "source": [
    "### Empfangendes Konto\n",
    "Auch bei den empfangenden Konten scheint es keine auffällige Konzentration bei wenigen Konten zu geben und bei 742 Observationen fehlt die Angabe ebenfalls.  "
   ],
   "metadata": {
    "collapsed": false
   },
   "id": "9d2010883c1ab5d7"
  },
  {
   "cell_type": "markdown",
   "source": [
    "### Betrag\n",
    "Der Betrag bewegt sich im Bereich zwischen 0 - 14882 mit einem Mittelwert von 2943 und einem Median von 2249. Die Verteilung ist also stark rechtsschief"
   ],
   "metadata": {
    "collapsed": false
   },
   "id": "16b56cf4f19dbdc3"
  },
  {
   "cell_type": "markdown",
   "source": [
    "### Art\n",
    "Die meisten Daueraufträge sind betreffend dem Haushalt eingerichtet worden (3502), die wenigsten für Leasing (341).  "
   ],
   "metadata": {
    "collapsed": false
   },
   "id": "a9a19523421b8d0"
  },
  {
   "cell_type": "markdown",
   "source": [
    "### Korrelation & weitere Informationen\n",
    "Die Korrelation sowie weitere Informationen zu den vorhandenen Daten können aus dem [SweetViz Report](./reports/order.html) entnommen werden."
   ],
   "metadata": {
    "collapsed": false
   },
   "id": "5a4019cb3e144037"
  },
  {
   "cell_type": "markdown",
   "id": "685aac71a001abe2",
   "metadata": {
    "collapsed": false
   },
   "source": [
    "## Trans\n",
    "[//]: # (-.- .tabset)\n",
    "\n",
    "Der Datensatz `trans.csv` beinhaltet 1056320 Observationen mit den folgenden Informationen über die Transaktionen eines Kontos:  \n",
    "- `trans_id`: die ID der Transaktion,\n",
    "- `account_id`: die Kontonummer des ausführenden Kontos,\n",
    "- `date`: das Datum,\n",
    "- `type`: der Typ (Einzahlung, Bezug)\n",
    "- `operation`: die Art der Transaktion (Bezug Kreditkarte, Bareinzahlung, Bezug über eine andere Bank, Bezug Bar, Überweisung)\n",
    "- `amount`: der Betrag der Transaktion,\n",
    "- `balance`: der Kontostand nach ausführung der Transaktion,\n",
    "- `k_symbol`: die Klassifikation der Transaktion (Versicherungszahlung, Kontoauszug, Zinsauszahlung, Zinszahlung bei negativem Kontostand, Haushalt, Pension, Darlehensauszahlung),\n",
    "- `bank`: die empfangende Bank und \n",
    "- `account`: das empfangende Bankkonto\n"
   ]
  },
  {
   "cell_type": "code",
   "outputs": [],
   "source": [
    "trans.info()"
   ],
   "metadata": {
    "collapsed": false
   },
   "id": "1c7ca17fcf4bdd93",
   "execution_count": null
  },
  {
   "cell_type": "code",
   "outputs": [],
   "source": [
    "print(\"Anzahl fehlender Werte:\", sum(trans.isnull().sum()))\n",
    "print(\"Anzahl duplizierter Einträge:\", trans.duplicated().sum())"
   ],
   "metadata": {
    "collapsed": false
   },
   "id": "52f8e1684ee90e33",
   "execution_count": null
  },
  {
   "cell_type": "markdown",
   "source": [
    "### Transformation\n",
    "Die Kategorien für `type`, `operation` und `k_symbol` wurden übersetzt und die Datentypen korrigiert.  "
   ],
   "metadata": {
    "collapsed": false
   },
   "id": "e4877a71b98aed3f"
  },
  {
   "cell_type": "code",
   "execution_count": null,
   "id": "f0764eb67d748f04",
   "metadata": {
    "collapsed": false
   },
   "outputs": [],
   "source": [
    "trans[\"date\"] = pd.to_datetime(trans[\"date\"], format=\"%y%m%d\")\n",
    "\n",
    "# Update 'type' column\n",
    "trans[\"type\"] = trans[\"type\"].replace({\"PRIJEM\": \"credit\", \"VYDAJ\": \"withdrawal\"})\n",
    "trans[\"type\"] = trans[\"type\"].astype(\"category\")\n",
    "\n",
    "# Update 'operation' column\n",
    "trans[\"operation\"] = trans[\"operation\"].replace(\n",
    "    {\n",
    "        \"VYBER KARTOU\": \"credit card withdrawal\",\n",
    "        \"VKLAD\": \"credit in cash\",\n",
    "        \"PREVOD Z UCTU\": \"collection from another bank\",\n",
    "        \"VYBER\": \"cash withdrawal\",\n",
    "        \"PREVOD NA UCET\": \"remittance to another bank\",\n",
    "    }\n",
    ")\n",
    "trans[\"operation\"] = trans[\"operation\"].astype(\"category\")\n",
    "\n",
    "# Update 'k_symbol' column\n",
    "trans[\"k_symbol\"] = trans[\"k_symbol\"].replace(\n",
    "    {\n",
    "        \"POJISTNE\": \"insurance payment\",\n",
    "        \"SLUZBY\": \"statement payment\",\n",
    "        \"UROK\": \"interest credited\",\n",
    "        \"SANKC. UROK\": \"sanction interest if negative balance\",\n",
    "        \"SIPO\": \"household payment\",\n",
    "        \"DUCHOD\": \"pension credited\",\n",
    "        \"UVER\": \"loan payment\",\n",
    "    }\n",
    ")\n",
    "trans[\"k_symbol\"] = trans[\"k_symbol\"].astype(\"category\")\n",
    "\n",
    "# negate the amount if type is credit\n",
    "trans.loc[trans['type'] == 'credit', 'amount'] = trans.loc[trans['type'] == 'credit', 'amount'] * (-1)"
   ]
  },
  {
   "cell_type": "code",
   "outputs": [],
   "source": [
    "# Assign to a dictionary if needed (similar to list assignment in R)\n",
    "data_frames[\"trans.csv\"] = trans\n",
    "\n",
    "# Sample 5 random rows from the DataFrame\n",
    "trans.sample(n=5)"
   ],
   "metadata": {
    "collapsed": false
   },
   "id": "4462e5f7787375e7",
   "execution_count": null
  },
  {
   "cell_type": "code",
   "outputs": [],
   "source": [
    "%%capture\n",
    "svReport_trans = sv.analyze(trans)\n",
    "svReport_trans.show_html(filepath=\"./reports/trans.html\", open_browser=False)"
   ],
   "metadata": {
    "collapsed": false
   },
   "id": "f42781a26c31a79a",
   "execution_count": null
  },
  {
   "cell_type": "markdown",
   "source": [
    "### Zeitliche Entwicklung eines Kontos"
   ],
   "metadata": {
    "collapsed": false
   },
   "id": "24ecff8af5d1294c"
  },
  {
   "cell_type": "code",
   "execution_count": null,
   "id": "cbf71b0cbb067d8d",
   "metadata": {
    "collapsed": false
   },
   "outputs": [],
   "source": [
    "# Plot Zeitliche Entwicklung des Konto-Saldos für die Konto nummer 19\n",
    "account_19 = trans[trans[\"account_id\"] == 19].copy()  # Create a copy of the DataFrame\n",
    "# Ensure the date column is in datetime format\n",
    "account_19[\"date\"] = pd.to_datetime(account_19[\"date\"])\n",
    "\n",
    "# Sort the values by date\n",
    "account_19 = account_19.sort_values(\"date\")\n",
    "\n",
    "plt.figure(figsize=(10, 6))\n",
    "plt.plot(account_19[\"date\"], account_19[\"balance\"])\n",
    "plt.title(\"Time evolution of balance for account number 19\")\n",
    "plt.xlabel(\"Date\")\n",
    "plt.ylabel(\"Balance\")\n",
    "plt.show()"
   ]
  },
  {
   "cell_type": "code",
   "execution_count": null,
   "id": "dac4c92cc0cac40a",
   "metadata": {
    "collapsed": false
   },
   "outputs": [],
   "source": [
    "# zoom the year 1995 of the plot\n",
    "account_19_1995 = account_19[account_19[\"date\"].dt.year == 1995]\n",
    "# plot it\n",
    "plt.figure(figsize=(10, 6))\n",
    "plt.plot(account_19_1995[\"date\"], account_19_1995[\"balance\"])\n",
    "plt.title(\"Time evolution of balance for account number 19 in 1995\")\n",
    "plt.xlabel(\"Date\")\n",
    "plt.ylabel(\"Balance\")\n",
    "plt.show()\n",
    "\n",
    "# Wee see that there is a steep line in 1995-10 so there are two transactions, this we have to clean."
   ]
  },
  {
   "cell_type": "markdown",
   "source": [
    "### Korrelation & weitere Informationen\n",
    "Die Korrelation sowie weitere Informationen zu den vorhandenen Daten können aus dem [SweetViz Report](./reports/trans.html) entnommen werden."
   ],
   "metadata": {
    "collapsed": false
   },
   "id": "c4dbfec39c3be6b7"
  },
  {
   "cell_type": "markdown",
   "id": "ba92c0948cfd049e",
   "metadata": {
    "collapsed": false
   },
   "source": [
    "# Datenaufbereitung\n",
    "Im nachfolgenden Abschnitt werden die Daten zu statischen (Kunden-) Daten und transaktionellen (Bankdienstleistungs-) Daten kombiniert um diese anschliessend zusammenzufügen.  \n",
    " \n",
    "## Statische Daten\n",
    "Hier zusammengefügt wurden die Daten aus \n",
    "- `disp.csv`\n",
    "- `account.csv`\n",
    "- `client.csv`\n",
    "- `card.csv`\n",
    "- `loan.csv` \n",
    "- `order.csv`\n",
    "- `districts.csv`"
   ]
  },
  {
   "cell_type": "code",
   "execution_count": null,
   "id": "f74c80cf9f2ab467",
   "metadata": {
    "collapsed": false
   },
   "outputs": [],
   "source": [
    "#TODO \n",
    "# merge dataframes\n",
    "static_data = (\n",
    "    data_frames[\"disp.csv\"]\n",
    "    .add_suffix(\"_disp\")\n",
    "    .merge(\n",
    "        data_frames[\"account.csv\"].add_suffix(\"_account\"),\n",
    "        left_on=\"account_id_disp\",\n",
    "        right_on=\"account_id_account\",\n",
    "        how=\"left\",\n",
    "    )\n",
    "    .merge(\n",
    "        data_frames[\"card.csv\"].add_suffix(\"_card\"),\n",
    "        left_on=\"disp_id_disp\",\n",
    "        right_on=\"disp_id_card\",\n",
    "        how=\"left\",\n",
    "    )\n",
    "    .merge(\n",
    "        data_frames[\"loan.csv\"].add_suffix(\"_loan\"),\n",
    "        left_on=\"account_id_disp\",\n",
    "        right_on=\"account_id_loan\",\n",
    "        how=\"left\",\n",
    "    )\n",
    "    .merge(\n",
    "        data_frames[\"order.csv\"].add_suffix(\"_order\"),\n",
    "        left_on=\"account_id_disp\",\n",
    "        right_on=\"account_id_order\",\n",
    "        how=\"left\",\n",
    "    )\n",
    ")"
   ]
  },
  {
   "cell_type": "code",
   "execution_count": null,
   "id": "85f6406819b37664",
   "metadata": {
    "collapsed": false
   },
   "outputs": [],
   "source": [
    "static_data.columns"
   ]
  },
  {
   "cell_type": "code",
   "execution_count": null,
   "id": "8fe4a5d3546e52aa",
   "metadata": {
    "collapsed": false
   },
   "outputs": [],
   "source": [
    "cols_to_replace_na = [\n",
    "    \"household_order\",\n",
    "    \"insurance_payment_order\",\n",
    "    \"loan_payment_order\",\n",
    "    \"leasing_order\",\n",
    "    \"unknown_order\",\n",
    "]\n",
    "\n",
    "static_data[cols_to_replace_na] = static_data[\n",
    "    cols_to_replace_na\n",
    "].fillna(0)"
   ]
  },
  {
   "cell_type": "markdown",
   "id": "d5c3e7f7af1fbb24",
   "metadata": {
    "collapsed": false
   },
   "source": [
    "## Dropping of Junior Cards that are not on the edge to a normal card Analyse\n"
   ]
  },
  {
   "cell_type": "code",
   "execution_count": null,
   "id": "40f794ab7840c1e4",
   "metadata": {
    "collapsed": false
   },
   "outputs": [],
   "source": [
    "# join district and client left join on district_id\n",
    "static_data = static_data.merge(\n",
    "    data_frames[\"district.csv\"],\n",
    "    left_on=\"district_id_account\",\n",
    "    right_on=\"district_id\",\n",
    "    how=\"left\",\n",
    ")\n",
    "\n",
    "static_data"
   ]
  },
  {
   "cell_type": "code",
   "execution_count": null,
   "id": "e688382403b8ab8d",
   "metadata": {
    "collapsed": false
   },
   "outputs": [],
   "source": [
    "# merge client with suffix\n",
    "static_data = static_data.merge(\n",
    "    data_frames[\"client.csv\"].add_suffix(\"_client\"),\n",
    "    left_on=\"client_id_disp\",\n",
    "    right_on=\"client_id_client\",\n",
    "    how=\"left\",\n",
    ")"
   ]
  },
  {
   "cell_type": "code",
   "execution_count": null,
   "id": "aac36ef0f2b21022",
   "metadata": {
    "collapsed": false
   },
   "outputs": [],
   "source": [
    "static_data[\"has_card\"] = ~static_data[\"card_id_card\"].isna()\n",
    "\n",
    "# Filter rows where 'has_card' is True\n",
    "filtered_data = static_data[static_data[\"has_card\"]]\n",
    "\n",
    "# Check if there are duplicated 'account_id' in the filtered data\n",
    "duplicated_account_id = filtered_data[\"account_id_account\"].duplicated().sum()\n",
    "\n",
    "print(duplicated_account_id)"
   ]
  },
  {
   "cell_type": "markdown",
   "id": "aac9740bd5915e56",
   "metadata": {
    "collapsed": false
   },
   "source": [
    "\n",
    "## Junior Cards removal"
   ]
  },
  {
   "cell_type": "code",
   "execution_count": null,
   "id": "785914b000d4ad2e",
   "metadata": {
    "collapsed": false
   },
   "outputs": [],
   "source": [
    "import matplotlib.pyplot as plt\n",
    "import seaborn as sns\n",
    "from datetime import datetime\n",
    "\n",
    "display(static_data)\n",
    "\n",
    "# Filter rows where 'card_type' contains 'junior' (case insensitive)\n",
    "junior_cards = static_data[\n",
    "    static_data[\"type_card\"].str.contains(\"junior\", case=False, na=False)\n",
    "]\n",
    "\n",
    "display(junior_cards)\n",
    "\n",
    "# Calculate age at issue\n",
    "junior_cards[\"age_at_issue\"] = (\n",
    "                                       junior_cards[\"issued_card\"] - junior_cards[\"birth_day_client\"]\n",
    "                               ).dt.days // 365\n",
    "\n",
    "# Plot histogram\n",
    "plt.figure(figsize=(10, 6))\n",
    "sns.histplot(data=junior_cards, x=\"age_at_issue\", bins=20)\n",
    "plt.title(\"Age distribution at issue date of junior cards\")\n",
    "plt.xlabel(\"Age at issue date\")\n",
    "plt.ylabel(\"Number of cards\")\n",
    "plt.show()"
   ]
  },
  {
   "cell_type": "markdown",
   "id": "2464463f82adc331",
   "metadata": {
    "collapsed": false
   },
   "source": [
    "In the advertising campaign, we do not want to promote children's/junior cards (for whatever reasons). First, I looked at the distribution of age at issuance. Here I see that there are not many junior cards, nor are the cards issued at a late age."
   ]
  },
  {
   "cell_type": "code",
   "execution_count": null,
   "id": "97143241bdb84fa4",
   "metadata": {
    "collapsed": false
   },
   "outputs": [],
   "source": [
    "num_accounts_before = len(static_data)\n",
    "# Filter rows where 'card_type' does not contain 'junior' (case insensitive)\n",
    "non_transactional_data = static_data[\n",
    "    ~static_data[\"type_card\"].str.contains(\"junior\", case=False, na=False)\n",
    "]\n",
    "num_accounts_after = len(non_transactional_data)\n",
    "num_junior_cards = num_accounts_before - num_accounts_after\n",
    "print(f\"Number of junior cards removed: {num_junior_cards}\")"
   ]
  },
  {
   "cell_type": "markdown",
   "source": [
    "## Transaktionen"
   ],
   "metadata": {
    "collapsed": false
   },
   "id": "c6b60e54a6752438"
  },
  {
   "cell_type": "markdown",
   "source": [
    "## Zusammenfügen der Daten"
   ],
   "metadata": {
    "collapsed": false
   },
   "id": "73ff09b8a5ed723c"
  },
  {
   "cell_type": "code",
   "execution_count": null,
   "id": "5165225a8f732e41",
   "metadata": {
    "collapsed": false
   },
   "outputs": [],
   "source": [
    "%%capture\n",
    "import subprocess\n",
    "import pathlib\n",
    "\n",
    "try:\n",
    "    file_path = pathlib.Path(os.path.basename(__file__))\n",
    "except:\n",
    "    file_path = pathlib.Path(\"AML_MC.ipynb\")\n",
    "\n",
    "# Check the file extension\n",
    "if file_path.suffix == \".py\":\n",
    "    # If it's a Python script, convert it to a notebook\n",
    "    try:\n",
    "        subprocess.check_output([\"jupytext\", \"--to\", \"notebook\", str(file_path)])\n",
    "        print(\"Converted to notebook.\")\n",
    "    except subprocess.CalledProcessError as e:\n",
    "        print(\"Conversion failed. Error message:\", e.output)\n",
    "elif file_path.suffix == \".ipynb\":\n",
    "    # If it's a notebook, convert it to a Python script with cell markers\n",
    "    try:\n",
    "        subprocess.check_output([\"jupytext\", \"--to\", \"py:percent\", str(file_path)])\n",
    "        print(\"Converted to Python script.\")\n",
    "    except subprocess.CalledProcessError as e:\n",
    "        print(\"Conversion failed. Error message:\", e.output)\n",
    "else:\n",
    "    print(\"Unsupported file type.\")"
   ]
  },
  {
   "cell_type": "code",
   "execution_count": null,
   "id": "a3657d600f2fb502",
   "metadata": {
    "collapsed": false
   },
   "outputs": [],
   "source": [
    "# Update html output\n",
    "# jupyter nbconvert --to html --template pj AML_MC.ipynb"
   ]
  },
  {
   "cell_type": "markdown",
   "source": [
    "# Referenzen\n",
    "- [1] [Applied Predictive Modelling](http://link.springer.com/10.1007/978-1-4614-6849-3)"
   ],
   "metadata": {
    "collapsed": false
   },
   "id": "1b606901189a1f2c"
  }
 ],
 "metadata": {
  "jupytext": {
   "cell_metadata_filter": "-all",
   "main_language": "python",
   "notebook_metadata_filter": "-all"
  },
  "kernelspec": {
   "display_name": "Python 3 (ipykernel)",
   "language": "python",
   "name": "python3"
  },
  "language_info": {
   "codemirror_mode": {
    "name": "ipython",
    "version": 3
   },
   "file_extension": ".py",
   "mimetype": "text/x-python",
   "name": "python",
   "nbconvert_exporter": "python",
   "pygments_lexer": "ipython3",
   "version": "3.12.3"
  }
 },
 "nbformat": 4,
 "nbformat_minor": 5
}
