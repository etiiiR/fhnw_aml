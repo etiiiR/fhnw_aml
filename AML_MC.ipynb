{
 "cells": [
  {
   "cell_type": "raw",
   "id": "e674a206",
   "metadata": {},
   "source": [
    "title:  AML Challenge 2024\n",
    "date: \"Generated: {{ datetime.now().strftime('%Y-%m-%d') }}\"\n",
    "author: Etienne Roulet, Alexander Shanmugam\n",
    "output:\n",
    "    general:\n",
    "        input_jinja: true\n",
    "    html:\n",
    "        code_folding: hide\n",
    "        code_tools: true\n",
    "        theme: readable"
   ]
  },
  {
   "cell_type": "markdown",
   "id": "7c61a7a7",
   "metadata": {},
   "source": [
    "# Setup\n",
    "Die folgenden Code-Blöcke können genutzt werden, um die benötigten Abhängigkeiten zu installieren und zu importieren."
   ]
  },
  {
   "cell_type": "code",
   "execution_count": 1,
   "id": "3494c3c0b186e29a",
   "metadata": {
    "collapsed": false,
    "ExecuteTime": {
     "end_time": "2024-05-07T13:34:30.169546Z",
     "start_time": "2024-05-07T13:34:28.704246Z"
    }
   },
   "outputs": [],
   "source": [
    "%%capture\n",
    "%pip install -r ../requirements.txt"
   ]
  },
  {
   "cell_type": "code",
   "execution_count": 2,
   "id": "a541c95fad65ded5",
   "metadata": {
    "collapsed": false,
    "ExecuteTime": {
     "end_time": "2024-05-07T13:34:30.916535Z",
     "start_time": "2024-05-07T13:34:30.173514Z"
    }
   },
   "outputs": [],
   "source": [
    "%%capture\n",
    "%load_ext pretty_jupyter"
   ]
  },
  {
   "cell_type": "code",
   "execution_count": 3,
   "id": "6ea03b7f554411a6",
   "metadata": {
    "collapsed": false,
    "ExecuteTime": {
     "end_time": "2024-05-07T13:34:35.193516Z",
     "start_time": "2024-05-07T13:34:30.919120Z"
    }
   },
   "outputs": [],
   "source": [
    "%%capture\n",
    "# Laden der eingesetzten Libraries\n",
    "from datetime import datetime\n",
    "\n",
    "import matplotlib.pyplot as plt\n",
    "import numpy as np\n",
    "import pandas as pd\n",
    "import sklearn.metrics as metrics\n",
    "import sweetviz as sv\n",
    "from IPython.display import display\n",
    "from itables import init_notebook_mode\n",
    "from sklearn.linear_model import LinearRegression\n",
    "\n",
    "init_notebook_mode()"
   ]
  },
  {
   "cell_type": "code",
   "execution_count": 4,
   "id": "1d740966f1a77141",
   "metadata": {
    "collapsed": false,
    "ExecuteTime": {
     "end_time": "2024-05-07T13:34:35.206895Z",
     "start_time": "2024-05-07T13:34:35.197445Z"
    }
   },
   "outputs": [],
   "source": [
    "# Funktion zur Bestimmung des Geschlechts und Berechnung des Geburtstags\n",
    "def parse_details(birth_number):\n",
    "    birth_number_str = str(\n",
    "        birth_number\n",
    "    )  # Konvertiere birth_number zu einem String, falls notwendig\n",
    "    year_prefix = \"19\"\n",
    "    month = int(birth_number_str[2:4])\n",
    "    gender = \"female\" if month > 12 else \"male\"\n",
    "    if gender == \"female\":\n",
    "        month -= 50\n",
    "    year = int(year_prefix + birth_number_str[:2])\n",
    "    day = int(birth_number_str[4:6])\n",
    "    birth_day = datetime(year, month, day)\n",
    "    return gender, birth_day\n",
    "\n",
    "\n",
    "# Berechnung des Alters basierend auf einem Basisjahr\n",
    "def calculate_age(birth_date, base_date=datetime(1999, 12, 31)):\n",
    "    return (\n",
    "            base_date.year\n",
    "            - birth_date.year\n",
    "            - ((base_date.month, base_date.day) < (birth_date.month, birth_date.day))\n",
    "    )\n",
    "\n",
    "\n",
    "# Regression metrics\n",
    "def regression_results(y_true, y_pred):\n",
    "    print('explained_variance: ', round(metrics.explained_variance_score(y_true, y_pred), 4))\n",
    "    print('mean_squared_log_error: ', round(metrics.mean_squared_log_error(y_true, y_pred), 4))\n",
    "    print('r2: ', round(metrics.r2_score(y_true, y_pred), 4))\n",
    "    print('MAE: ', round(metrics.mean_absolute_error(y_true, y_pred), 4))\n",
    "    print('MSE: ', round(metrics.mean_squared_error(y_true, y_pred), 4))\n",
    "    print('RMSE: ', round(np.sqrt(metrics.mean_squared_error(y_true, y_pred)), 4))"
   ]
  },
  {
   "cell_type": "markdown",
   "id": "b6780e67c83a46dc",
   "metadata": {
    "collapsed": false
   },
   "source": [
    "# Aufgabenstellung\n",
    "Inhalt der hier bearbeiteten und dokumentierten Mini-Challenge für das Modul «aml - Angewandtes Machine Learning» der FHNW ist die Entwicklung und Evaluierung von Aﬀinitätsmodellen für personalisierte Kreditkarten-Werbekampagnen im Auftrag einer Bank. Das Ziel der Authoren ist es also, mithilfe von Kunden- und Transaktionsdaten präzise Modelle zu erstellen, die die Wahrscheinlichkeit des Kreditkartenkaufs einer bestimmten Person vorhersagen."
   ]
  },
  {
   "cell_type": "markdown",
   "id": "bb649a41eef2a349",
   "metadata": {
    "collapsed": false
   },
   "source": [
    "# Laden der zur Verfügung gestellten Daten\n",
    "[//]: # (-.- .tabset)\n",
    "\n",
    "Zur Verfügung gestellt wurden 8 csv-Dateien von welchen die Beschreibung der erfassten Variablen unter dem folgenden Link eingesehen werden können: [PKDD'99 Discovery Challenge - Guide to the Financial Data Set](https://sorry.vse.cz/~berka/challenge/PAST/index.html). Nachfolgend werden diese csv-Dateien eingelesen."
   ]
  },
  {
   "cell_type": "code",
   "execution_count": 5,
   "id": "c6ab00787dc78783",
   "metadata": {
    "collapsed": false,
    "ExecuteTime": {
     "end_time": "2024-05-07T13:34:37.241235Z",
     "start_time": "2024-05-07T13:34:35.209396Z"
    }
   },
   "outputs": [],
   "source": [
    "account = pd.read_csv(\"./data/account.csv\", sep=\";\", dtype={\"date\": \"str\"})\n",
    "card = pd.read_csv(\"./data/card.csv\", sep=\";\", dtype={\"issued\": \"str\"})\n",
    "client = pd.read_csv(\"./data/client.csv\", sep=\";\")\n",
    "disp = pd.read_csv(\"./data/disp.csv\", sep=\";\")\n",
    "district = pd.read_csv(\"./data/district.csv\", sep=\";\")\n",
    "loan = pd.read_csv(\"./data/loan.csv\", sep=\";\", dtype={\"date\": \"str\"})\n",
    "order = pd.read_csv(\"./data/order.csv\", sep=\";\")\n",
    "trans = pd.read_csv(\"./data/trans.csv\", sep=\";\", dtype={\"date\": \"str\", \"bank\": \"str\"})"
   ]
  },
  {
   "cell_type": "markdown",
   "id": "692adb4421fbd887",
   "metadata": {
    "collapsed": false
   },
   "source": [
    "# Datenaufbereitung & Explorative Datenanalyse\n",
    "Im folgenden Abschnitt werden die geladenen Daten separat so transformiert, dass jede Zeile einer Observation und jede Spalte einer Variable im entsprechenden Datenformat entspricht, also ins Tidy-Format gebracht."
   ]
  },
  {
   "cell_type": "code",
   "execution_count": 6,
   "id": "cb0d810f246f5013",
   "metadata": {
    "collapsed": false,
    "ExecuteTime": {
     "end_time": "2024-05-07T13:34:37.246492Z",
     "start_time": "2024-05-07T13:34:37.243352Z"
    }
   },
   "outputs": [],
   "source": [
    "data_frames = {}"
   ]
  },
  {
   "cell_type": "markdown",
   "id": "4c02c97d0860aba3",
   "metadata": {
    "collapsed": false
   },
   "source": [
    "## Account\n",
    "[//]: # (-.- .tabset)\n",
    "Der Datensatz `accounts.csv` beinhaltet 4500 Observationen mit den folgenden Informationen über die Kontos der Bank:  \n",
    "- `account_id`: die Kontonummer, \n",
    "- `district_id`: den Standort der entsprechenden Bankfiliale,\n",
    "- `frequency`: die Frequenz der Ausstellung von Kontoauszügen (monatlich, wöchentlich, pro Transaktion) und \n",
    "- `date`: das Erstellungsdatum"
   ]
  },
  {
   "cell_type": "code",
   "outputs": [
    {
     "name": "stdout",
     "output_type": "stream",
     "text": [
      "<class 'pandas.core.frame.DataFrame'>\n",
      "RangeIndex: 4500 entries, 0 to 4499\n",
      "Data columns (total 4 columns):\n",
      " #   Column       Non-Null Count  Dtype \n",
      "---  ------       --------------  ----- \n",
      " 0   account_id   4500 non-null   int64 \n",
      " 1   district_id  4500 non-null   int64 \n",
      " 2   frequency    4500 non-null   object\n",
      " 3   date         4500 non-null   object\n",
      "dtypes: int64(2), object(2)\n",
      "memory usage: 140.8+ KB\n"
     ]
    }
   ],
   "source": [
    "account.info()"
   ],
   "metadata": {
    "collapsed": false,
    "ExecuteTime": {
     "end_time": "2024-05-07T13:34:37.268894Z",
     "start_time": "2024-05-07T13:34:37.248655Z"
    }
   },
   "id": "f04ecb5ae047629a",
   "execution_count": 7
  },
  {
   "cell_type": "code",
   "outputs": [
    {
     "name": "stdout",
     "output_type": "stream",
     "text": [
      "Anzahl fehlender Werte: 0\n",
      "Anzahl duplizierter Einträge: 0\n"
     ]
    }
   ],
   "source": [
    "print(\"Anzahl fehlender Werte:\", sum(account.isnull().sum()))\n",
    "print(\"Anzahl duplizierter Einträge:\", account.duplicated().sum())"
   ],
   "metadata": {
    "collapsed": false,
    "ExecuteTime": {
     "end_time": "2024-05-07T13:34:37.289288Z",
     "start_time": "2024-05-07T13:34:37.270667Z"
    }
   },
   "id": "4bcc7d5008f8cd80",
   "execution_count": 8
  },
  {
   "cell_type": "markdown",
   "source": [
    "### Aufbereitung\n",
    "Nachfolgend wird die `date` Spalte des `account.csv`-Datensatzes in das entsprechende Datenformat geparsed und die Werte von `frequency` übersetzt und als Levels einer Kategorie definiert."
   ],
   "metadata": {
    "collapsed": false
   },
   "id": "6dd7eba30fc1eaa4"
  },
  {
   "cell_type": "code",
   "execution_count": 9,
   "id": "53a28aded234e90b",
   "metadata": {
    "collapsed": false,
    "ExecuteTime": {
     "end_time": "2024-05-07T13:34:37.328799Z",
     "start_time": "2024-05-07T13:34:37.291206Z"
    }
   },
   "outputs": [
    {
     "data": {
      "text/plain": "      account_id  district_id frequency       date\n2603        1503           71   monthly 1996-04-10\n3280         261           54   monthly 1996-10-07\n3743        3851            1   monthly 1997-02-27\n2322        2416            5   monthly 1996-01-23\n3473          79            3   monthly 1996-11-29",
      "text/html": "<div>\n<style scoped>\n    .dataframe tbody tr th:only-of-type {\n        vertical-align: middle;\n    }\n\n    .dataframe tbody tr th {\n        vertical-align: top;\n    }\n\n    .dataframe thead th {\n        text-align: right;\n    }\n</style>\n<table border=\"1\" class=\"dataframe\">\n  <thead>\n    <tr style=\"text-align: right;\">\n      <th></th>\n      <th>account_id</th>\n      <th>district_id</th>\n      <th>frequency</th>\n      <th>date</th>\n    </tr>\n  </thead>\n  <tbody>\n    <tr>\n      <th>2603</th>\n      <td>1503</td>\n      <td>71</td>\n      <td>monthly</td>\n      <td>1996-04-10</td>\n    </tr>\n    <tr>\n      <th>3280</th>\n      <td>261</td>\n      <td>54</td>\n      <td>monthly</td>\n      <td>1996-10-07</td>\n    </tr>\n    <tr>\n      <th>3743</th>\n      <td>3851</td>\n      <td>1</td>\n      <td>monthly</td>\n      <td>1997-02-27</td>\n    </tr>\n    <tr>\n      <th>2322</th>\n      <td>2416</td>\n      <td>5</td>\n      <td>monthly</td>\n      <td>1996-01-23</td>\n    </tr>\n    <tr>\n      <th>3473</th>\n      <td>79</td>\n      <td>3</td>\n      <td>monthly</td>\n      <td>1996-11-29</td>\n    </tr>\n  </tbody>\n</table>\n</div>"
     },
     "execution_count": 9,
     "metadata": {},
     "output_type": "execute_result"
    }
   ],
   "source": [
    "# parse date\n",
    "account[\"date\"] = pd.to_datetime(account[\"date\"], format=\"%y%m%d\")\n",
    "# translate categories\n",
    "account[\"frequency\"] = account[\"frequency\"].replace(\n",
    "    {\n",
    "        \"POPLATEK MESICNE\": \"monthly\",\n",
    "        \"POPLATEK TYDNE\": \"weekly\",\n",
    "        \"POPLATEK PO OBRATU\": \"transactional\",\n",
    "    }\n",
    ")\n",
    "\n",
    "# convert column frequency to categorical\n",
    "account[\"frequency\"] = account[\"frequency\"].astype(\"category\")\n",
    "\n",
    "# sample 5 random rows\n",
    "account.sample(n=5)"
   ]
  },
  {
   "cell_type": "markdown",
   "source": [
    "### Distrikt\n",
    "Hier zu sehen ist die Verteilung der Distrikte pro Bankkonto. Ersichtlich ist, dass im Distrikt 1 mit Abstand am meisten Bankkontos geführt werden. Die darauf folgenden Distrikte bewegen sich alle im Bereich zwischen ~250 - 50 Bankkonten.  "
   ],
   "metadata": {
    "collapsed": false
   },
   "id": "49dd129962e2228"
  },
  {
   "cell_type": "code",
   "outputs": [
    {
     "data": {
      "text/plain": "<Figure size 1500x600 with 1 Axes>",
      "image/png": "[encoded data removed]"
     },
     "metadata": {},
     "output_type": "display_data"
    }
   ],
   "source": [
    "# plot the distribution of the district_ids and replace the id with it's name\n",
    "plt.figure(figsize=(15, 6))\n",
    "account[\"district_id\"].value_counts().plot(kind=\"bar\")\n",
    "plt.title(\"Verteilung der Distrikte\")\n",
    "plt.xlabel(\"Distrikt\")\n",
    "plt.ylabel(\"Anzahl\")\n",
    "plt.show()"
   ],
   "metadata": {
    "collapsed": false,
    "ExecuteTime": {
     "end_time": "2024-05-07T13:34:38.141095Z",
     "start_time": "2024-05-07T13:34:37.335363Z"
    }
   },
   "id": "c0628552e3611cbd",
   "execution_count": 10
  },
  {
   "cell_type": "markdown",
   "source": [
    "### Frequenz\n",
    "Auf dieser Visualisierung zu sehen ist die Klassenverteilung der Frequenz der Ausstellung der Kontoauszüge. Die allermeisten Bankkonten besitzen eine monatliche Ausstellung."
   ],
   "metadata": {
    "collapsed": false
   },
   "id": "ba2319b54eccfaa5"
  },
  {
   "cell_type": "code",
   "outputs": [
    {
     "data": {
      "text/plain": "<Figure size 1000x600 with 1 Axes>",
      "image/png": "[encoded data removed]"
     },
     "metadata": {},
     "output_type": "display_data"
    }
   ],
   "source": [
    "# Verteilung der Frequenz visualisieren\n",
    "plt.figure(figsize=(10, 6))\n",
    "account[\"frequency\"].value_counts().plot(kind=\"bar\")\n",
    "plt.title(\"Frequenz der Kontoauszüge\")\n",
    "plt.xlabel(\"Frequenz\")\n",
    "plt.ylabel(\"Anzahl\")\n",
    "plt.show()"
   ],
   "metadata": {
    "collapsed": false,
    "ExecuteTime": {
     "end_time": "2024-05-07T13:34:38.413593Z",
     "start_time": "2024-05-07T13:34:38.143451Z"
    }
   },
   "id": "63214f30f1ef5c4c",
   "execution_count": 11
  },
  {
   "cell_type": "markdown",
   "source": [
    "### Datum\n",
    "Der hier dargestellte Plot zeigt die Verteilung der Kontoerstellungsdaten. Das erste Konto wurde im Jahr 1993 und das neuste im 1998 erstellt.  "
   ],
   "metadata": {
    "collapsed": false
   },
   "id": "455f52514acac285"
  },
  {
   "cell_type": "code",
   "outputs": [
    {
     "data": {
      "text/plain": "<Figure size 1000x600 with 1 Axes>",
      "image/png": "[encoded data removed]"
     },
     "metadata": {},
     "output_type": "display_data"
    }
   ],
   "source": [
    "# plot date distribution\n",
    "plt.figure(figsize=(10, 6))\n",
    "plt.hist(account[\"date\"], bins=20)\n",
    "plt.title(\"Verteilung der Kontoerstellungsdaten\")\n",
    "plt.xlabel(\"Datum\")\n",
    "plt.ylabel(\"Anzahl\")\n",
    "plt.show()"
   ],
   "metadata": {
    "collapsed": false,
    "ExecuteTime": {
     "end_time": "2024-05-07T13:34:38.750825Z",
     "start_time": "2024-05-07T13:34:38.415342Z"
    }
   },
   "id": "edd6b409352731a7",
   "execution_count": 12
  },
  {
   "cell_type": "markdown",
   "source": [
    "### Korrelation & weitere Informationen\n",
    "Die Korrelation sowie weitere Informationen zu den vorhandenen Daten können aus dem [SweetViz Report](./reports/accounts.html) entnommen werden. "
   ],
   "metadata": {
    "collapsed": false
   },
   "id": "f178c3c54376bfc0"
  },
  {
   "cell_type": "code",
   "outputs": [],
   "source": [
    "# append account data to dataframe collection\n",
    "data_frames[\"account.csv\"] = account"
   ],
   "metadata": {
    "collapsed": false,
    "ExecuteTime": {
     "end_time": "2024-05-07T13:34:38.756742Z",
     "start_time": "2024-05-07T13:34:38.753246Z"
    }
   },
   "id": "e80485539d2e2542",
   "execution_count": 13
  },
  {
   "cell_type": "code",
   "outputs": [],
   "source": [
    "%%capture\n",
    "# generate sweetviz report\n",
    "svReport_account = sv.analyze(account)\n",
    "svReport_account.show_html(filepath=\"./reports/accounts.html\", open_browser=False)"
   ],
   "metadata": {
    "collapsed": false,
    "ExecuteTime": {
     "end_time": "2024-05-07T13:34:42.795921Z",
     "start_time": "2024-05-07T13:34:38.759197Z"
    }
   },
   "id": "4e10bb3e3d5027e1",
   "execution_count": 14
  },
  {
   "cell_type": "markdown",
   "id": "2855e5f609207fe7",
   "metadata": {
    "collapsed": false
   },
   "source": [
    "## Card\n",
    "[//]: # (-.- .tabset)\n",
    "\n",
    "Der Datensatz `card.csv` beinhaltet 892 Observationen mit den folgenden Informationen über die von der Bank herausgegebenen Kreditkarten:  \n",
    "- `card_id`: die Kartennummer, \n",
    "- `disp_id`: die Zuordnung zum entsprechenden Bankkonto und -inhaber (Disposition),\n",
    "- `type`: die Art der Kreditkarte (junior, classic, gold) und \n",
    "- `issued`: das Ausstellungsdatum"
   ]
  },
  {
   "cell_type": "code",
   "outputs": [
    {
     "name": "stdout",
     "output_type": "stream",
     "text": [
      "<class 'pandas.core.frame.DataFrame'>\n",
      "RangeIndex: 892 entries, 0 to 891\n",
      "Data columns (total 4 columns):\n",
      " #   Column   Non-Null Count  Dtype \n",
      "---  ------   --------------  ----- \n",
      " 0   card_id  892 non-null    int64 \n",
      " 1   disp_id  892 non-null    int64 \n",
      " 2   type     892 non-null    object\n",
      " 3   issued   892 non-null    object\n",
      "dtypes: int64(2), object(2)\n",
      "memory usage: 28.0+ KB\n"
     ]
    }
   ],
   "source": [
    "card.info()"
   ],
   "metadata": {
    "collapsed": false,
    "ExecuteTime": {
     "end_time": "2024-05-07T13:34:42.810125Z",
     "start_time": "2024-05-07T13:34:42.798328Z"
    }
   },
   "id": "ef85ea072c4d7e26",
   "execution_count": 15
  },
  {
   "cell_type": "code",
   "outputs": [
    {
     "name": "stdout",
     "output_type": "stream",
     "text": [
      "Anzahl fehlender Werte: 0\n",
      "Anzahl duplizierter Einträge: 0\n"
     ]
    }
   ],
   "source": [
    "print(\"Anzahl fehlender Werte:\", sum(card.isnull().sum()))\n",
    "print(\"Anzahl duplizierter Einträge:\", card.duplicated().sum())"
   ],
   "metadata": {
    "collapsed": false,
    "ExecuteTime": {
     "end_time": "2024-05-07T13:34:42.820898Z",
     "start_time": "2024-05-07T13:34:42.813127Z"
    }
   },
   "id": "7b3c3728c852bd10",
   "execution_count": 16
  },
  {
   "cell_type": "markdown",
   "source": [
    "### Aufbereitung\n",
    "Auch bei diesem Datensatz (`card.csv`) werden zunächst die Datentypen korrigiert um anschliessend die Inhalte entsprechend beschreiben zu können"
   ],
   "metadata": {
    "collapsed": false
   },
   "id": "ce810b942520a201"
  },
  {
   "cell_type": "code",
   "execution_count": 17,
   "id": "8bb1aeb129363e72",
   "metadata": {
    "collapsed": false,
    "ExecuteTime": {
     "end_time": "2024-05-07T13:34:42.842788Z",
     "start_time": "2024-05-07T13:34:42.823086Z"
    }
   },
   "outputs": [
    {
     "data": {
      "text/plain": "     card_id  disp_id     type     issued\n411      540     3425  classic 1997-11-29\n117      600     3829  classic 1996-05-20\n6        721     4680   junior 1994-04-05\n825      487     3130  classic 1998-11-18\n499      672     4349  classic 1998-03-07",
      "text/html": "<div>\n<style scoped>\n    .dataframe tbody tr th:only-of-type {\n        vertical-align: middle;\n    }\n\n    .dataframe tbody tr th {\n        vertical-align: top;\n    }\n\n    .dataframe thead th {\n        text-align: right;\n    }\n</style>\n<table border=\"1\" class=\"dataframe\">\n  <thead>\n    <tr style=\"text-align: right;\">\n      <th></th>\n      <th>card_id</th>\n      <th>disp_id</th>\n      <th>type</th>\n      <th>issued</th>\n    </tr>\n  </thead>\n  <tbody>\n    <tr>\n      <th>411</th>\n      <td>540</td>\n      <td>3425</td>\n      <td>classic</td>\n      <td>1997-11-29</td>\n    </tr>\n    <tr>\n      <th>117</th>\n      <td>600</td>\n      <td>3829</td>\n      <td>classic</td>\n      <td>1996-05-20</td>\n    </tr>\n    <tr>\n      <th>6</th>\n      <td>721</td>\n      <td>4680</td>\n      <td>junior</td>\n      <td>1994-04-05</td>\n    </tr>\n    <tr>\n      <th>825</th>\n      <td>487</td>\n      <td>3130</td>\n      <td>classic</td>\n      <td>1998-11-18</td>\n    </tr>\n    <tr>\n      <th>499</th>\n      <td>672</td>\n      <td>4349</td>\n      <td>classic</td>\n      <td>1998-03-07</td>\n    </tr>\n  </tbody>\n</table>\n</div>"
     },
     "execution_count": 17,
     "metadata": {},
     "output_type": "execute_result"
    }
   ],
   "source": [
    "# parse date\n",
    "card[\"issued\"] = pd.to_datetime(card[\"issued\"].str[:6], format=\"%y%m%d\")\n",
    "# convert type to categorical\n",
    "card[\"type\"] = card[\"type\"].astype(\"category\")\n",
    "\n",
    "card.sample(n=5)"
   ]
  },
  {
   "cell_type": "markdown",
   "source": [
    "### Kartentyp\n",
    "Hier dargestellt ist die Klassenverteilung der Kartentypen. Die meisten Karteninhaber besitzen eine klassische Kreditkarte, gefolgt von ~180 junior- und ~100 gold Karten.  "
   ],
   "metadata": {
    "collapsed": false
   },
   "id": "49223ba94dad711b"
  },
  {
   "cell_type": "code",
   "outputs": [
    {
     "data": {
      "text/plain": "<Figure size 1000x600 with 1 Axes>",
      "image/png": "[encoded data removed]"
     },
     "metadata": {},
     "output_type": "display_data"
    }
   ],
   "source": [
    "# plot distribution of type\n",
    "plt.figure(figsize=(10, 6))\n",
    "card[\"type\"].value_counts().plot(kind=\"bar\")\n",
    "plt.title(\"Verteilung der Kartentypen\")\n",
    "plt.xlabel(\"Kartentyp\")\n",
    "plt.ylabel(\"Anzahl\")\n",
    "plt.show()"
   ],
   "metadata": {
    "collapsed": false,
    "ExecuteTime": {
     "end_time": "2024-05-07T13:34:43.086839Z",
     "start_time": "2024-05-07T13:34:42.844778Z"
    }
   },
   "id": "f7c0fec1b7866023",
   "execution_count": 18
  },
  {
   "cell_type": "markdown",
   "source": [
    "### Ausstellungsdatum\n",
    "Hier dargestellt ist die Häufigkeit von Kreditkartenausstellungen pro Monat. Erkennbar ist eine steigende Tendenz mit einem Rückgang in den Monaten Februar - April 1997.  "
   ],
   "metadata": {
    "collapsed": false
   },
   "id": "7fe177e5f3e4cf09"
  },
  {
   "cell_type": "code",
   "outputs": [
    {
     "data": {
      "text/plain": "<Figure size 1500x600 with 1 Axes>",
      "image/png": "[encoded data removed]"
     },
     "metadata": {},
     "output_type": "display_data"
    }
   ],
   "source": [
    "# plot issued date per month and year\n",
    "plt.figure(figsize=(15, 6))\n",
    "card[\"issued\"].dt.to_period(\"M\").value_counts().sort_index().plot(kind=\"bar\")\n",
    "plt.title(\"Verteilung der Ausstellungsdaten\")\n",
    "plt.xlabel(\"Datum\")\n",
    "plt.ylabel(\"Anzahl\")\n",
    "plt.show()"
   ],
   "metadata": {
    "collapsed": false,
    "ExecuteTime": {
     "end_time": "2024-05-07T13:34:43.758986Z",
     "start_time": "2024-05-07T13:34:43.089416Z"
    }
   },
   "id": "dd94744b7d2cf9c2",
   "execution_count": 19
  },
  {
   "cell_type": "markdown",
   "source": [
    "### Korrelation & weitere Informationen\n",
    "Die Korrelation sowie weitere Informationen zu den vorhandenen Daten können aus dem [SweetViz Report](./reports/card.html) entnommen werden."
   ],
   "metadata": {
    "collapsed": false
   },
   "id": "c5024ed8735c39c2"
  },
  {
   "cell_type": "code",
   "outputs": [],
   "source": [
    "# append to dataframes collection\n",
    "data_frames[\"card.csv\"] = card"
   ],
   "metadata": {
    "collapsed": false,
    "ExecuteTime": {
     "end_time": "2024-05-07T13:34:43.764787Z",
     "start_time": "2024-05-07T13:34:43.761018Z"
    }
   },
   "id": "29c02b8d4b6680cd",
   "execution_count": 20
  },
  {
   "cell_type": "code",
   "outputs": [],
   "source": [
    "%%capture\n",
    "# generate sweetviz report\n",
    "svReport_card = sv.analyze(card)\n",
    "svReport_card.show_html(filepath=\"./reports/card.html\", open_browser=False)"
   ],
   "metadata": {
    "collapsed": false,
    "ExecuteTime": {
     "end_time": "2024-05-07T13:34:47.355243Z",
     "start_time": "2024-05-07T13:34:43.767476Z"
    }
   },
   "id": "a126eaa97190da7a",
   "execution_count": 21
  },
  {
   "cell_type": "markdown",
   "id": "e3d5a16c1e40e35",
   "metadata": {
    "collapsed": false
   },
   "source": [
    "## Client\n",
    "[//]: # (-.- .tabset)\n",
    "\n",
    "Der Datensatz `client.csv` beinhaltet 5369 Observationen mit den folgenden Informationen über die Kunden der Bank:  \n",
    "- `client_id`: die Kundennummer, \n",
    "- `birth_number`: eine Kombination aus Geburtsdatum und Geschlecht sowie\n",
    "- `district_id`: die Adresse  "
   ]
  },
  {
   "cell_type": "code",
   "outputs": [
    {
     "name": "stdout",
     "output_type": "stream",
     "text": [
      "<class 'pandas.core.frame.DataFrame'>\n",
      "RangeIndex: 5369 entries, 0 to 5368\n",
      "Data columns (total 3 columns):\n",
      " #   Column        Non-Null Count  Dtype\n",
      "---  ------        --------------  -----\n",
      " 0   client_id     5369 non-null   int64\n",
      " 1   birth_number  5369 non-null   int64\n",
      " 2   district_id   5369 non-null   int64\n",
      "dtypes: int64(3)\n",
      "memory usage: 126.0 KB\n"
     ]
    }
   ],
   "source": [
    "client.info()"
   ],
   "metadata": {
    "collapsed": false,
    "ExecuteTime": {
     "end_time": "2024-05-07T13:34:47.367780Z",
     "start_time": "2024-05-07T13:34:47.357422Z"
    }
   },
   "id": "710ddd86a89d490b",
   "execution_count": 22
  },
  {
   "cell_type": "code",
   "outputs": [
    {
     "name": "stdout",
     "output_type": "stream",
     "text": [
      "Anzahl fehlender Werte: 0\n",
      "Anzahl duplizierter Einträge: 0\n"
     ]
    }
   ],
   "source": [
    "print(\"Anzahl fehlender Werte:\", sum(client.isnull().sum()))\n",
    "print(\"Anzahl duplizierter Einträge:\", client.duplicated().sum())"
   ],
   "metadata": {
    "collapsed": false,
    "ExecuteTime": {
     "end_time": "2024-05-07T13:34:47.378777Z",
     "start_time": "2024-05-07T13:34:47.370465Z"
    }
   },
   "id": "7d4ebcb4852aac9a",
   "execution_count": 23
  },
  {
   "cell_type": "markdown",
   "source": [
    "### Aufbereitung\n",
    "Die Spalte `birth_number` des `client.csv`-Datensatzes codiert 3 Features der Bankkunden: Geschlecht, Geburtsdatum und damit auch das Alter. Diese Informationen werden mithilfe der zuvor definierten Funktionen `parse_details()` und `calculate_age` extrahiert."
   ],
   "metadata": {
    "collapsed": false
   },
   "id": "733f96188abfe731"
  },
  {
   "cell_type": "code",
   "execution_count": 24,
   "id": "e7f06951bbf5539a",
   "metadata": {
    "collapsed": false,
    "ExecuteTime": {
     "end_time": "2024-05-07T13:34:47.445948Z",
     "start_time": "2024-05-07T13:34:47.380967Z"
    }
   },
   "outputs": [
    {
     "data": {
      "text/plain": "      client_id  district_id  gender  birth_day  age\n812         856           23    male 1919-01-22   80\n2755       2911           45    male 1932-09-25   67\n3119       3293            1  female 1953-01-20   46\n737         773            4    male 1935-10-30   64\n5000       9316           63  female 1958-10-26   41",
      "text/html": "<div>\n<style scoped>\n    .dataframe tbody tr th:only-of-type {\n        vertical-align: middle;\n    }\n\n    .dataframe tbody tr th {\n        vertical-align: top;\n    }\n\n    .dataframe thead th {\n        text-align: right;\n    }\n</style>\n<table border=\"1\" class=\"dataframe\">\n  <thead>\n    <tr style=\"text-align: right;\">\n      <th></th>\n      <th>client_id</th>\n      <th>district_id</th>\n      <th>gender</th>\n      <th>birth_day</th>\n      <th>age</th>\n    </tr>\n  </thead>\n  <tbody>\n    <tr>\n      <th>812</th>\n      <td>856</td>\n      <td>23</td>\n      <td>male</td>\n      <td>1919-01-22</td>\n      <td>80</td>\n    </tr>\n    <tr>\n      <th>2755</th>\n      <td>2911</td>\n      <td>45</td>\n      <td>male</td>\n      <td>1932-09-25</td>\n      <td>67</td>\n    </tr>\n    <tr>\n      <th>3119</th>\n      <td>3293</td>\n      <td>1</td>\n      <td>female</td>\n      <td>1953-01-20</td>\n      <td>46</td>\n    </tr>\n    <tr>\n      <th>737</th>\n      <td>773</td>\n      <td>4</td>\n      <td>male</td>\n      <td>1935-10-30</td>\n      <td>64</td>\n    </tr>\n    <tr>\n      <th>5000</th>\n      <td>9316</td>\n      <td>63</td>\n      <td>female</td>\n      <td>1958-10-26</td>\n      <td>41</td>\n    </tr>\n  </tbody>\n</table>\n</div>"
     },
     "execution_count": 24,
     "metadata": {},
     "output_type": "execute_result"
    }
   ],
   "source": [
    "# Geburtstag & Geschlecht aus birth_number extrahieren\n",
    "client[\"gender\"], client[\"birth_day\"] = zip(\n",
    "    *client[\"birth_number\"].apply(parse_details)\n",
    ")\n",
    "client[\"gender\"] = client[\"gender\"].astype(\"category\")\n",
    "# Alter berechnen\n",
    "client[\"age\"] = client[\"birth_day\"].apply(calculate_age)\n",
    "\n",
    "# Spalte birth_number entfernen\n",
    "client = client.drop(columns=[\"birth_number\"])\n",
    "\n",
    "# Sample 5 random rows\n",
    "client.sample(n=5)"
   ]
  },
  {
   "cell_type": "markdown",
   "source": [
    "### Geschlecht\n",
    "Hier dargestellt ist die Verteilung des Geschlechts der Bankkunden. Das Geschlecht der erfassten Bankkunden ist fast gleichverteilt mit einem etwas kleineren Frauenanteil.  "
   ],
   "metadata": {
    "collapsed": false
   },
   "id": "41474c52455bdd5a"
  },
  {
   "cell_type": "code",
   "outputs": [
    {
     "data": {
      "text/plain": "<Figure size 1000x600 with 1 Axes>",
      "image/png": "[encoded data removed]"
     },
     "metadata": {},
     "output_type": "display_data"
    }
   ],
   "source": [
    "# plot distribution of gender\n",
    "plt.figure(figsize=(10, 6))\n",
    "gender_distribution = client['gender'].value_counts().plot(kind='bar')\n",
    "plt.title('Verteilung des Geschlechts der Bankkunden')\n",
    "plt.xlabel('Geschlecht')\n",
    "plt.ylabel('Anzahl')\n",
    "plt.show()"
   ],
   "metadata": {
    "collapsed": false,
    "ExecuteTime": {
     "end_time": "2024-05-07T13:34:47.688243Z",
     "start_time": "2024-05-07T13:34:47.448318Z"
    }
   },
   "id": "e12fb3b50dd3bfe3",
   "execution_count": 25
  },
  {
   "cell_type": "markdown",
   "source": [
    "### Alter\n",
    "Nachfolgend abgebildet ist die Verteilung des Alters der Bankkunden. Die jüngste erfasste Person ist 12 Jahre alt und die älteste 88. "
   ],
   "metadata": {
    "collapsed": false
   },
   "id": "fb4804e4303cc37"
  },
  {
   "cell_type": "code",
   "outputs": [
    {
     "data": {
      "text/plain": "<Figure size 1000x600 with 1 Axes>",
      "image/png": "[encoded data removed]"
     },
     "metadata": {},
     "output_type": "display_data"
    }
   ],
   "source": [
    "# plot distribution of age\n",
    "plt.figure(figsize=(10, 6))\n",
    "client[\"age\"].plot(kind=\"hist\", bins=20)\n",
    "plt.title(\"Verteilung des Alters der Bankkunden\")\n",
    "plt.xlabel(\"Alter\")\n",
    "plt.ylabel(\"Anzahl\")\n",
    "plt.show()"
   ],
   "metadata": {
    "collapsed": false,
    "ExecuteTime": {
     "end_time": "2024-05-07T13:34:47.966283Z",
     "start_time": "2024-05-07T13:34:47.690839Z"
    }
   },
   "id": "ed813ac6e0786fc3",
   "execution_count": 26
  },
  {
   "cell_type": "markdown",
   "source": [
    "### Korrelation & weitere Informationen\n",
    "Die Korrelation sowie weitere Informationen zu den vorhandenen Daten können aus dem [SweetViz Report](./reports/client.html) entnommen werden."
   ],
   "metadata": {
    "collapsed": false
   },
   "id": "b154e427acd4e848"
  },
  {
   "cell_type": "code",
   "outputs": [],
   "source": [
    "data_frames[\"client.csv\"] = client"
   ],
   "metadata": {
    "collapsed": false,
    "ExecuteTime": {
     "end_time": "2024-05-07T13:34:47.972913Z",
     "start_time": "2024-05-07T13:34:47.968907Z"
    }
   },
   "id": "6093b7cbd3fe1adc",
   "execution_count": 27
  },
  {
   "cell_type": "code",
   "outputs": [],
   "source": [
    "%%capture\n",
    "svReport_client = sv.analyze(client)\n",
    "svReport_client.show_html(filepath=\"./reports/client.html\", open_browser=False)"
   ],
   "metadata": {
    "collapsed": false,
    "ExecuteTime": {
     "end_time": "2024-05-07T13:34:52.467248Z",
     "start_time": "2024-05-07T13:34:47.990265Z"
    }
   },
   "id": "dbff1157f84bb221",
   "execution_count": 28
  },
  {
   "cell_type": "markdown",
   "id": "563c8d4252ebacc0",
   "metadata": {
    "collapsed": false
   },
   "source": [
    "## Disp\n",
    "[//]: # (-.- .tabset)\n",
    "\n",
    "Der Datensatz `disp.csv` beinhaltet 5369 Observationen mit den folgenden Informationen über die Dispositionen der Bank:  \n",
    "- `disp_id`: der Identifikationsschlüssel der Disposition,\n",
    "- `client_id`: die Kundennummer,\n",
    "- `account_id`: die Kontonummer,\n",
    "- `type`: die Art der Disposition (Inhaber, Benutzer)"
   ]
  },
  {
   "cell_type": "code",
   "outputs": [
    {
     "name": "stdout",
     "output_type": "stream",
     "text": [
      "<class 'pandas.core.frame.DataFrame'>\n",
      "RangeIndex: 5369 entries, 0 to 5368\n",
      "Data columns (total 4 columns):\n",
      " #   Column      Non-Null Count  Dtype \n",
      "---  ------      --------------  ----- \n",
      " 0   disp_id     5369 non-null   int64 \n",
      " 1   client_id   5369 non-null   int64 \n",
      " 2   account_id  5369 non-null   int64 \n",
      " 3   type        5369 non-null   object\n",
      "dtypes: int64(3), object(1)\n",
      "memory usage: 167.9+ KB\n"
     ]
    }
   ],
   "source": [
    "disp.info()"
   ],
   "metadata": {
    "collapsed": false,
    "ExecuteTime": {
     "end_time": "2024-05-07T13:34:52.481104Z",
     "start_time": "2024-05-07T13:34:52.469714Z"
    }
   },
   "id": "87a6b5a11e3ab5a9",
   "execution_count": 29
  },
  {
   "cell_type": "code",
   "outputs": [
    {
     "name": "stdout",
     "output_type": "stream",
     "text": [
      "Anzahl fehlender Werte: 0\n",
      "Anzahl duplizierter Einträge: 0\n"
     ]
    }
   ],
   "source": [
    "print(\"Anzahl fehlender Werte:\", sum(disp.isnull().sum()))\n",
    "print(\"Anzahl duplizierter Einträge:\", disp.duplicated().sum())"
   ],
   "metadata": {
    "collapsed": false,
    "ExecuteTime": {
     "end_time": "2024-05-07T13:34:52.493206Z",
     "start_time": "2024-05-07T13:34:52.484024Z"
    }
   },
   "id": "53165cb08498081a",
   "execution_count": 30
  },
  {
   "cell_type": "markdown",
   "source": [
    "### Aufbereitung\n",
    "Auch die Variablen des Datensatzes `disp.csv` werden in die korrekten Datentypen übertragen. "
   ],
   "metadata": {
    "collapsed": false
   },
   "id": "1e9c45187a6cfc3d"
  },
  {
   "cell_type": "code",
   "execution_count": 31,
   "id": "c52076e64e10911f",
   "metadata": {
    "collapsed": false,
    "ExecuteTime": {
     "end_time": "2024-05-07T13:34:52.508892Z",
     "start_time": "2024-05-07T13:34:52.495570Z"
    }
   },
   "outputs": [
    {
     "data": {
      "text/plain": "      disp_id  client_id  account_id       type\n733       767        767         639  DISPONENT\n4558     4818       4818        3996      OWNER\n977      1031       1031         856      OWNER\n471       495        495         410      OWNER\n939       992        992         825      OWNER",
      "text/html": "<div>\n<style scoped>\n    .dataframe tbody tr th:only-of-type {\n        vertical-align: middle;\n    }\n\n    .dataframe tbody tr th {\n        vertical-align: top;\n    }\n\n    .dataframe thead th {\n        text-align: right;\n    }\n</style>\n<table border=\"1\" class=\"dataframe\">\n  <thead>\n    <tr style=\"text-align: right;\">\n      <th></th>\n      <th>disp_id</th>\n      <th>client_id</th>\n      <th>account_id</th>\n      <th>type</th>\n    </tr>\n  </thead>\n  <tbody>\n    <tr>\n      <th>733</th>\n      <td>767</td>\n      <td>767</td>\n      <td>639</td>\n      <td>DISPONENT</td>\n    </tr>\n    <tr>\n      <th>4558</th>\n      <td>4818</td>\n      <td>4818</td>\n      <td>3996</td>\n      <td>OWNER</td>\n    </tr>\n    <tr>\n      <th>977</th>\n      <td>1031</td>\n      <td>1031</td>\n      <td>856</td>\n      <td>OWNER</td>\n    </tr>\n    <tr>\n      <th>471</th>\n      <td>495</td>\n      <td>495</td>\n      <td>410</td>\n      <td>OWNER</td>\n    </tr>\n    <tr>\n      <th>939</th>\n      <td>992</td>\n      <td>992</td>\n      <td>825</td>\n      <td>OWNER</td>\n    </tr>\n  </tbody>\n</table>\n</div>"
     },
     "execution_count": 31,
     "metadata": {},
     "output_type": "execute_result"
    }
   ],
   "source": [
    "# Spalte type als Kategorie speichern \n",
    "disp[\"type\"] = disp[\"type\"].astype(\"category\")\n",
    "\n",
    "# random sample\n",
    "disp.sample(n=5)"
   ]
  },
  {
   "cell_type": "markdown",
   "source": [
    "### Typ der Disposition\n",
    "Hier dargestellt ist die Verteilung der Art der Dispositionen. 4500 Kunden sind Inhaber eines Kontos und 896 sind Disponenten. "
   ],
   "metadata": {
    "collapsed": false
   },
   "id": "5a999933f5553956"
  },
  {
   "cell_type": "code",
   "outputs": [
    {
     "data": {
      "text/plain": "<Figure size 1000x600 with 1 Axes>",
      "image/png": "[encoded data removed]"
     },
     "metadata": {},
     "output_type": "display_data"
    }
   ],
   "source": [
    "# plot distribution of kind\n",
    "plt.figure(figsize=(10, 6))\n",
    "disp[\"type\"].value_counts().plot(kind=\"bar\")\n",
    "plt.title(\"Verteilung der Dispositionen\")\n",
    "plt.xlabel(\"Disposition\")\n",
    "plt.ylabel(\"Anzahl\")\n",
    "plt.show()"
   ],
   "metadata": {
    "collapsed": false,
    "ExecuteTime": {
     "end_time": "2024-05-07T13:34:52.737309Z",
     "start_time": "2024-05-07T13:34:52.511371Z"
    }
   },
   "id": "4d45e79a677c8321",
   "execution_count": 32
  },
  {
   "cell_type": "code",
   "outputs": [],
   "source": [
    "# remove disponents\n",
    "disp = disp[disp[\"type\"] == \"OWNER\"]"
   ],
   "metadata": {
    "collapsed": false,
    "ExecuteTime": {
     "end_time": "2024-05-07T13:34:52.745189Z",
     "start_time": "2024-05-07T13:34:52.739824Z"
    }
   },
   "id": "b98f27bb4091c298",
   "execution_count": 33
  },
  {
   "cell_type": "markdown",
   "source": [
    "### Korrelation & weitere Informationen\n",
    "Die Korrelation sowie weitere Informationen zu den vorhandenen Daten können aus dem [SweetViz Report](./reports/disp.html) entnommen werden."
   ],
   "metadata": {
    "collapsed": false
   },
   "id": "9f4c4a3c914adbe3"
  },
  {
   "cell_type": "code",
   "outputs": [],
   "source": [
    "data_frames[\"disp.csv\"] = disp"
   ],
   "metadata": {
    "collapsed": false,
    "ExecuteTime": {
     "end_time": "2024-05-07T13:34:52.751370Z",
     "start_time": "2024-05-07T13:34:52.747326Z"
    }
   },
   "id": "c46df97bd4953382",
   "execution_count": 34
  },
  {
   "cell_type": "code",
   "outputs": [],
   "source": [
    "%%capture\n",
    "svReport_disp = sv.analyze(disp)\n",
    "svReport_disp.show_html(filepath=\"./reports/disp.html\", open_browser=False)"
   ],
   "metadata": {
    "collapsed": false,
    "ExecuteTime": {
     "end_time": "2024-05-07T13:34:56.959878Z",
     "start_time": "2024-05-07T13:34:52.754030Z"
    }
   },
   "id": "6add12a9192c54b9",
   "execution_count": 35
  },
  {
   "cell_type": "markdown",
   "id": "163ce222013404c4",
   "metadata": {
    "collapsed": false
   },
   "source": [
    "## District\n",
    "[//]: # (-.- .tabset)\n",
    "\n",
    "Der Datensatz `district.csv` beinhaltet 77 Observationen mit den folgenden demografischen Informationen:  \n",
    "- `A1`: die ID des Distrikts, \n",
    "- `A2`: der Name des Distrikts,\n",
    "- `A3`: die Region,\n",
    "- `A4`: die Anzahl der Einwohner,\n",
    "- `A5`: die Anzahl der Gemeinden mit < 499 Einwohner,\n",
    "- `A6`: die Anzahl der Gemeinden mit 500 - 1999 Einwohner,\n",
    "- `A7`: die Anzahl der Gemeinden mit 2000 - 9999 Einwohner,\n",
    "- `A8`: die Anzahl der Gemeinden mit >10000 Einwohner,\n",
    "- `A9`: die Anzahl Städte,\n",
    "- `A10`: das Verhältnis von städtischen Einwohnern,\n",
    "- `A11`: das durchschnittliche Einkommen,\n",
    "- `A12`: die Arbeitslosenrate vom Jahr 95,\n",
    "- `A13`: die Arbeitslosenrate vom Jahr 96,\n",
    "- `A14`: die Anzahl von Unternehmer pro 1000 Einwohner,\n",
    "- `A15`: die Anzahl von begangenen Verbrechen im Jahr 95,\n",
    "- `A16`: die Anzahl von begangenen Verbrechen im Jahr 96, "
   ]
  },
  {
   "cell_type": "code",
   "outputs": [
    {
     "name": "stdout",
     "output_type": "stream",
     "text": [
      "<class 'pandas.core.frame.DataFrame'>\n",
      "RangeIndex: 77 entries, 0 to 76\n",
      "Data columns (total 16 columns):\n",
      " #   Column  Non-Null Count  Dtype  \n",
      "---  ------  --------------  -----  \n",
      " 0   A1      77 non-null     int64  \n",
      " 1   A2      77 non-null     object \n",
      " 2   A3      77 non-null     object \n",
      " 3   A4      77 non-null     int64  \n",
      " 4   A5      77 non-null     int64  \n",
      " 5   A6      77 non-null     int64  \n",
      " 6   A7      77 non-null     int64  \n",
      " 7   A8      77 non-null     int64  \n",
      " 8   A9      77 non-null     int64  \n",
      " 9   A10     77 non-null     float64\n",
      " 10  A11     77 non-null     int64  \n",
      " 11  A12     77 non-null     object \n",
      " 12  A13     77 non-null     float64\n",
      " 13  A14     77 non-null     int64  \n",
      " 14  A15     77 non-null     object \n",
      " 15  A16     77 non-null     int64  \n",
      "dtypes: float64(2), int64(10), object(4)\n",
      "memory usage: 9.8+ KB\n"
     ]
    }
   ],
   "source": [
    "district.info()"
   ],
   "metadata": {
    "collapsed": false,
    "ExecuteTime": {
     "end_time": "2024-05-07T13:34:56.972952Z",
     "start_time": "2024-05-07T13:34:56.962105Z"
    }
   },
   "id": "9b3774250b36e0d1",
   "execution_count": 36
  },
  {
   "cell_type": "code",
   "outputs": [
    {
     "name": "stdout",
     "output_type": "stream",
     "text": [
      "Anzahl fehlender Werte: 0\n",
      "Anzahl duplizierter Einträge: 0\n"
     ]
    }
   ],
   "source": [
    "print(\"Anzahl fehlender Werte:\", sum(district.isnull().sum()))\n",
    "print(\"Anzahl duplizierter Einträge:\", district.duplicated().sum())"
   ],
   "metadata": {
    "collapsed": false,
    "ExecuteTime": {
     "end_time": "2024-05-07T13:34:56.983560Z",
     "start_time": "2024-05-07T13:34:56.975372Z"
    }
   },
   "id": "d7853a97556f6182",
   "execution_count": 37
  },
  {
   "cell_type": "markdown",
   "source": [
    "### Aufbereitung\n",
    "Zunächst werden die Spaltennamen in sprechendere übersetzt."
   ],
   "metadata": {
    "collapsed": false
   },
   "id": "801b32fb223cf904"
  },
  {
   "cell_type": "code",
   "execution_count": 38,
   "id": "1f9120dd7fdb6cef",
   "metadata": {
    "collapsed": false,
    "ExecuteTime": {
     "end_time": "2024-05-07T13:34:56.995558Z",
     "start_time": "2024-05-07T13:34:56.985702Z"
    }
   },
   "outputs": [],
   "source": [
    "# Spalten umbenennen\n",
    "district = district.rename(\n",
    "    columns={\n",
    "        \"A1\": \"district_id\",\n",
    "        \"A2\": \"district_name\",\n",
    "        \"A3\": \"region\",\n",
    "        \"A4\": \"num_of_habitat\",\n",
    "        \"A5\": \"num_of_small_town\",\n",
    "        \"A6\": \"num_of_medium_town\",\n",
    "        \"A7\": \"num_of_big_town\",\n",
    "        \"A8\": \"num_of_bigger_town\",\n",
    "        \"A9\": \"num_of_city\",\n",
    "        \"A10\": \"ratio_of_urban\",\n",
    "        \"A11\": \"average_salary\",\n",
    "        \"A12\": \"unemploy_rate95\",\n",
    "        \"A13\": \"unemploy_rate96\",\n",
    "        \"A14\": \"n_of_enterpren_per1000_inhabit\",\n",
    "        \"A15\": \"no_of_crimes95\",\n",
    "        \"A16\": \"no_of_crimes96\",\n",
    "    }\n",
    ")[\n",
    "    [\n",
    "        \"district_id\",\n",
    "        \"district_name\",\n",
    "        \"region\",\n",
    "        \"num_of_habitat\",\n",
    "        \"num_of_small_town\",\n",
    "        \"num_of_medium_town\",\n",
    "        \"num_of_big_town\",\n",
    "        \"num_of_bigger_town\",\n",
    "        \"num_of_city\",\n",
    "        \"ratio_of_urban\",\n",
    "        \"average_salary\",\n",
    "        \"unemploy_rate95\",\n",
    "        \"unemploy_rate96\",\n",
    "        \"n_of_enterpren_per1000_inhabit\",\n",
    "        \"no_of_crimes95\",\n",
    "        \"no_of_crimes96\",\n",
    "    ]\n",
    "]\n",
    "\n",
    "district[\"region\"] = district[\"region\"].astype(\"category\")\n",
    "district[\"district_name\"] = district[\"district_name\"].astype(\"category\")"
   ]
  },
  {
   "cell_type": "markdown",
   "source": [
    "Auffällig ist, dass nebst den Spalten `A2` (dem Namen) und `A3` (der Region) die Spalten `A12` und `A15` den Datentyp `object` erhalten. Das ist, weil jeweils ein fehlender Wert vorhanden ist, welcher mit einem `?` gekennzeichnet ist. "
   ],
   "metadata": {
    "collapsed": false
   },
   "id": "4da84d8d9d6f3dba"
  },
  {
   "cell_type": "code",
   "execution_count": 39,
   "id": "976ef3efab9c5bdf",
   "metadata": {
    "collapsed": false,
    "ExecuteTime": {
     "end_time": "2024-05-07T13:34:57.016666Z",
     "start_time": "2024-05-07T13:34:56.997976Z"
    }
   },
   "outputs": [
    {
     "data": {
      "text/plain": "    district_id district_name         region  num_of_habitat  \\\n68           69       Jesenik  north Moravia           42821   \n\n    num_of_small_town  num_of_medium_town  num_of_big_town  \\\n68                  4                  13                5   \n\n    num_of_bigger_town  num_of_city  ratio_of_urban  average_salary  \\\n68                   1            3            48.4            8173   \n\n   unemploy_rate95  unemploy_rate96  n_of_enterpren_per1000_inhabit  \\\n68               ?             7.01                             124   \n\n   no_of_crimes95  no_of_crimes96  \n68              ?            1358  ",
      "text/html": "<div>\n<style scoped>\n    .dataframe tbody tr th:only-of-type {\n        vertical-align: middle;\n    }\n\n    .dataframe tbody tr th {\n        vertical-align: top;\n    }\n\n    .dataframe thead th {\n        text-align: right;\n    }\n</style>\n<table border=\"1\" class=\"dataframe\">\n  <thead>\n    <tr style=\"text-align: right;\">\n      <th></th>\n      <th>district_id</th>\n      <th>district_name</th>\n      <th>region</th>\n      <th>num_of_habitat</th>\n      <th>num_of_small_town</th>\n      <th>num_of_medium_town</th>\n      <th>num_of_big_town</th>\n      <th>num_of_bigger_town</th>\n      <th>num_of_city</th>\n      <th>ratio_of_urban</th>\n      <th>average_salary</th>\n      <th>unemploy_rate95</th>\n      <th>unemploy_rate96</th>\n      <th>n_of_enterpren_per1000_inhabit</th>\n      <th>no_of_crimes95</th>\n      <th>no_of_crimes96</th>\n    </tr>\n  </thead>\n  <tbody>\n    <tr>\n      <th>68</th>\n      <td>69</td>\n      <td>Jesenik</td>\n      <td>north Moravia</td>\n      <td>42821</td>\n      <td>4</td>\n      <td>13</td>\n      <td>5</td>\n      <td>1</td>\n      <td>3</td>\n      <td>48.4</td>\n      <td>8173</td>\n      <td>?</td>\n      <td>7.01</td>\n      <td>124</td>\n      <td>?</td>\n      <td>1358</td>\n    </tr>\n  </tbody>\n</table>\n</div>"
     },
     "execution_count": 39,
     "metadata": {},
     "output_type": "execute_result"
    }
   ],
   "source": [
    "# die fehlenden Werte anzeigen\n",
    "district[district.isin([\"?\"]).any(axis=1)]"
   ]
  },
  {
   "cell_type": "markdown",
   "id": "29b40402ecf45bc",
   "metadata": {
    "collapsed": false
   },
   "source": [
    "Wir gehen davon aus, dass es sich hier um effektiv fehlende Werte handelt und nicht um zensierte Daten, also Werte, für welche der exakte Wert fehlt, aber trotzdem Informationen vorhanden sind. In diesem Fall, wenn die Variable mit den fehlenden Werten eine hohe Korrelation mit anderen Prediktoren aufweist, bietet es sich an, KNN oder eine einfache lineare Regression für die Imputation anzuwenden. [1] \n",
    "\n",
    "Die Korrelationsmatrix des [SweetViz Reports](./reports/district.html) zeigt, dass `unemploy_rate95` stark mit `unemploy_rate96` und `no_of_crimes95` mit `no_of_crimes96` korreliert. "
   ]
  },
  {
   "cell_type": "code",
   "outputs": [],
   "source": [
    "# die ? ersetzen mit NaN\n",
    "district = district.replace(\"?\", np.nan)\n",
    "\n",
    "# Datentyp korrigieren\n",
    "district[\"no_of_crimes95\"] = district[\"no_of_crimes95\"].astype(float)\n",
    "district[\"unemploy_rate95\"] = district[\"unemploy_rate95\"].astype(float)"
   ],
   "metadata": {
    "collapsed": false,
    "ExecuteTime": {
     "end_time": "2024-05-07T13:34:57.027710Z",
     "start_time": "2024-05-07T13:34:57.019127Z"
    }
   },
   "id": "1db8aac8b583147",
   "execution_count": 40
  },
  {
   "cell_type": "code",
   "outputs": [
    {
     "data": {
      "text/plain": "                 unemploy_rate95  unemploy_rate96\nunemploy_rate95         1.000000         0.981521\nunemploy_rate96         0.981521         1.000000",
      "text/html": "<div>\n<style scoped>\n    .dataframe tbody tr th:only-of-type {\n        vertical-align: middle;\n    }\n\n    .dataframe tbody tr th {\n        vertical-align: top;\n    }\n\n    .dataframe thead th {\n        text-align: right;\n    }\n</style>\n<table border=\"1\" class=\"dataframe\">\n  <thead>\n    <tr style=\"text-align: right;\">\n      <th></th>\n      <th>unemploy_rate95</th>\n      <th>unemploy_rate96</th>\n    </tr>\n  </thead>\n  <tbody>\n    <tr>\n      <th>unemploy_rate95</th>\n      <td>1.000000</td>\n      <td>0.981521</td>\n    </tr>\n    <tr>\n      <th>unemploy_rate96</th>\n      <td>0.981521</td>\n      <td>1.000000</td>\n    </tr>\n  </tbody>\n</table>\n</div>"
     },
     "execution_count": 41,
     "metadata": {},
     "output_type": "execute_result"
    }
   ],
   "source": [
    "# Korrelation zwischen Arbeitslosenquote 95 und 96\n",
    "district[[\"unemploy_rate95\", \"unemploy_rate96\"]].corr()"
   ],
   "metadata": {
    "collapsed": false,
    "ExecuteTime": {
     "end_time": "2024-05-07T13:34:57.040478Z",
     "start_time": "2024-05-07T13:34:57.029619Z"
    }
   },
   "id": "fa4597de38d3fbe6",
   "execution_count": 41
  },
  {
   "cell_type": "code",
   "outputs": [
    {
     "data": {
      "text/plain": "                no_of_crimes95  no_of_crimes96\nno_of_crimes95        1.000000        0.998426\nno_of_crimes96        0.998426        1.000000",
      "text/html": "<div>\n<style scoped>\n    .dataframe tbody tr th:only-of-type {\n        vertical-align: middle;\n    }\n\n    .dataframe tbody tr th {\n        vertical-align: top;\n    }\n\n    .dataframe thead th {\n        text-align: right;\n    }\n</style>\n<table border=\"1\" class=\"dataframe\">\n  <thead>\n    <tr style=\"text-align: right;\">\n      <th></th>\n      <th>no_of_crimes95</th>\n      <th>no_of_crimes96</th>\n    </tr>\n  </thead>\n  <tbody>\n    <tr>\n      <th>no_of_crimes95</th>\n      <td>1.000000</td>\n      <td>0.998426</td>\n    </tr>\n    <tr>\n      <th>no_of_crimes96</th>\n      <td>0.998426</td>\n      <td>1.000000</td>\n    </tr>\n  </tbody>\n</table>\n</div>"
     },
     "execution_count": 42,
     "metadata": {},
     "output_type": "execute_result"
    }
   ],
   "source": [
    "# Korrelation zwischen Anzahl Verbrechen 95 und 96\n",
    "district[[\"no_of_crimes95\", \"no_of_crimes96\"]].corr()"
   ],
   "metadata": {
    "collapsed": false,
    "ExecuteTime": {
     "end_time": "2024-05-07T13:34:57.053039Z",
     "start_time": "2024-05-07T13:34:57.043267Z"
    }
   },
   "id": "f33ce1299beab9f9",
   "execution_count": 42
  },
  {
   "cell_type": "markdown",
   "source": [
    "Demnach werden nachfolgend zwei lineare Regressions-Modelle trainiert, um die fehlenden Werte zu imputieren."
   ],
   "metadata": {
    "collapsed": false
   },
   "id": "77b517577f483bf2"
  },
  {
   "cell_type": "code",
   "outputs": [
    {
     "name": "stdout",
     "output_type": "stream",
     "text": [
      "explained_variance:  0.9634\n",
      "mean_squared_log_error:  0.0051\n",
      "r2:  0.9634\n",
      "MAE:  0.231\n",
      "MSE:  0.1002\n",
      "RMSE:  0.3166\n"
     ]
    }
   ],
   "source": [
    "# Zeilen filtern, sodass keine fehlenden Werte vorhanden sind\n",
    "district_no_na = district[district[\"unemploy_rate95\"].notnull()]\n",
    "\n",
    "# Lineares regressions Modell erstellen \n",
    "lin_reg_unemploy = LinearRegression()\n",
    "\n",
    "# Modell fitten\n",
    "lin_reg_unemploy.fit(\n",
    "    district_no_na[\"unemploy_rate96\"].values.reshape(-1, 1),\n",
    "    district_no_na[\"unemploy_rate95\"].values,\n",
    ")\n",
    "\n",
    "# Modell evaluieren\n",
    "regression_results(district_no_na[\"unemploy_rate95\"],\n",
    "                   lin_reg_unemploy.predict(district_no_na[\"unemploy_rate96\"].values.reshape(-1, 1)))"
   ],
   "metadata": {
    "collapsed": false,
    "ExecuteTime": {
     "end_time": "2024-05-07T13:34:57.076410Z",
     "start_time": "2024-05-07T13:34:57.055204Z"
    }
   },
   "id": "7506817f16f7b469",
   "execution_count": 43
  },
  {
   "cell_type": "markdown",
   "source": [
    "Der $R^2$ Wert von $0.9634$ versichert, damit ein stabiles Modell für die Imputation erreicht zu haben. "
   ],
   "metadata": {
    "collapsed": false
   },
   "id": "805bf4a05bb05c39"
  },
  {
   "cell_type": "code",
   "outputs": [
    {
     "name": "stdout",
     "output_type": "stream",
     "text": [
      "explained_variance:  0.9969\n",
      "mean_squared_log_error:  0.0219\n",
      "r2:  0.9969\n",
      "MAE:  383.5379\n",
      "MSE:  303529.5111\n",
      "RMSE:  550.9351\n"
     ]
    }
   ],
   "source": [
    "# Lineares regressions Modell erstellen \n",
    "lin_reg_crime = LinearRegression()\n",
    "\n",
    "# Modell fitten\n",
    "lin_reg_crime.fit(\n",
    "    district_no_na[\"no_of_crimes96\"].values.reshape(-1, 1),\n",
    "    district_no_na[\"no_of_crimes95\"].values,\n",
    ")\n",
    "\n",
    "# Modell evaluieren\n",
    "regression_results(district_no_na[\"no_of_crimes95\"],\n",
    "                   lin_reg_crime.predict(district_no_na[\"no_of_crimes96\"].values.reshape(-1, 1)))"
   ],
   "metadata": {
    "collapsed": false,
    "ExecuteTime": {
     "end_time": "2024-05-07T13:34:57.091962Z",
     "start_time": "2024-05-07T13:34:57.079286Z"
    }
   },
   "id": "91d0656c50f7f056",
   "execution_count": 44
  },
  {
   "cell_type": "markdown",
   "source": [
    "Auch hier mit einem $R^2$ Wert von $0.9969$ gehen wir davon aus, damit ein stabiles Modell für die Imputation erreicht zu haben. Somit werden nachfolgend die beiden Modelle genutzt, um die fehlenden Werte einzufüllen."
   ],
   "metadata": {
    "collapsed": false
   },
   "id": "40d317483471ba0"
  },
  {
   "cell_type": "code",
   "outputs": [],
   "source": [
    "# Vorhersage der fehlenden Werte\n",
    "district.loc[district[\"no_of_crimes95\"].isnull(), \"no_of_crimes95\"] = lin_reg_crime.predict(\n",
    "    district[district[\"no_of_crimes95\"].isnull()][\"no_of_crimes96\"].values.reshape(-1, 1)\n",
    ")\n",
    "\n",
    "district.loc[district[\"unemploy_rate95\"].isnull(), \"unemploy_rate95\"] = lin_reg_unemploy.predict(\n",
    "    district[district[\"unemploy_rate95\"].isnull()][\"unemploy_rate96\"].values.reshape(-1, 1)\n",
    ")"
   ],
   "metadata": {
    "collapsed": false,
    "ExecuteTime": {
     "end_time": "2024-05-07T13:34:57.103890Z",
     "start_time": "2024-05-07T13:34:57.094792Z"
    }
   },
   "id": "5eebb2601671baa3",
   "execution_count": 45
  },
  {
   "cell_type": "code",
   "outputs": [
    {
     "data": {
      "text/plain": "    district_id   district_name           region  num_of_habitat  \\\n48           49          Semily     east Bohemia           75685   \n43           44         Chrudim     east Bohemia          105606   \n9            10  Praha - vychod  central Bohemia           92084   \n45           46          Nachod     east Bohemia          112709   \n59           60       Prostejov    south Moravia          110643   \n\n    num_of_small_town  num_of_medium_town  num_of_big_town  \\\n48                 31                  28                5   \n43                 77                  26                7   \n9                  55                  29                4   \n45                 48                  20                7   \n59                 49                  41                4   \n\n    num_of_bigger_town  num_of_city  ratio_of_urban  average_salary  \\\n48                   1            9            60.8            8208   \n43                   2            7            53.0            8254   \n9                    3            5            46.7           10124   \n45                   3           10            73.5            8369   \n59                   1            4            51.9            8441   \n\n    unemploy_rate95  unemploy_rate96  n_of_enterpren_per1000_inhabit  \\\n48             1.89             2.26                             155   \n43             2.79             3.76                              97   \n9              0.56             0.54                             141   \n45             1.79             2.31                             117   \n59             3.45             4.48                             115   \n\n    no_of_crimes95  no_of_crimes96  \n48          1660.0            2123  \n43          2166.0            2325  \n9           3810.0            4316  \n45          2854.0            2618  \n59          1879.0            2252  ",
      "text/html": "<div>\n<style scoped>\n    .dataframe tbody tr th:only-of-type {\n        vertical-align: middle;\n    }\n\n    .dataframe tbody tr th {\n        vertical-align: top;\n    }\n\n    .dataframe thead th {\n        text-align: right;\n    }\n</style>\n<table border=\"1\" class=\"dataframe\">\n  <thead>\n    <tr style=\"text-align: right;\">\n      <th></th>\n      <th>district_id</th>\n      <th>district_name</th>\n      <th>region</th>\n      <th>num_of_habitat</th>\n      <th>num_of_small_town</th>\n      <th>num_of_medium_town</th>\n      <th>num_of_big_town</th>\n      <th>num_of_bigger_town</th>\n      <th>num_of_city</th>\n      <th>ratio_of_urban</th>\n      <th>average_salary</th>\n      <th>unemploy_rate95</th>\n      <th>unemploy_rate96</th>\n      <th>n_of_enterpren_per1000_inhabit</th>\n      <th>no_of_crimes95</th>\n      <th>no_of_crimes96</th>\n    </tr>\n  </thead>\n  <tbody>\n    <tr>\n      <th>48</th>\n      <td>49</td>\n      <td>Semily</td>\n      <td>east Bohemia</td>\n      <td>75685</td>\n      <td>31</td>\n      <td>28</td>\n      <td>5</td>\n      <td>1</td>\n      <td>9</td>\n      <td>60.8</td>\n      <td>8208</td>\n      <td>1.89</td>\n      <td>2.26</td>\n      <td>155</td>\n      <td>1660.0</td>\n      <td>2123</td>\n    </tr>\n    <tr>\n      <th>43</th>\n      <td>44</td>\n      <td>Chrudim</td>\n      <td>east Bohemia</td>\n      <td>105606</td>\n      <td>77</td>\n      <td>26</td>\n      <td>7</td>\n      <td>2</td>\n      <td>7</td>\n      <td>53.0</td>\n      <td>8254</td>\n      <td>2.79</td>\n      <td>3.76</td>\n      <td>97</td>\n      <td>2166.0</td>\n      <td>2325</td>\n    </tr>\n    <tr>\n      <th>9</th>\n      <td>10</td>\n      <td>Praha - vychod</td>\n      <td>central Bohemia</td>\n      <td>92084</td>\n      <td>55</td>\n      <td>29</td>\n      <td>4</td>\n      <td>3</td>\n      <td>5</td>\n      <td>46.7</td>\n      <td>10124</td>\n      <td>0.56</td>\n      <td>0.54</td>\n      <td>141</td>\n      <td>3810.0</td>\n      <td>4316</td>\n    </tr>\n    <tr>\n      <th>45</th>\n      <td>46</td>\n      <td>Nachod</td>\n      <td>east Bohemia</td>\n      <td>112709</td>\n      <td>48</td>\n      <td>20</td>\n      <td>7</td>\n      <td>3</td>\n      <td>10</td>\n      <td>73.5</td>\n      <td>8369</td>\n      <td>1.79</td>\n      <td>2.31</td>\n      <td>117</td>\n      <td>2854.0</td>\n      <td>2618</td>\n    </tr>\n    <tr>\n      <th>59</th>\n      <td>60</td>\n      <td>Prostejov</td>\n      <td>south Moravia</td>\n      <td>110643</td>\n      <td>49</td>\n      <td>41</td>\n      <td>4</td>\n      <td>1</td>\n      <td>4</td>\n      <td>51.9</td>\n      <td>8441</td>\n      <td>3.45</td>\n      <td>4.48</td>\n      <td>115</td>\n      <td>1879.0</td>\n      <td>2252</td>\n    </tr>\n  </tbody>\n</table>\n</div>"
     },
     "execution_count": 46,
     "metadata": {},
     "output_type": "execute_result"
    }
   ],
   "source": [
    "district.sample(n=5)"
   ],
   "metadata": {
    "collapsed": false,
    "ExecuteTime": {
     "end_time": "2024-05-07T13:34:57.125268Z",
     "start_time": "2024-05-07T13:34:57.106952Z"
    }
   },
   "id": "e1cb35e705824fa0",
   "execution_count": 46
  },
  {
   "cell_type": "code",
   "outputs": [
    {
     "data": {
      "text/plain": "district_id                       0\ndistrict_name                     0\nregion                            0\nnum_of_habitat                    0\nnum_of_small_town                 0\nnum_of_medium_town                0\nnum_of_big_town                   0\nnum_of_bigger_town                0\nnum_of_city                       0\nratio_of_urban                    0\naverage_salary                    0\nunemploy_rate95                   0\nunemploy_rate96                   0\nn_of_enterpren_per1000_inhabit    0\nno_of_crimes95                    0\nno_of_crimes96                    0\ndtype: int64"
     },
     "execution_count": 47,
     "metadata": {},
     "output_type": "execute_result"
    }
   ],
   "source": [
    "district.isnull().sum()"
   ],
   "metadata": {
    "collapsed": false,
    "ExecuteTime": {
     "end_time": "2024-05-07T13:34:57.134581Z",
     "start_time": "2024-05-07T13:34:57.127246Z"
    }
   },
   "id": "8258257154610fda",
   "execution_count": 47
  },
  {
   "cell_type": "markdown",
   "source": [
    "### EDA\n",
    "Es gibt keine Duplikate und somit 77 unterschiedliche Namen der Distrikte. Diese sind auf 8 Regionen verteilt, wobei die meisten in south Moravia und die wenigsten in Prague liegen. Der Distrikt mit den wenigsten Einwohnern zählt 42821, im Vergleich zu demjenigen mit den meisten: 1204953, wobei die nächst kleinere Ortschaft 102609 Einwohner zählt. Weitere Informationen zu den vorhandenen Daten können aus dem [SweetViz Report](./reports/district.html) entnommen werden. "
   ],
   "metadata": {
    "collapsed": false
   },
   "id": "f7ce79d49dead509"
  },
  {
   "cell_type": "code",
   "outputs": [],
   "source": [
    "data_frames[\"district.csv\"] = district"
   ],
   "metadata": {
    "collapsed": false,
    "ExecuteTime": {
     "end_time": "2024-05-07T13:34:57.142400Z",
     "start_time": "2024-05-07T13:34:57.137477Z"
    }
   },
   "id": "3e582181194d9694",
   "execution_count": 48
  },
  {
   "cell_type": "code",
   "outputs": [],
   "source": [
    "%%capture\n",
    "svReport_district = sv.analyze(district)\n",
    "svReport_district.show_html(filepath=\"./reports/district.html\", open_browser=False)"
   ],
   "metadata": {
    "collapsed": false,
    "ExecuteTime": {
     "end_time": "2024-05-07T13:35:10.127183Z",
     "start_time": "2024-05-07T13:34:57.144995Z"
    }
   },
   "id": "58d442299747ee4d",
   "execution_count": 49
  },
  {
   "cell_type": "markdown",
   "id": "ab49b40828498513",
   "metadata": {
    "collapsed": false
   },
   "source": [
    "## Loan\n",
    "[//]: # (-.- .tabset)\n",
    "\n",
    "Der Datensatz `loan.csv` beinhaltet 682 Observationen mit den folgenden Informationen über die vergebenen Darlehen der Bank:  \n",
    "- `loan_id`: ID des Darlehens,\n",
    "- `account_id`: die Kontonummer,\n",
    "- `date`: das Datum, wann das Darlehen gewährt wurde,\n",
    "- `amount`: der Betrag,\n",
    "- `duration`: die Dauer des Darlehens,\n",
    "- `payments`: die höhe der monatlichen Zahlungen und\n",
    "- `status`: der Rückzahlungsstatus (A: ausgeglichen, B: Vertrag abgelaufen aber nicht fertig bezahlt, C: laufender Vertrag und alles in Ordnung, D: laufender Vertrag und Kunde verschuldet)\n"
   ]
  },
  {
   "cell_type": "code",
   "outputs": [
    {
     "name": "stdout",
     "output_type": "stream",
     "text": [
      "<class 'pandas.core.frame.DataFrame'>\n",
      "RangeIndex: 682 entries, 0 to 681\n",
      "Data columns (total 7 columns):\n",
      " #   Column      Non-Null Count  Dtype  \n",
      "---  ------      --------------  -----  \n",
      " 0   loan_id     682 non-null    int64  \n",
      " 1   account_id  682 non-null    int64  \n",
      " 2   date        682 non-null    object \n",
      " 3   amount      682 non-null    int64  \n",
      " 4   duration    682 non-null    int64  \n",
      " 5   payments    682 non-null    float64\n",
      " 6   status      682 non-null    object \n",
      "dtypes: float64(1), int64(4), object(2)\n",
      "memory usage: 37.4+ KB\n"
     ]
    }
   ],
   "source": [
    "loan.info()"
   ],
   "metadata": {
    "collapsed": false,
    "ExecuteTime": {
     "end_time": "2024-05-07T13:35:10.139440Z",
     "start_time": "2024-05-07T13:35:10.129342Z"
    }
   },
   "id": "88332197cb3457cf",
   "execution_count": 50
  },
  {
   "cell_type": "code",
   "outputs": [
    {
     "name": "stdout",
     "output_type": "stream",
     "text": [
      "Anzahl fehlender Werte: 0\n",
      "Anzahl duplizierter Einträge: 0\n"
     ]
    }
   ],
   "source": [
    "print(\"Anzahl fehlender Werte:\", sum(loan.isnull().sum()))\n",
    "print(\"Anzahl duplizierter Einträge:\", loan.duplicated().sum())"
   ],
   "metadata": {
    "collapsed": false,
    "ExecuteTime": {
     "end_time": "2024-05-07T13:35:10.149555Z",
     "start_time": "2024-05-07T13:35:10.141790Z"
    }
   },
   "id": "6cd384ed4934f762",
   "execution_count": 51
  },
  {
   "cell_type": "markdown",
   "source": [
    "### Aufbereitung\n",
    "Auch für den `loan.csv` Datensatz werden zunächst Datenformate korrigiert und Kategorien übersetzt. Anschliessend wird überprüft, ob ein Bankkonto mehrere Darlehen besitzt.  "
   ],
   "metadata": {
    "collapsed": false
   },
   "id": "25b39f74c151d170"
  },
  {
   "cell_type": "code",
   "execution_count": 52,
   "id": "f14128bbeb96ba97",
   "metadata": {
    "collapsed": false,
    "ExecuteTime": {
     "end_time": "2024-05-07T13:35:10.162095Z",
     "start_time": "2024-05-07T13:35:10.152004Z"
    }
   },
   "outputs": [],
   "source": [
    "# Datum parsen\n",
    "loan[\"date\"] = pd.to_datetime(loan[\"date\"], format=\"%y%m%d\")\n",
    "\n",
    "# Kategorien übersetzen\n",
    "loan[\"status\"] = loan[\"status\"].map(\n",
    "    {\n",
    "        \"A\": \"contract finished\",\n",
    "        \"B\": \"finished contract, loan not paid\",\n",
    "        \"C\": \"running contract\",\n",
    "        \"D\": \"client in debt\",\n",
    "    }\n",
    ")\n",
    "\n",
    "loan[\"status\"] = loan[\"status\"].astype(\"category\")"
   ]
  },
  {
   "cell_type": "code",
   "outputs": [],
   "source": [
    "# Anzahl der Darlehen pro Kontonummer berechnen\n",
    "num_of_loan_df = (\n",
    "    loan.groupby(\"account_id\")\n",
    "    .size()\n",
    "    .reset_index(name=\"num_of_loan\")\n",
    "    .sort_values(by=\"num_of_loan\", ascending=False)\n",
    ")"
   ],
   "metadata": {
    "collapsed": false,
    "ExecuteTime": {
     "end_time": "2024-05-07T13:35:10.171452Z",
     "start_time": "2024-05-07T13:35:10.164421Z"
    }
   },
   "id": "dd522b7ab3590f35",
   "execution_count": 53
  },
  {
   "cell_type": "code",
   "outputs": [
    {
     "data": {
      "text/plain": "num_of_loan\n1    682\nName: count, dtype: int64"
     },
     "execution_count": 54,
     "metadata": {},
     "output_type": "execute_result"
    }
   ],
   "source": [
    "# Überprüfen, ob jedes Konto nur ein Darlehen hat\n",
    "num_of_loan_df[\"num_of_loan\"].value_counts()"
   ],
   "metadata": {
    "collapsed": false,
    "ExecuteTime": {
     "end_time": "2024-05-07T13:35:10.180584Z",
     "start_time": "2024-05-07T13:35:10.173746Z"
    }
   },
   "id": "699b4c5a1879bd88",
   "execution_count": 54
  },
  {
   "cell_type": "markdown",
   "source": [
    "Von allen Bankkontos, die ein Darlehen aufgenommen haben, hat jedes Konto genau ein Darlehen zugewiesen."
   ],
   "metadata": {
    "collapsed": false
   },
   "id": "c72756f0b20ae233"
  },
  {
   "cell_type": "code",
   "execution_count": 55,
   "id": "443d8fe7886ac784",
   "metadata": {
    "collapsed": false,
    "ExecuteTime": {
     "end_time": "2024-05-07T13:35:10.194986Z",
     "start_time": "2024-05-07T13:35:10.182415Z"
    }
   },
   "outputs": [
    {
     "data": {
      "text/plain": "     loan_id  account_id       date  amount  duration  payments  \\\n207     6178        5742 1995-12-16  232560        48    4845.0   \n198     5125         789 1995-11-23   73056        48    1522.0   \n238     5452        2352 1996-04-29   49440        60     824.0   \n414     6310        6440 1997-06-17   34572        12    2881.0   \n86      5836        4259 1994-08-27   79632        24    3318.0   \n\n                status  \n207   running contract  \n198   running contract  \n238   running contract  \n414  contract finished  \n86   contract finished  ",
      "text/html": "<div>\n<style scoped>\n    .dataframe tbody tr th:only-of-type {\n        vertical-align: middle;\n    }\n\n    .dataframe tbody tr th {\n        vertical-align: top;\n    }\n\n    .dataframe thead th {\n        text-align: right;\n    }\n</style>\n<table border=\"1\" class=\"dataframe\">\n  <thead>\n    <tr style=\"text-align: right;\">\n      <th></th>\n      <th>loan_id</th>\n      <th>account_id</th>\n      <th>date</th>\n      <th>amount</th>\n      <th>duration</th>\n      <th>payments</th>\n      <th>status</th>\n    </tr>\n  </thead>\n  <tbody>\n    <tr>\n      <th>207</th>\n      <td>6178</td>\n      <td>5742</td>\n      <td>1995-12-16</td>\n      <td>232560</td>\n      <td>48</td>\n      <td>4845.0</td>\n      <td>running contract</td>\n    </tr>\n    <tr>\n      <th>198</th>\n      <td>5125</td>\n      <td>789</td>\n      <td>1995-11-23</td>\n      <td>73056</td>\n      <td>48</td>\n      <td>1522.0</td>\n      <td>running contract</td>\n    </tr>\n    <tr>\n      <th>238</th>\n      <td>5452</td>\n      <td>2352</td>\n      <td>1996-04-29</td>\n      <td>49440</td>\n      <td>60</td>\n      <td>824.0</td>\n      <td>running contract</td>\n    </tr>\n    <tr>\n      <th>414</th>\n      <td>6310</td>\n      <td>6440</td>\n      <td>1997-06-17</td>\n      <td>34572</td>\n      <td>12</td>\n      <td>2881.0</td>\n      <td>contract finished</td>\n    </tr>\n    <tr>\n      <th>86</th>\n      <td>5836</td>\n      <td>4259</td>\n      <td>1994-08-27</td>\n      <td>79632</td>\n      <td>24</td>\n      <td>3318.0</td>\n      <td>contract finished</td>\n    </tr>\n  </tbody>\n</table>\n</div>"
     },
     "metadata": {},
     "output_type": "display_data"
    }
   ],
   "source": [
    "# Sample 5 random rows from the joined DataFrame\n",
    "display(loan.sample(n=5))"
   ]
  },
  {
   "cell_type": "markdown",
   "source": [
    "### Ausstellungsdatum\n",
    "Nachfolgend dargestellt ist die Verteilung der Darlehensausstellungsdaten. das erste Darlehen wurde im Juli 1993 ausgestellt und das neuste im Dezember 1998. "
   ],
   "metadata": {
    "collapsed": false
   },
   "id": "f2cbc56f0e34e17b"
  },
  {
   "cell_type": "code",
   "outputs": [
    {
     "data": {
      "text/plain": "<Figure size 1500x600 with 1 Axes>",
      "image/png": "[encoded data removed]"
     },
     "metadata": {},
     "output_type": "display_data"
    }
   ],
   "source": [
    "# plot distribution of date\n",
    "plt.figure(figsize=(15, 6))\n",
    "loan[\"date\"].dt.to_period(\"M\").value_counts().sort_index().plot(kind=\"bar\")\n",
    "plt.title(\"Verteilung der Darlehensausstellungsdaten\")\n",
    "plt.xlabel(\"Datum\")\n",
    "plt.ylabel(\"Anzahl\")\n",
    "plt.show()"
   ],
   "metadata": {
    "collapsed": false,
    "ExecuteTime": {
     "end_time": "2024-05-07T13:35:10.923898Z",
     "start_time": "2024-05-07T13:35:10.196975Z"
    }
   },
   "id": "a4ac1d1bbdbc232c",
   "execution_count": 56
  },
  {
   "cell_type": "markdown",
   "source": [
    "### Dauer\n",
    "Hier ersichtlich ist die Verteilung der Dauer der Darlehen. Sie ist fast gleichverteilt über die 5 möglichen Optionen. "
   ],
   "metadata": {
    "collapsed": false
   },
   "id": "4c984ac5bb69c8f"
  },
  {
   "cell_type": "code",
   "outputs": [
    {
     "data": {
      "text/plain": "<Figure size 1000x600 with 1 Axes>",
      "image/png": "[encoded data removed]"
     },
     "metadata": {},
     "output_type": "display_data"
    }
   ],
   "source": [
    "# plot duration distribution\n",
    "plt.figure(figsize=(10, 6))\n",
    "loan[\"duration\"].value_counts().plot(kind=\"bar\")\n",
    "plt.title(\"Verteilung der Darlehensdauer\")\n",
    "plt.xlabel(\"Dauer\")\n",
    "plt.ylabel(\"Anzahl\")\n",
    "plt.show()"
   ],
   "metadata": {
    "collapsed": false,
    "ExecuteTime": {
     "end_time": "2024-05-07T13:35:11.184245Z",
     "start_time": "2024-05-07T13:35:10.926096Z"
    }
   },
   "id": "5f73eeb57a8bb45a",
   "execution_count": 57
  },
  {
   "cell_type": "markdown",
   "source": [
    "### Betrag\n",
    "Hier dargestellt ist die Verteilung der Darlehensbeträge. Nur wenige Darlehensbeträge sind höher als 400000 wobei die meisten um die 100000 betragen. "
   ],
   "metadata": {
    "collapsed": false
   },
   "id": "2bcc81fc7c7b99ee"
  },
  {
   "cell_type": "code",
   "outputs": [
    {
     "data": {
      "text/plain": "<Figure size 1000x600 with 1 Axes>",
      "image/png": "[encoded data removed]"
     },
     "metadata": {},
     "output_type": "display_data"
    }
   ],
   "source": [
    "# plot amount\n",
    "plt.figure(figsize=(10, 6))\n",
    "loan[\"amount\"].plot(kind=\"hist\", bins=20)\n",
    "plt.title(\"Verteilung der Darlehensbeträge\")\n",
    "plt.xlabel(\"Betrag\")\n",
    "plt.ylabel(\"Anzahl\")\n",
    "plt.show()"
   ],
   "metadata": {
    "collapsed": false,
    "ExecuteTime": {
     "end_time": "2024-05-07T13:35:11.469012Z",
     "start_time": "2024-05-07T13:35:11.186146Z"
    }
   },
   "id": "7301f6608dc1d0c1",
   "execution_count": 58
  },
  {
   "cell_type": "markdown",
   "source": [
    "### Status\n",
    "Der nachfolgende Plot zeigt die Klassenverteilung vom Darlehensstatus. Die meisten (~400) sind laufend und ok, rund 200 sind abgeschlossen, die Kunden von ~50 Darlehen sind verschuldet und etwas weniger wurden abgeschlossen, ohne fertig abbezahlt worden zu sein.  "
   ],
   "metadata": {
    "collapsed": false
   },
   "id": "e9e020b72a50c630"
  },
  {
   "cell_type": "code",
   "outputs": [
    {
     "data": {
      "text/plain": "<Figure size 1000x600 with 1 Axes>",
      "image/png": "[encoded data removed]"
     },
     "metadata": {},
     "output_type": "display_data"
    }
   ],
   "source": [
    "# plot status distribution\n",
    "plt.figure(figsize=(10, 6))\n",
    "loan[\"status\"].value_counts().plot(kind=\"bar\")\n",
    "plt.title(\"Verteilung der Darlehensstatus\")\n",
    "plt.xlabel(\"Status\")\n",
    "plt.ylabel(\"Anzahl\")\n",
    "plt.show()"
   ],
   "metadata": {
    "collapsed": false,
    "ExecuteTime": {
     "end_time": "2024-05-07T13:35:11.757362Z",
     "start_time": "2024-05-07T13:35:11.471520Z"
    }
   },
   "id": "4dd4a2834f10e395",
   "execution_count": 59
  },
  {
   "cell_type": "markdown",
   "source": [
    "### Zahlungen\n",
    "Hier ersichtlich ist die Verteilung der monatlichen Zahlungen der Darlehen. Die kleinste monatliche Zahlung beträgt 304 und die höchste 9910."
   ],
   "metadata": {
    "collapsed": false
   },
   "id": "10556327f4061b21"
  },
  {
   "cell_type": "code",
   "outputs": [
    {
     "data": {
      "text/plain": "<Figure size 1000x600 with 1 Axes>",
      "image/png": "[encoded data removed]"
     },
     "metadata": {},
     "output_type": "display_data"
    }
   ],
   "source": [
    "# plot payments\n",
    "plt.figure(figsize=(10, 6))\n",
    "loan[\"payments\"].plot(kind=\"hist\", bins=20)\n",
    "plt.title(\"Verteilung der monatlichen Zahlungen\")\n",
    "plt.xlabel(\"Zahlungen\")\n",
    "plt.ylabel(\"Anzahl\")\n",
    "plt.show()"
   ],
   "metadata": {
    "collapsed": false,
    "ExecuteTime": {
     "end_time": "2024-05-07T13:35:12.054834Z",
     "start_time": "2024-05-07T13:35:11.760045Z"
    }
   },
   "id": "99315f11c8260978",
   "execution_count": 60
  },
  {
   "cell_type": "markdown",
   "source": [
    "### Korrelation & weitere Informationen\n",
    "Die Korrelation sowie weitere Informationen zu den vorhandenen Daten können aus dem [SweetViz Report](./reports/loan.html) entnommen werden."
   ],
   "metadata": {
    "collapsed": false
   },
   "id": "4e7f3c62b1c152e9"
  },
  {
   "cell_type": "code",
   "outputs": [],
   "source": [
    "# Assign the resulting DataFrame to a dictionary for storage\n",
    "data_frames[\"loan.csv\"] = loan"
   ],
   "metadata": {
    "collapsed": false,
    "ExecuteTime": {
     "end_time": "2024-05-07T13:35:12.061297Z",
     "start_time": "2024-05-07T13:35:12.057973Z"
    }
   },
   "id": "6d70bad7cfa064a2",
   "execution_count": 61
  },
  {
   "cell_type": "code",
   "outputs": [],
   "source": [
    "%%capture\n",
    "svReport_loan = sv.analyze(loan)\n",
    "svReport_loan.show_html(filepath=\"./reports/loan.html\", open_browser=False)"
   ],
   "metadata": {
    "collapsed": false,
    "ExecuteTime": {
     "end_time": "2024-05-07T13:35:17.007791Z",
     "start_time": "2024-05-07T13:35:12.063702Z"
    }
   },
   "id": "2e1b719435de1de2",
   "execution_count": 62
  },
  {
   "cell_type": "markdown",
   "id": "5cd0d8d68ee78832",
   "metadata": {
    "collapsed": false
   },
   "source": [
    "## Order\n",
    "[//]: # (-.- .tabset)\n",
    "\n",
    "Der Datensatz `order.csv` beinhaltet 6471 Observationen mit den folgenden Informationen über die Daueraufträge eines Kontos:  \n",
    "- `order_id`: die Nummer des Dauerauftrags,\n",
    "- `account_id`: die Kontonummer von welchem der Auftrag stammt,\n",
    "- `bank_to`: die empfangende Bank,\n",
    "- `account_to`: das empfangende Konto, \n",
    "- `amount`: der Betrag,\n",
    "- `k_symbol`: die Art des Auftrags (Versicherungszahlung, Haushalt, Leasing, Darlehen)\n"
   ]
  },
  {
   "cell_type": "code",
   "outputs": [
    {
     "name": "stdout",
     "output_type": "stream",
     "text": [
      "<class 'pandas.core.frame.DataFrame'>\n",
      "RangeIndex: 6471 entries, 0 to 6470\n",
      "Data columns (total 6 columns):\n",
      " #   Column      Non-Null Count  Dtype  \n",
      "---  ------      --------------  -----  \n",
      " 0   order_id    6471 non-null   int64  \n",
      " 1   account_id  6471 non-null   int64  \n",
      " 2   bank_to     6471 non-null   object \n",
      " 3   account_to  6471 non-null   int64  \n",
      " 4   amount      6471 non-null   float64\n",
      " 5   k_symbol    6471 non-null   object \n",
      "dtypes: float64(1), int64(3), object(2)\n",
      "memory usage: 303.5+ KB\n"
     ]
    }
   ],
   "source": [
    "order.info()"
   ],
   "metadata": {
    "collapsed": false,
    "ExecuteTime": {
     "end_time": "2024-05-07T13:35:17.023395Z",
     "start_time": "2024-05-07T13:35:17.010389Z"
    }
   },
   "id": "aa76ce744da46a3a",
   "execution_count": 63
  },
  {
   "cell_type": "code",
   "outputs": [
    {
     "name": "stdout",
     "output_type": "stream",
     "text": [
      "Anzahl fehlender Werte: 0\n",
      "Anzahl duplizierter Einträge: 0\n"
     ]
    }
   ],
   "source": [
    "print(\"Anzahl fehlender Werte:\", sum(order.isnull().sum()))\n",
    "print(\"Anzahl duplizierter Einträge:\", order.duplicated().sum())"
   ],
   "metadata": {
    "collapsed": false,
    "ExecuteTime": {
     "end_time": "2024-05-07T13:35:17.037423Z",
     "start_time": "2024-05-07T13:35:17.026028Z"
    }
   },
   "id": "4c1a208e0774001b",
   "execution_count": 64
  },
  {
   "cell_type": "markdown",
   "source": [
    "### Aufbereitung\n",
    "Auch für `order.csv` werden die Kategorien zunächst übersetzt und fehlende Werte mit der Kategorie `unknown` ersetzt. Es bestehen deutlich mehr Daueraufträge als Bankkontos, was darauf hindeutet, dass ein Bankkonto mehrere Daueraufträge eingerichtet haben kann. Zur weiteren Verarbeitung der Daten wird das Format so geändert, dass pro Konto ein `order`-Eintrag existiert.  "
   ],
   "metadata": {
    "collapsed": false
   },
   "id": "a1eb8285bdfd6fdb"
  },
  {
   "cell_type": "code",
   "execution_count": 65,
   "id": "dd4df6712d6a316c",
   "metadata": {
    "collapsed": false,
    "ExecuteTime": {
     "end_time": "2024-05-07T13:35:17.050127Z",
     "start_time": "2024-05-07T13:35:17.040090Z"
    }
   },
   "outputs": [],
   "source": [
    "# Kategorien übersetzen und fehlende Werte mit \"unknown\" füllen\n",
    "order[\"k_symbol\"] = (\n",
    "    order[\"k_symbol\"]\n",
    "    .map(\n",
    "        {\n",
    "            \"POJISTNE\": \"insurance_payment\",\n",
    "            \"SIPO\": \"household\",\n",
    "            \"UVER\": \"loan_payment\",\n",
    "            \"LEASING\": \"leasing\",\n",
    "        }\n",
    "    )\n",
    "    .fillna(\"unknown\")\n",
    ")\n",
    "\n",
    "order[\"k_symbol\"] = order[\"k_symbol\"].astype(\"category\")"
   ]
  },
  {
   "cell_type": "code",
   "outputs": [
    {
     "data": {
      "text/plain": "k_symbol  account_id  household  insurance_payment  leasing  loan_payment  \\\n4046            5423      446.0             4068.0   1394.0           0.0   \n2788            2929      226.0                0.0   3658.3           0.0   \n541              567        0.0                0.0      0.0           0.0   \n2613            2746     2404.0                0.0      0.0           0.0   \n3393            3571     3224.0                0.0      0.0           0.0   \n\nk_symbol  unknown  \n4046       8618.0  \n2788      11789.0  \n541           0.0  \n2613          0.0  \n3393        222.0  ",
      "text/html": "<div>\n<style scoped>\n    .dataframe tbody tr th:only-of-type {\n        vertical-align: middle;\n    }\n\n    .dataframe tbody tr th {\n        vertical-align: top;\n    }\n\n    .dataframe thead th {\n        text-align: right;\n    }\n</style>\n<table border=\"1\" class=\"dataframe\">\n  <thead>\n    <tr style=\"text-align: right;\">\n      <th>k_symbol</th>\n      <th>account_id</th>\n      <th>household</th>\n      <th>insurance_payment</th>\n      <th>leasing</th>\n      <th>loan_payment</th>\n      <th>unknown</th>\n    </tr>\n  </thead>\n  <tbody>\n    <tr>\n      <th>4046</th>\n      <td>5423</td>\n      <td>446.0</td>\n      <td>4068.0</td>\n      <td>1394.0</td>\n      <td>0.0</td>\n      <td>8618.0</td>\n    </tr>\n    <tr>\n      <th>2788</th>\n      <td>2929</td>\n      <td>226.0</td>\n      <td>0.0</td>\n      <td>3658.3</td>\n      <td>0.0</td>\n      <td>11789.0</td>\n    </tr>\n    <tr>\n      <th>541</th>\n      <td>567</td>\n      <td>0.0</td>\n      <td>0.0</td>\n      <td>0.0</td>\n      <td>0.0</td>\n      <td>0.0</td>\n    </tr>\n    <tr>\n      <th>2613</th>\n      <td>2746</td>\n      <td>2404.0</td>\n      <td>0.0</td>\n      <td>0.0</td>\n      <td>0.0</td>\n      <td>0.0</td>\n    </tr>\n    <tr>\n      <th>3393</th>\n      <td>3571</td>\n      <td>3224.0</td>\n      <td>0.0</td>\n      <td>0.0</td>\n      <td>0.0</td>\n      <td>222.0</td>\n    </tr>\n  </tbody>\n</table>\n</div>"
     },
     "execution_count": 66,
     "metadata": {},
     "output_type": "execute_result"
    }
   ],
   "source": [
    "# Merge with 'account_id_df' to ensure all accounts are represented\n",
    "order = pd.merge(account[[\"account_id\"]], order, on=\"account_id\", how=\"left\")\n",
    "\n",
    "# After merging, fill missing values that may have been introduced\n",
    "order[\"k_symbol\"] = order[\"k_symbol\"].fillna(\"unknown\")\n",
    "order[\"amount\"] = order[\"amount\"].fillna(0)\n",
    "order[\"has_order\"] = ~order.isna().any(axis=1)\n",
    "\n",
    "orders_pivot = order.pivot_table(\n",
    "    index=\"account_id\", columns=\"k_symbol\", values=\"amount\", aggfunc=\"sum\", observed=False\n",
    ")\n",
    "\n",
    "# Add prefix to column names\n",
    "orders_pivot.columns = orders_pivot.columns\n",
    "\n",
    "orders_pivot = orders_pivot.reset_index()\n",
    "\n",
    "# NaN to 0\n",
    "orders_pivot = orders_pivot.fillna(0)\n",
    "# Sample 5 random rows from the merged DataFrame\n",
    "orders_pivot.sample(n=5)"
   ],
   "metadata": {
    "collapsed": false,
    "ExecuteTime": {
     "end_time": "2024-05-07T13:35:17.104753Z",
     "start_time": "2024-05-07T13:35:17.052614Z"
    }
   },
   "id": "44f27b3daebdf8cf",
   "execution_count": 66
  },
  {
   "cell_type": "markdown",
   "source": [
    "### Empfangende Bank\n",
    "Die Verteilung der empfangenden Banken ist ziemlich ausgeglichen, wobei in 742 Observationen diese Angabe fehlt.  "
   ],
   "metadata": {
    "collapsed": false
   },
   "id": "6f333df4b3bea32c"
  },
  {
   "cell_type": "markdown",
   "source": [
    "### Empfangendes Konto\n",
    "Auch bei den empfangenden Konten scheint es keine auffällige Konzentration bei wenigen Konten zu geben und bei 742 Observationen fehlt die Angabe ebenfalls.  "
   ],
   "metadata": {
    "collapsed": false
   },
   "id": "9d2010883c1ab5d7"
  },
  {
   "cell_type": "markdown",
   "source": [
    "### Betrag\n",
    "Der Betrag bewegt sich im Bereich zwischen 0 - 14882 mit einem Mittelwert von 2943 und einem Median von 2249. Die Verteilung ist also stark rechtsschief"
   ],
   "metadata": {
    "collapsed": false
   },
   "id": "16b56cf4f19dbdc3"
  },
  {
   "cell_type": "markdown",
   "source": [
    "### Art\n",
    "Die meisten Daueraufträge sind betreffend dem Haushalt eingerichtet worden (3502), die wenigsten für Leasing (341).  "
   ],
   "metadata": {
    "collapsed": false
   },
   "id": "a9a19523421b8d0"
  },
  {
   "cell_type": "markdown",
   "source": [
    "### Korrelation & weitere Informationen\n",
    "Die Korrelation sowie weitere Informationen zu den vorhandenen Daten können aus dem [SweetViz Report](./reports/order.html) entnommen werden."
   ],
   "metadata": {
    "collapsed": false
   },
   "id": "5a4019cb3e144037"
  },
  {
   "cell_type": "code",
   "outputs": [],
   "source": [
    "# Assuming data_frames is a dictionary for storing DataFrames\n",
    "data_frames[\"order.csv\"] = orders_pivot"
   ],
   "metadata": {
    "collapsed": false,
    "ExecuteTime": {
     "end_time": "2024-05-07T13:35:17.110939Z",
     "start_time": "2024-05-07T13:35:17.106946Z"
    }
   },
   "id": "cb9c212b6b9966bd",
   "execution_count": 67
  },
  {
   "cell_type": "code",
   "outputs": [],
   "source": [
    "%%capture\n",
    "svReport_order = sv.analyze(order)\n",
    "svReport_order.show_html(filepath=\"./reports/order.html\", open_browser=False)"
   ],
   "metadata": {
    "collapsed": false,
    "ExecuteTime": {
     "end_time": "2024-05-07T13:35:22.945176Z",
     "start_time": "2024-05-07T13:35:17.113225Z"
    }
   },
   "id": "5ec3323ccf959abc",
   "execution_count": 68
  },
  {
   "cell_type": "markdown",
   "id": "685aac71a001abe2",
   "metadata": {
    "collapsed": false
   },
   "source": [
    "## Trans\n",
    "[//]: # (-.- .tabset)\n",
    "\n",
    "Der Datensatz `trans.csv` beinhaltet 1056320 Observationen mit den folgenden Informationen über die Transaktionen eines Kontos:  \n",
    "- `trans_id`: die ID der Transaktion,\n",
    "- `account_id`: die Kontonummer des ausführenden Kontos,\n",
    "- `date`: das Datum,\n",
    "- `type`: der Typ (Einzahlung, Bezug)\n",
    "- `operation`: die Art der Transaktion (Bezug Kreditkarte, Bareinzahlung, Bezug über eine andere Bank, Bezug Bar, Überweisung)\n",
    "- `amount`: der Betrag der Transaktion,\n",
    "- `balance`: der Kontostand nach ausführung der Transaktion,\n",
    "- `k_symbol`: die Klassifikation der Transaktion (Versicherungszahlung, Kontoauszug, Zinsauszahlung, Zinszahlung bei negativem Kontostand, Haushalt, Pension, Darlehensauszahlung),\n",
    "- `bank`: die empfangende Bank und \n",
    "- `account`: das empfangende Bankkonto\n"
   ]
  },
  {
   "cell_type": "code",
   "outputs": [
    {
     "name": "stdout",
     "output_type": "stream",
     "text": [
      "<class 'pandas.core.frame.DataFrame'>\n",
      "RangeIndex: 1056320 entries, 0 to 1056319\n",
      "Data columns (total 10 columns):\n",
      " #   Column      Non-Null Count    Dtype  \n",
      "---  ------      --------------    -----  \n",
      " 0   trans_id    1056320 non-null  int64  \n",
      " 1   account_id  1056320 non-null  int64  \n",
      " 2   date        1056320 non-null  object \n",
      " 3   type        1056320 non-null  object \n",
      " 4   operation   873206 non-null   object \n",
      " 5   amount      1056320 non-null  float64\n",
      " 6   balance     1056320 non-null  float64\n",
      " 7   k_symbol    574439 non-null   object \n",
      " 8   bank        273508 non-null   object \n",
      " 9   account     295389 non-null   float64\n",
      "dtypes: float64(3), int64(2), object(5)\n",
      "memory usage: 80.6+ MB\n"
     ]
    }
   ],
   "source": [
    "trans.info()"
   ],
   "metadata": {
    "collapsed": false,
    "ExecuteTime": {
     "end_time": "2024-05-07T13:35:23.241797Z",
     "start_time": "2024-05-07T13:35:22.947472Z"
    }
   },
   "id": "1c7ca17fcf4bdd93",
   "execution_count": 69
  },
  {
   "cell_type": "code",
   "outputs": [
    {
     "name": "stdout",
     "output_type": "stream",
     "text": [
      "Anzahl fehlender Werte: 2208738\n",
      "Anzahl duplizierter Einträge: 0\n"
     ]
    }
   ],
   "source": [
    "print(\"Anzahl fehlender Werte:\", sum(trans.isnull().sum()))\n",
    "print(\"Anzahl duplizierter Einträge:\", trans.duplicated().sum())"
   ],
   "metadata": {
    "collapsed": false,
    "ExecuteTime": {
     "end_time": "2024-05-07T13:35:24.586427Z",
     "start_time": "2024-05-07T13:35:23.243930Z"
    }
   },
   "id": "52f8e1684ee90e33",
   "execution_count": 70
  },
  {
   "cell_type": "markdown",
   "source": [
    "### Aufbereitung\n",
    "Die Kategorien für `type`, `operation` und `k_symbol` wurden übersetzt und die Datentypen korrigiert.  "
   ],
   "metadata": {
    "collapsed": false
   },
   "id": "e4877a71b98aed3f"
  },
  {
   "cell_type": "code",
   "execution_count": 71,
   "id": "f0764eb67d748f04",
   "metadata": {
    "collapsed": false,
    "ExecuteTime": {
     "end_time": "2024-05-07T13:35:26.212971Z",
     "start_time": "2024-05-07T13:35:24.589316Z"
    }
   },
   "outputs": [],
   "source": [
    "trans[\"date\"] = pd.to_datetime(trans[\"date\"], format=\"%y%m%d\")\n",
    "\n",
    "# Update 'type' column\n",
    "trans[\"type\"] = trans[\"type\"].replace({\"PRIJEM\": \"credit\", \"VYDAJ\": \"withdrawal\", \"VYBER\": \"withdrawal\"})\n",
    "trans[\"type\"] = trans[\"type\"].astype(\"category\")\n",
    "\n",
    "# Update 'operation' column\n",
    "trans[\"operation\"] = trans[\"operation\"].replace(\n",
    "    {\n",
    "        \"VYBER KARTOU\": \"credit card withdrawal\",\n",
    "        \"VKLAD\": \"credit in cash\",\n",
    "        \"PREVOD Z UCTU\": \"collection from another bank\",\n",
    "        \"VYBER\": \"cash withdrawal\",\n",
    "        \"PREVOD NA UCET\": \"remittance to another bank\",\n",
    "    }\n",
    ")\n",
    "trans[\"operation\"] = trans[\"operation\"].astype(\"category\")\n",
    "\n",
    "# Update 'k_symbol' column\n",
    "trans[\"k_symbol\"] = trans[\"k_symbol\"].replace(\n",
    "    {\n",
    "        \"POJISTNE\": \"insurance payment\",\n",
    "        \"SLUZBY\": \"statement payment\",\n",
    "        \"UROK\": \"interest credited\",\n",
    "        \"SANKC. UROK\": \"sanction interest if negative balance\",\n",
    "        \"SIPO\": \"household payment\",\n",
    "        \"DUCHOD\": \"pension credited\",\n",
    "        \"UVER\": \"loan payment\",\n",
    "    }\n",
    ")\n",
    "trans[\"k_symbol\"] = trans[\"k_symbol\"].astype(\"category\")\n",
    "\n",
    "# negate the amount if type is credit\n",
    "trans.loc[trans['type'] == 'withdrawal', 'amount'] = trans.loc[trans['type'] == 'withdrawal', 'amount'] * (-1)"
   ]
  },
  {
   "cell_type": "code",
   "outputs": [
    {
     "data": {
      "text/plain": "        trans_id  account_id       date        type  \\\n221798   1876569        6353 1995-10-17  withdrawal   \n424197   3662079        3995 1996-11-30      credit   \n39483     525103        1792 1994-02-12      credit   \n452625   1243929        4255 1997-01-05  withdrawal   \n281866    647778        2214 1996-02-26      credit   \n\n                           operation   amount  balance           k_symbol  \\\n221798               cash withdrawal -13700.0  42862.9                NaN   \n424197                           NaN    108.5  27656.8  interest credited   \n39483   collection from another bank   6151.0  13302.0   pension credited   \n452625               cash withdrawal  -2100.0  28434.2                NaN   \n281866                credit in cash   7800.0  21607.0                NaN   \n\n       bank     account  \n221798  NaN         NaN  \n424197  NaN         NaN  \n39483    ST  78620892.0  \n452625  NaN         NaN  \n281866  NaN         NaN  ",
      "text/html": "<div>\n<style scoped>\n    .dataframe tbody tr th:only-of-type {\n        vertical-align: middle;\n    }\n\n    .dataframe tbody tr th {\n        vertical-align: top;\n    }\n\n    .dataframe thead th {\n        text-align: right;\n    }\n</style>\n<table border=\"1\" class=\"dataframe\">\n  <thead>\n    <tr style=\"text-align: right;\">\n      <th></th>\n      <th>trans_id</th>\n      <th>account_id</th>\n      <th>date</th>\n      <th>type</th>\n      <th>operation</th>\n      <th>amount</th>\n      <th>balance</th>\n      <th>k_symbol</th>\n      <th>bank</th>\n      <th>account</th>\n    </tr>\n  </thead>\n  <tbody>\n    <tr>\n      <th>221798</th>\n      <td>1876569</td>\n      <td>6353</td>\n      <td>1995-10-17</td>\n      <td>withdrawal</td>\n      <td>cash withdrawal</td>\n      <td>-13700.0</td>\n      <td>42862.9</td>\n      <td>NaN</td>\n      <td>NaN</td>\n      <td>NaN</td>\n    </tr>\n    <tr>\n      <th>424197</th>\n      <td>3662079</td>\n      <td>3995</td>\n      <td>1996-11-30</td>\n      <td>credit</td>\n      <td>NaN</td>\n      <td>108.5</td>\n      <td>27656.8</td>\n      <td>interest credited</td>\n      <td>NaN</td>\n      <td>NaN</td>\n    </tr>\n    <tr>\n      <th>39483</th>\n      <td>525103</td>\n      <td>1792</td>\n      <td>1994-02-12</td>\n      <td>credit</td>\n      <td>collection from another bank</td>\n      <td>6151.0</td>\n      <td>13302.0</td>\n      <td>pension credited</td>\n      <td>ST</td>\n      <td>78620892.0</td>\n    </tr>\n    <tr>\n      <th>452625</th>\n      <td>1243929</td>\n      <td>4255</td>\n      <td>1997-01-05</td>\n      <td>withdrawal</td>\n      <td>cash withdrawal</td>\n      <td>-2100.0</td>\n      <td>28434.2</td>\n      <td>NaN</td>\n      <td>NaN</td>\n      <td>NaN</td>\n    </tr>\n    <tr>\n      <th>281866</th>\n      <td>647778</td>\n      <td>2214</td>\n      <td>1996-02-26</td>\n      <td>credit</td>\n      <td>credit in cash</td>\n      <td>7800.0</td>\n      <td>21607.0</td>\n      <td>NaN</td>\n      <td>NaN</td>\n      <td>NaN</td>\n    </tr>\n  </tbody>\n</table>\n</div>"
     },
     "execution_count": 72,
     "metadata": {},
     "output_type": "execute_result"
    }
   ],
   "source": [
    "# Sample 5 random rows from the DataFrame\n",
    "trans.sample(n=5)"
   ],
   "metadata": {
    "collapsed": false,
    "ExecuteTime": {
     "end_time": "2024-05-07T13:35:26.267215Z",
     "start_time": "2024-05-07T13:35:26.215739Z"
    }
   },
   "id": "4462e5f7787375e7",
   "execution_count": 72
  },
  {
   "cell_type": "markdown",
   "source": [
    "### Zeitliche Entwicklung eines Kontos"
   ],
   "metadata": {
    "collapsed": false
   },
   "id": "24ecff8af5d1294c"
  },
  {
   "cell_type": "code",
   "execution_count": 73,
   "id": "cbf71b0cbb067d8d",
   "metadata": {
    "collapsed": false,
    "ExecuteTime": {
     "end_time": "2024-05-07T13:35:26.716350Z",
     "start_time": "2024-05-07T13:35:26.269301Z"
    }
   },
   "outputs": [
    {
     "data": {
      "text/plain": "<Figure size 1000x600 with 1 Axes>",
      "image/png": "[encoded data removed]"
     },
     "metadata": {},
     "output_type": "display_data"
    }
   ],
   "source": [
    "# Plot Zeitliche Entwicklung des Konto-Saldos für die Konto nummer 19\n",
    "account_19 = trans[trans[\"account_id\"] == 19].copy()  # Create a copy of the DataFrame\n",
    "# Ensure the date column is in datetime format\n",
    "account_19[\"date\"] = pd.to_datetime(account_19[\"date\"])\n",
    "\n",
    "# Sort the values by date\n",
    "account_19 = account_19.sort_values(\"date\")\n",
    "\n",
    "plt.figure(figsize=(10, 6))\n",
    "plt.plot(account_19[\"date\"], account_19[\"balance\"])\n",
    "plt.title(\"Time evolution of balance for account number 19\")\n",
    "plt.xlabel(\"Date\")\n",
    "plt.ylabel(\"Balance\")\n",
    "plt.show()"
   ]
  },
  {
   "cell_type": "code",
   "execution_count": 74,
   "id": "dac4c92cc0cac40a",
   "metadata": {
    "collapsed": false,
    "ExecuteTime": {
     "end_time": "2024-05-07T13:35:27.138498Z",
     "start_time": "2024-05-07T13:35:26.718580Z"
    }
   },
   "outputs": [
    {
     "data": {
      "text/plain": "<Figure size 1000x600 with 1 Axes>",
      "image/png": "[encoded data removed]"
     },
     "metadata": {},
     "output_type": "display_data"
    }
   ],
   "source": [
    "# zoom the year 1995 of the plot\n",
    "account_19_1995 = account_19[account_19[\"date\"].dt.year == 1995]\n",
    "# plot it\n",
    "plt.figure(figsize=(10, 6))\n",
    "plt.plot(account_19_1995[\"date\"], account_19_1995[\"balance\"])\n",
    "plt.title(\"Time evolution of balance for account number 19 in 1995\")\n",
    "plt.xlabel(\"Date\")\n",
    "plt.ylabel(\"Balance\")\n",
    "plt.show()\n",
    "\n",
    "# Wee see that there is a steep line in 1995-10 so there are two transactions, this we have to clean."
   ]
  },
  {
   "cell_type": "markdown",
   "source": [
    "### Korrelation & weitere Informationen\n",
    "Die Korrelation sowie weitere Informationen zu den vorhandenen Daten können aus dem [SweetViz Report](./reports/trans.html) entnommen werden."
   ],
   "metadata": {
    "collapsed": false
   },
   "id": "c4dbfec39c3be6b7"
  },
  {
   "cell_type": "code",
   "outputs": [],
   "source": [
    "# Assign to a dictionary if needed (similar to list assignment in R)\n",
    "data_frames[\"trans.csv\"] = trans"
   ],
   "metadata": {
    "collapsed": false,
    "ExecuteTime": {
     "end_time": "2024-05-07T13:35:27.145113Z",
     "start_time": "2024-05-07T13:35:27.140616Z"
    }
   },
   "id": "b5d97a9f970b5b13",
   "execution_count": 75
  },
  {
   "cell_type": "code",
   "outputs": [],
   "source": [
    "%%capture\n",
    "svReport_trans = sv.analyze(trans)\n",
    "svReport_trans.show_html(filepath=\"./reports/trans.html\", open_browser=False)"
   ],
   "metadata": {
    "collapsed": false,
    "ExecuteTime": {
     "end_time": "2024-05-07T13:36:11.368209Z",
     "start_time": "2024-05-07T13:35:27.147988Z"
    }
   },
   "id": "ebcb16a7901f1ccb",
   "execution_count": 76
  },
  {
   "cell_type": "markdown",
   "id": "ba92c0948cfd049e",
   "metadata": {
    "collapsed": false
   },
   "source": [
    "# Kombinieren der Daten zu einem Modellierungsdatensatz\n",
    "Im nachfolgenden Abschnitt werden die Daten zu statischen (Kunden-) Daten und transaktionellen (Bankdienstleistungs-) Daten kombiniert um diese anschliessend zu einem Datensatz für die Modellierung zusammenzufügen.  \n",
    " \n",
    "## Stammdaten\n",
    "Die aufbereiteten Stammdaten aus den Dateien \n",
    "- `disp.csv`\n",
    "- `account.csv`\n",
    "- `client.csv`\n",
    "- `card.csv`\n",
    "- `loan.csv` \n",
    "- `order.csv`\n",
    "- `districts.csv`\n",
    "\n",
    "werden nachfolgend zu einem Datensatz kombiniert. "
   ]
  },
  {
   "cell_type": "code",
   "execution_count": 77,
   "id": "f74c80cf9f2ab467",
   "metadata": {
    "collapsed": false,
    "ExecuteTime": {
     "end_time": "2024-05-07T13:36:11.423350Z",
     "start_time": "2024-05-07T13:36:11.370424Z"
    }
   },
   "outputs": [],
   "source": [
    "# merge dataframes\n",
    "static_data = (\n",
    "    data_frames[\"disp.csv\"]\n",
    "    .merge(\n",
    "        data_frames[\"account.csv\"],\n",
    "        on=\"account_id\",\n",
    "        validate=\"1:1\",\n",
    "        how=\"left\"\n",
    "    )\n",
    "    .merge(\n",
    "        data_frames[\"client.csv\"],\n",
    "        on=\"client_id\",\n",
    "        validate=\"1:1\",\n",
    "        suffixes=(\"_account\", \"_client\"),\n",
    "        how=\"left\"\n",
    "    )\n",
    "    .merge(\n",
    "        data_frames[\"card.csv\"],\n",
    "        on=\"disp_id\",\n",
    "        validate=\"1:1\",\n",
    "        suffixes=(\"_disp\", \"_card\"),\n",
    "        how=\"left\"\n",
    "    )\n",
    "    .merge(\n",
    "        data_frames[\"loan.csv\"],\n",
    "        on=\"account_id\",\n",
    "        suffixes=(\"_account\", \"_loan\"),\n",
    "        validate=\"1:1\",\n",
    "        how=\"left\"\n",
    "    )\n",
    "    .merge(\n",
    "        data_frames[\"order.csv\"],\n",
    "        on=\"account_id\",\n",
    "        validate=\"1:1\",\n",
    "        how=\"left\"\n",
    "    )\n",
    "    .merge(\n",
    "        data_frames[\"district.csv\"].add_suffix(\"_account\"),\n",
    "        left_on=\"district_id_account\",\n",
    "        right_on=\"district_id_account\",\n",
    "        validate=\"m:1\",\n",
    "        how=\"left\"\n",
    "    )\n",
    "    .merge(\n",
    "        data_frames[\"district.csv\"].add_suffix(\"_client\"),\n",
    "        left_on=\"district_id_client\",\n",
    "        right_on=\"district_id_client\",\n",
    "        validate=\"m:1\",\n",
    "        how=\"left\"\n",
    "    )\n",
    ")"
   ]
  },
  {
   "cell_type": "code",
   "outputs": [],
   "source": [
    "static_data[\"has_card\"] = ~static_data[\"card_id\"].isna()"
   ],
   "metadata": {
    "collapsed": false,
    "ExecuteTime": {
     "end_time": "2024-05-07T13:36:11.429365Z",
     "start_time": "2024-05-07T13:36:11.425120Z"
    }
   },
   "id": "d408a1f17e7beebe",
   "execution_count": 78
  },
  {
   "cell_type": "code",
   "execution_count": 79,
   "id": "85f6406819b37664",
   "metadata": {
    "collapsed": false,
    "ExecuteTime": {
     "end_time": "2024-05-07T13:36:11.452853Z",
     "start_time": "2024-05-07T13:36:11.431738Z"
    }
   },
   "outputs": [
    {
     "name": "stdout",
     "output_type": "stream",
     "text": [
      "<class 'pandas.core.frame.DataFrame'>\n",
      "RangeIndex: 4500 entries, 0 to 4499\n",
      "Data columns (total 56 columns):\n",
      " #   Column                                  Non-Null Count  Dtype         \n",
      "---  ------                                  --------------  -----         \n",
      " 0   disp_id                                 4500 non-null   int64         \n",
      " 1   client_id                               4500 non-null   int64         \n",
      " 2   account_id                              4500 non-null   int64         \n",
      " 3   type_disp                               4500 non-null   category      \n",
      " 4   district_id_account                     4500 non-null   int64         \n",
      " 5   frequency                               4500 non-null   category      \n",
      " 6   date_account                            4500 non-null   datetime64[ns]\n",
      " 7   district_id_client                      4500 non-null   int64         \n",
      " 8   gender                                  4500 non-null   category      \n",
      " 9   birth_day                               4500 non-null   datetime64[ns]\n",
      " 10  age                                     4500 non-null   int64         \n",
      " 11  card_id                                 892 non-null    float64       \n",
      " 12  type_card                               892 non-null    category      \n",
      " 13  issued                                  892 non-null    datetime64[ns]\n",
      " 14  loan_id                                 682 non-null    float64       \n",
      " 15  date_loan                               682 non-null    datetime64[ns]\n",
      " 16  amount                                  682 non-null    float64       \n",
      " 17  duration                                682 non-null    float64       \n",
      " 18  payments                                682 non-null    float64       \n",
      " 19  status                                  682 non-null    category      \n",
      " 20  household                               4500 non-null   float64       \n",
      " 21  insurance_payment                       4500 non-null   float64       \n",
      " 22  leasing                                 4500 non-null   float64       \n",
      " 23  loan_payment                            4500 non-null   float64       \n",
      " 24  unknown                                 4500 non-null   float64       \n",
      " 25  district_name_account                   4500 non-null   category      \n",
      " 26  region_account                          4500 non-null   category      \n",
      " 27  num_of_habitat_account                  4500 non-null   int64         \n",
      " 28  num_of_small_town_account               4500 non-null   int64         \n",
      " 29  num_of_medium_town_account              4500 non-null   int64         \n",
      " 30  num_of_big_town_account                 4500 non-null   int64         \n",
      " 31  num_of_bigger_town_account              4500 non-null   int64         \n",
      " 32  num_of_city_account                     4500 non-null   int64         \n",
      " 33  ratio_of_urban_account                  4500 non-null   float64       \n",
      " 34  average_salary_account                  4500 non-null   int64         \n",
      " 35  unemploy_rate95_account                 4500 non-null   float64       \n",
      " 36  unemploy_rate96_account                 4500 non-null   float64       \n",
      " 37  n_of_enterpren_per1000_inhabit_account  4500 non-null   int64         \n",
      " 38  no_of_crimes95_account                  4500 non-null   float64       \n",
      " 39  no_of_crimes96_account                  4500 non-null   int64         \n",
      " 40  district_name_client                    4500 non-null   category      \n",
      " 41  region_client                           4500 non-null   category      \n",
      " 42  num_of_habitat_client                   4500 non-null   int64         \n",
      " 43  num_of_small_town_client                4500 non-null   int64         \n",
      " 44  num_of_medium_town_client               4500 non-null   int64         \n",
      " 45  num_of_big_town_client                  4500 non-null   int64         \n",
      " 46  num_of_bigger_town_client               4500 non-null   int64         \n",
      " 47  num_of_city_client                      4500 non-null   int64         \n",
      " 48  ratio_of_urban_client                   4500 non-null   float64       \n",
      " 49  average_salary_client                   4500 non-null   int64         \n",
      " 50  unemploy_rate95_client                  4500 non-null   float64       \n",
      " 51  unemploy_rate96_client                  4500 non-null   float64       \n",
      " 52  n_of_enterpren_per1000_inhabit_client   4500 non-null   int64         \n",
      " 53  no_of_crimes95_client                   4500 non-null   float64       \n",
      " 54  no_of_crimes96_client                   4500 non-null   int64         \n",
      " 55  has_card                                4500 non-null   bool          \n",
      "dtypes: bool(1), category(9), datetime64[ns](4), float64(18), int64(24)\n",
      "memory usage: 1.6 MB\n"
     ]
    }
   ],
   "source": [
    "static_data.info()"
   ]
  },
  {
   "cell_type": "code",
   "outputs": [
    {
     "name": "stdout",
     "output_type": "stream",
     "text": [
      "Anzahl duplizierter Einträge: 0\n"
     ]
    }
   ],
   "source": [
    "print(\"Anzahl duplizierter Einträge:\", static_data.duplicated().sum())"
   ],
   "metadata": {
    "collapsed": false,
    "ExecuteTime": {
     "end_time": "2024-05-07T13:36:11.473021Z",
     "start_time": "2024-05-07T13:36:11.454704Z"
    }
   },
   "id": "3a5a5f311a371980",
   "execution_count": 80
  },
  {
   "cell_type": "code",
   "execution_count": 81,
   "id": "785914b000d4ad2e",
   "metadata": {
    "collapsed": false,
    "ExecuteTime": {
     "end_time": "2024-05-07T13:36:11.479870Z",
     "start_time": "2024-05-07T13:36:11.475434Z"
    }
   },
   "outputs": [],
   "source": [
    "## Junior Cards removal\n",
    "# In the advertising campaign, we do not want to promote children's/junior cards (for whatever reasons). First, I looked at the distribution of age at issuance. Here I see that there are not many junior cards, nor are the cards issued at a late age.\n",
    "# # Filter rows where 'card_type' contains 'junior' (case insensitive)\n",
    "# junior_cards = static_data[\n",
    "#     static_data[\"type_card\"].str.contains(\"junior\", case=False, na=False)\n",
    "# ]\n",
    "# \n",
    "# display(junior_cards)\n",
    "# \n",
    "# # Calculate age at issue\n",
    "# junior_cards[\"age_at_issue\"] = (\n",
    "#                                        junior_cards[\"issued_card\"] - junior_cards[\"birth_day_client\"]\n",
    "#                                ).dt.days // 365\n",
    "# \n",
    "# # Plot histogram\n",
    "# plt.figure(figsize=(10, 6))\n",
    "# sns.histplot(data=junior_cards, x=\"age_at_issue\", bins=20)\n",
    "# plt.title(\"Age distribution at issue date of junior cards\")\n",
    "# plt.xlabel(\"Age at issue date\")\n",
    "# plt.ylabel(\"Number of cards\")\n",
    "# plt.show()"
   ]
  },
  {
   "cell_type": "code",
   "execution_count": 82,
   "id": "97143241bdb84fa4",
   "metadata": {
    "collapsed": false,
    "ExecuteTime": {
     "end_time": "2024-05-07T13:36:11.506161Z",
     "start_time": "2024-05-07T13:36:11.502408Z"
    }
   },
   "outputs": [],
   "source": [
    "# num_accounts_before = len(static_data)\n",
    "# # Filter rows where 'card_type' does not contain 'junior' (case insensitive)\n",
    "# non_transactional_data = static_data[\n",
    "#     ~static_data[\"type_card\"].str.contains(\"junior\", case=False, na=False)\n",
    "# ]\n",
    "# num_accounts_after = len(non_transactional_data)\n",
    "# num_junior_cards = num_accounts_before - num_accounts_after\n",
    "# print(f\"Number of junior cards removed: {num_junior_cards}\")"
   ]
  },
  {
   "cell_type": "markdown",
   "source": [
    "## Bewegungsdaten"
   ],
   "metadata": {
    "collapsed": false
   },
   "id": "c6b60e54a6752438"
  },
  {
   "cell_type": "code",
   "outputs": [
    {
     "data": {
      "text/plain": "        trans_id  account_id       date    type       operation  amount  \\\n148637     44703         150 1995-03-16  credit  credit in cash   900.0   \n148638     44714         150 1995-03-16  credit  credit in cash  1900.0   \n\n        balance k_symbol bank  account  \n148637   2800.0      NaN  NaN      NaN  \n148638   1900.0      NaN  NaN      NaN  ",
      "text/html": "<div>\n<style scoped>\n    .dataframe tbody tr th:only-of-type {\n        vertical-align: middle;\n    }\n\n    .dataframe tbody tr th {\n        vertical-align: top;\n    }\n\n    .dataframe thead th {\n        text-align: right;\n    }\n</style>\n<table border=\"1\" class=\"dataframe\">\n  <thead>\n    <tr style=\"text-align: right;\">\n      <th></th>\n      <th>trans_id</th>\n      <th>account_id</th>\n      <th>date</th>\n      <th>type</th>\n      <th>operation</th>\n      <th>amount</th>\n      <th>balance</th>\n      <th>k_symbol</th>\n      <th>bank</th>\n      <th>account</th>\n    </tr>\n  </thead>\n  <tbody>\n    <tr>\n      <th>148637</th>\n      <td>44703</td>\n      <td>150</td>\n      <td>1995-03-16</td>\n      <td>credit</td>\n      <td>credit in cash</td>\n      <td>900.0</td>\n      <td>2800.0</td>\n      <td>NaN</td>\n      <td>NaN</td>\n      <td>NaN</td>\n    </tr>\n    <tr>\n      <th>148638</th>\n      <td>44714</td>\n      <td>150</td>\n      <td>1995-03-16</td>\n      <td>credit</td>\n      <td>credit in cash</td>\n      <td>1900.0</td>\n      <td>1900.0</td>\n      <td>NaN</td>\n      <td>NaN</td>\n      <td>NaN</td>\n    </tr>\n  </tbody>\n</table>\n</div>"
     },
     "execution_count": 96,
     "metadata": {},
     "output_type": "execute_result"
    }
   ],
   "source": [
    "# select all transactions from trans from date 1995-03-16 and account_id 150\n",
    "trans[(trans['date'] == '1995-03-16') & (trans['account_id'] == 150)]"
   ],
   "metadata": {
    "collapsed": false,
    "ExecuteTime": {
     "end_time": "2024-05-08T08:50:40.675727Z",
     "start_time": "2024-05-08T08:50:40.638815Z"
    }
   },
   "id": "59150a0d30866e00",
   "execution_count": 96
  },
  {
   "cell_type": "code",
   "outputs": [],
   "source": [
    "# sort dataframe trans by account_id and date\n",
    "first_row_per_account = trans.groupby('account_id')\n",
    "\n",
    "# select rows where amount == balance\n",
    "first_row_per_account = first_row_per_account.apply(lambda x: x[x['amount'] == x['balance']].iloc[0],\n",
    "                                                    include_groups=False).reset_index()"
   ],
   "metadata": {
    "collapsed": false,
    "ExecuteTime": {
     "end_time": "2024-05-08T09:02:40.290996Z",
     "start_time": "2024-05-08T09:02:32.258306Z"
    }
   },
   "id": "e1b3f21905cb45f",
   "execution_count": 107
  },
  {
   "cell_type": "code",
   "outputs": [
    {
     "data": {
      "text/plain": "True"
     },
     "execution_count": 110,
     "metadata": {},
     "output_type": "execute_result"
    }
   ],
   "source": [
    "# show that there's one row per unique account_id in trans\n",
    "first_row_per_account['account_id'].nunique() == trans['account_id'].nunique()"
   ],
   "metadata": {
    "collapsed": false,
    "ExecuteTime": {
     "end_time": "2024-05-08T09:03:09.706471Z",
     "start_time": "2024-05-08T09:03:09.682560Z"
    }
   },
   "id": "2a8aaefee2cb47e5",
   "execution_count": 110
  },
  {
   "cell_type": "code",
   "outputs": [
    {
     "data": {
      "text/plain": "Empty DataFrame\nColumns: [account_id, trans_id, date, type, operation, amount, balance, k_symbol, bank, account]\nIndex: []",
      "text/html": "<div>\n<style scoped>\n    .dataframe tbody tr th:only-of-type {\n        vertical-align: middle;\n    }\n\n    .dataframe tbody tr th {\n        vertical-align: top;\n    }\n\n    .dataframe thead th {\n        text-align: right;\n    }\n</style>\n<table border=\"1\" class=\"dataframe\">\n  <thead>\n    <tr style=\"text-align: right;\">\n      <th></th>\n      <th>account_id</th>\n      <th>trans_id</th>\n      <th>date</th>\n      <th>type</th>\n      <th>operation</th>\n      <th>amount</th>\n      <th>balance</th>\n      <th>k_symbol</th>\n      <th>bank</th>\n      <th>account</th>\n    </tr>\n  </thead>\n  <tbody>\n  </tbody>\n</table>\n</div>"
     },
     "execution_count": 111,
     "metadata": {},
     "output_type": "execute_result"
    }
   ],
   "source": [
    "first_row_per_account.query(\"amount != balance\")"
   ],
   "metadata": {
    "collapsed": false,
    "ExecuteTime": {
     "end_time": "2024-05-08T09:03:25.330548Z",
     "start_time": "2024-05-08T09:03:25.315234Z"
    }
   },
   "id": "36f2fd6e86565071",
   "execution_count": 111
  },
  {
   "cell_type": "code",
   "outputs": [],
   "source": [
    "# Extract year and month from date to a new column 'year_month'\n",
    "trans['year_month'] = trans['date'].dt.to_period('M')\n",
    "\n",
    "# Group by 'account_id' and 'month', and calculate the sum of 'amount', 'credit', 'withdrawal' and 'n_transactions'\n",
    "transactions_monthly = trans.groupby(['account_id', 'year_month']).agg(\n",
    "    volume=('amount', 'sum'),\n",
    "    credit=('amount', lambda x: x[x > 0].sum()),\n",
    "    withdrawal=('amount', lambda x: x[x < 0].sum()),\n",
    "    n_transactions=('amount', 'count')\n",
    ").reset_index()\n",
    "\n",
    "# Fill missing months for each account\n",
    "transactions_monthly = transactions_monthly.set_index(['year_month', 'account_id']).unstack(\n",
    "    fill_value=0).stack(future_stack=True).reset_index()\n",
    "\n",
    "# Calculate cumulative sum of 'volume' for each account\n",
    "transactions_monthly['balance'] = transactions_monthly.groupby('account_id')['volume'].cumsum()"
   ],
   "metadata": {
    "collapsed": false,
    "ExecuteTime": {
     "end_time": "2024-05-08T09:05:23.087661Z",
     "start_time": "2024-05-08T09:03:38.841655Z"
    }
   },
   "id": "3cea766dddfcdd3b",
   "execution_count": 112
  },
  {
   "cell_type": "code",
   "outputs": [],
   "source": [
    "def rollup_credit_card(trans_monthly, account_card_issue_dates):\n",
    "    # Ensure the 'issued' column in account_card_issue_dates is in datetime format\n",
    "    account_card_issue_dates['issued'] = pd.to_datetime(account_card_issue_dates['issued'])\n",
    "\n",
    "    # Add issue date and calculate months since card issue\n",
    "    trans_monthly = pd.merge(trans_monthly, account_card_issue_dates, on='account_id')\n",
    "    trans_monthly['months_before_card_issue'] = (trans_monthly['year_month'].dt.to_timestamp() -\n",
    "                                                 trans_monthly['issued']).dt.days // 30\n",
    "\n",
    "    # Select eligible account_ids (with 13 months history)\n",
    "    trans_monthly = trans_monthly[(trans_monthly['months_before_card_issue'] > 0) & (\n",
    "            trans_monthly['months_before_card_issue'] <= 13)]\n",
    "\n",
    "    # Filter out account_ids that do not have 13 months of history\n",
    "    trans_monthly = trans_monthly[\n",
    "        trans_monthly.groupby('account_id')['account_id'].transform('count') == 13]\n",
    "\n",
    "    # Pivot wider\n",
    "    trans_monthly = trans_monthly.pivot_table(index='account_id',\n",
    "                                              columns='months_before_card_issue',\n",
    "                                              values=['volume',\n",
    "                                                      'credit',\n",
    "                                                      'withdrawal',\n",
    "                                                      'n_transactions',\n",
    "                                                      'balance'])\n",
    "\n",
    "    return trans_monthly"
   ],
   "metadata": {
    "collapsed": false,
    "ExecuteTime": {
     "end_time": "2024-05-08T09:23:48.155719Z",
     "start_time": "2024-05-08T09:23:48.149533Z"
    }
   },
   "id": "946f9ba802fc5c0d",
   "execution_count": 128
  },
  {
   "cell_type": "code",
   "outputs": [],
   "source": [
    "card_issue_date = static_data[static_data['has_card']].loc[:, ['account_id', 'issued']]\n",
    "\n",
    "transactions_monthly_card_buyers_rolled_up = rollup_credit_card(transactions_monthly, card_issue_date)"
   ],
   "metadata": {
    "collapsed": false,
    "ExecuteTime": {
     "end_time": "2024-05-08T09:23:52.203255Z",
     "start_time": "2024-05-08T09:23:52.110809Z"
    }
   },
   "id": "60b5fa0f4ece2353",
   "execution_count": 129
  },
  {
   "cell_type": "markdown",
   "source": [
    "## Zusammenfügen der Daten"
   ],
   "metadata": {
    "collapsed": false
   },
   "id": "73ff09b8a5ed723c"
  },
  {
   "cell_type": "code",
   "execution_count": 130,
   "id": "5165225a8f732e41",
   "metadata": {
    "collapsed": false,
    "ExecuteTime": {
     "end_time": "2024-05-08T09:30:40.846603Z",
     "start_time": "2024-05-08T09:30:39.330063Z"
    }
   },
   "outputs": [],
   "source": [
    "%%capture\n",
    "import subprocess\n",
    "import pathlib\n",
    "\n",
    "try:\n",
    "    file_path = pathlib.Path(os.path.basename(__file__))\n",
    "except:\n",
    "    file_path = pathlib.Path(\"AML_MC.ipynb\")\n",
    "\n",
    "# Check the file extension\n",
    "if file_path.suffix == \".py\":\n",
    "    # If it's a Python script, convert it to a notebook\n",
    "    try:\n",
    "        subprocess.check_output([\"jupytext\", \"--to\", \"notebook\", str(file_path)])\n",
    "        print(\"Converted to notebook.\")\n",
    "    except subprocess.CalledProcessError as e:\n",
    "        print(\"Conversion failed. Error message:\", e.output)\n",
    "elif file_path.suffix == \".ipynb\":\n",
    "    # If it's a notebook, convert it to a Python script with cell markers\n",
    "    try:\n",
    "        subprocess.check_output([\"jupytext\", \"--to\", \"py:percent\", str(file_path)])\n",
    "        print(\"Converted to Python script.\")\n",
    "    except subprocess.CalledProcessError as e:\n",
    "        print(\"Conversion failed. Error message:\", e.output)\n",
    "else:\n",
    "    print(\"Unsupported file type.\")"
   ]
  },
  {
   "cell_type": "code",
   "execution_count": null,
   "id": "a3657d600f2fb502",
   "metadata": {
    "collapsed": false
   },
   "outputs": [],
   "source": [
    "# Update html output\n",
    "# jupyter nbconvert --to html --template pj AML_MC.ipynb"
   ]
  },
  {
   "cell_type": "markdown",
   "source": [
    "# Referenzen\n",
    "- [1] [Applied Predictive Modelling](http://link.springer.com/10.1007/978-1-4614-6849-3)"
   ],
   "metadata": {
    "collapsed": false
   },
   "id": "1b606901189a1f2c"
  }
 ],
 "metadata": {
  "jupytext": {
   "cell_metadata_filter": "-all",
   "main_language": "python",
   "notebook_metadata_filter": "-all"
  },
  "kernelspec": {
   "display_name": "Python 3 (ipykernel)",
   "language": "python",
   "name": "python3"
  },
  "language_info": {
   "codemirror_mode": {
    "name": "ipython",
    "version": 3
   },
   "file_extension": ".py",
   "mimetype": "text/x-python",
   "name": "python",
   "nbconvert_exporter": "python",
   "pygments_lexer": "ipython3",
   "version": "3.12.3"
  }
 },
 "nbformat": 4,
 "nbformat_minor": 5
}
